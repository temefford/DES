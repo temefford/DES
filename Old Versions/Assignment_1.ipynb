{
 "cells": [
  {
   "cell_type": "markdown",
   "id": "a926010a",
   "metadata": {
    "toc": true
   },
   "source": [
    "<h1>Table of Contents<span class=\"tocSkip\"></span></h1>\n",
    "<div class=\"toc\"><ul class=\"toc-item\"><li><span><a href=\"#Independent-Study:--Discrete-Event-Simulation\" data-toc-modified-id=\"Independent-Study:--Discrete-Event-Simulation-1\"><span class=\"toc-item-num\">1&nbsp;&nbsp;</span>Independent Study:  Discrete Event Simulation</a></span><ul class=\"toc-item\"><li><span><a href=\"#Background\" data-toc-modified-id=\"Background-1.1\"><span class=\"toc-item-num\">1.1&nbsp;&nbsp;</span>Background</a></span></li><li><span><a href=\"#Exercises\" data-toc-modified-id=\"Exercises-1.2\"><span class=\"toc-item-num\">1.2&nbsp;&nbsp;</span>Exercises</a></span><ul class=\"toc-item\"><li><span><a href=\"#SIMPLEST-CASE:--Build-a-model-to-represent-the-following-queueing-system-(with-all-parameters-set-up-to-be-easily-modified):\" data-toc-modified-id=\"SIMPLEST-CASE:--Build-a-model-to-represent-the-following-queueing-system-(with-all-parameters-set-up-to-be-easily-modified):-1.2.1\"><span class=\"toc-item-num\">1.2.1&nbsp;&nbsp;</span>SIMPLEST CASE:  Build a model to represent the following queueing system (with all parameters set up to be easily modified):</a></span></li></ul></li><li><span><a href=\"#ADDING-TIME-DEPENDENCY:-Starting-with-your-model-from-(1),-and-update-it-as-follows:\" data-toc-modified-id=\"ADDING-TIME-DEPENDENCY:-Starting-with-your-model-from-(1),-and-update-it-as-follows:-1.3\"><span class=\"toc-item-num\">1.3&nbsp;&nbsp;</span>ADDING TIME DEPENDENCY: Starting with your model from (1), and update it as follows:</a></span></li></ul></li><li><span><a href=\"#Setup\" data-toc-modified-id=\"Setup-2\"><span class=\"toc-item-num\">2&nbsp;&nbsp;</span>Setup</a></span><ul class=\"toc-item\"><li><span><a href=\"#Library-import\" data-toc-modified-id=\"Library-import-2.1\"><span class=\"toc-item-num\">2.1&nbsp;&nbsp;</span>Library import</a></span></li></ul></li><li><span><a href=\"#Exercises\" data-toc-modified-id=\"Exercises-3\"><span class=\"toc-item-num\">3&nbsp;&nbsp;</span>Exercises</a></span><ul class=\"toc-item\"><li><span><a href=\"#Simplest-Case\" data-toc-modified-id=\"Simplest-Case-3.1\"><span class=\"toc-item-num\">3.1&nbsp;&nbsp;</span>Simplest Case</a></span></li><li><span><a href=\"#Simplest-Case\" data-toc-modified-id=\"Simplest-Case-3.2\"><span class=\"toc-item-num\">3.2&nbsp;&nbsp;</span>Simplest Case</a></span></li><li><span><a href=\"#Time-dependent-multi-agent-case\" data-toc-modified-id=\"Time-dependent-multi-agent-case-3.3\"><span class=\"toc-item-num\">3.3&nbsp;&nbsp;</span>Time dependent multi-agent case</a></span></li><li><span><a href=\"#Scratch-Work\" data-toc-modified-id=\"Scratch-Work-3.4\"><span class=\"toc-item-num\">3.4&nbsp;&nbsp;</span>Scratch Work</a></span></li><li><span><a href=\"#Statistical-Analysis\" data-toc-modified-id=\"Statistical-Analysis-3.5\"><span class=\"toc-item-num\">3.5&nbsp;&nbsp;</span>Statistical Analysis</a></span><ul class=\"toc-item\"><li><span><a href=\"#Agent-Utilization\" data-toc-modified-id=\"Agent-Utilization-3.5.1\"><span class=\"toc-item-num\">3.5.1&nbsp;&nbsp;</span>Agent Utilization</a></span></li><li><span><a href=\"#Time-in-Queue\" data-toc-modified-id=\"Time-in-Queue-3.5.2\"><span class=\"toc-item-num\">3.5.2&nbsp;&nbsp;</span>Time in Queue</a></span></li><li><span><a href=\"#Time-in-System\" data-toc-modified-id=\"Time-in-System-3.5.3\"><span class=\"toc-item-num\">3.5.3&nbsp;&nbsp;</span>Time in System</a></span></li></ul></li></ul></li><li><span><a href=\"#References\" data-toc-modified-id=\"References-4\"><span class=\"toc-item-num\">4&nbsp;&nbsp;</span>References</a></span></li></ul></div>"
   ]
  },
  {
   "cell_type": "markdown",
   "id": "fcaa8da0",
   "metadata": {},
   "source": [
    "# Independent Study:  Discrete Event Simulation\n",
    "__Professor Vijay Mehrotra \\\n",
    "Theodore Mefford \\\n",
    "University of San Francisco \\\n",
    "Assignment #1:  Initial Simulation Models__\n",
    "## Background\n",
    "There are several goals for these initial assignments:\n",
    "\n",
    "- Solidify your understanding of the basic concepts associated with discrete-event simulation modeling and metrics\n",
    "- Enable you to gain experience with building simulation models in the Python environment using SimPy and/or other libraries, capturing system performance data, and analyzing results\n",
    "- Develop your ideas for building mor complex future simulations relevant for our operational research with vRad\n",
    "\n",
    "The structure of these initial assignment is to begin with relatively simple scenarios and then to add additional dimensions and complexity (time-dependent system parameters, multiple customer types, multiple agent types, more elaborate routing rules, etc). \n",
    "\n",
    "The target date for completing this assignment is Friday, September 24\n",
    "\n",
    "Please let me know if you have any questions at all. \n",
    "\n",
    "\n",
    "## Exercises\n",
    "### SIMPLEST CASE:  Build a model to represent the following queueing system (with all parameters set up to be easily modified):\n",
    "- Simulation Parameters:\n",
    "- Duration:  \t8 simulated hours\n",
    "- Iterations: \t100\n",
    "\n",
    "- Arrivals:  a single Customer Type with arrivals following a Poisson Process (mean time between arrivals is an exponential distribution with a mean of 2 minutes)\n",
    "\n",
    "- Server:  A single Agent that serves these customers on a First-Come-First-Served basis,, with processing times following an exponential distribution with a mean of 1.5 minutes.\n",
    "\n",
    "- Output Data to Capture:  For each customer that enters the system, capture the iteration number, the time of arrival, the time at which service is initiated, the time at which service is completed.  \n",
    "\n",
    "- For the single Agent in the system, track the length of each idle period (which concludes when the Agent begins serving a customer) and the length of each busy period (which concludes when the Agent finishes serving a customer at a time when there are no other customers in queue). \n",
    "\n",
    "- Output Statistics to Report:  \n",
    "\n",
    "- Agent Utilization:  (Sum of the duration of busy intervals) / \n",
    "- Total Simulation Length)\n",
    "\n",
    "- Time in Queue: (Time of Service Initiation – Time of Arrival into System)\n",
    "Mean \n",
    "Histogram\n",
    "\n",
    "- Time in System:  (Time of Service Completion – Time of Arrival into System)\n",
    "Mean \n",
    "Histogram\n",
    "\n",
    "NOTE:  Organize your output data so that you can report these statistics for individual iterations and overall across all simulations. \n",
    "\n",
    "## ADDING TIME DEPENDENCY: Starting with your model from (1), and update it as follows:\n",
    "- Arrivals:  a single Customer Type that arrives following a Poisson Process, with the mean time between arrivals being an exponential distribution that varies by hour:  { 2 min, 1.6 minutes, 1.3 minute, 1.05 minutes, 1 minute, 1.1 minutes, 1.4 minutes, 1.8 minutes } \n",
    "\n",
    "- Servers:  A group of Agents that serves these customers on a First-Come-First-Served basis, with processing times following an exponential distribution with a mean of 90 seconds. The number of agents in the group varies over time:  { 1, 1, 2, 2, 3,3, 2, 2 } \n",
    "\n",
    "- Output Data to Capture:  For each customer that enters the system, capture the iteration number, the time of arrival, the time at which service is initiated, the time at which service is completed.  \n",
    "\n",
    "- For each Agent in the system, track the length of each idle period (which concludes when the Agent begins serving a customer) and the length of each busy period (which concludes when the Agent finishes serving a customer at a time when there are no other customers in queue). \n",
    "\n",
    "- Output Statistics to Report:  \n",
    "\n",
    "- Agent Utilization:  (Sum of the duration of busy intervals) / \n",
    "(Period Length * Number of Agents Staffed During Period)\n",
    "\n",
    "- Time in Queue: (Time of Service Initiation – Time of Arrival into System)\n",
    "Mean \n",
    "Histogram\n",
    "\n",
    "- Time in System:  (Time of Service Completion – Time of Arrival into System)\n",
    "Mean \n",
    "Histogram\n",
    "\n",
    "NOTE:  Organize your output data so that you can report these statistics for individual time periods, individual iterations, and overall across all iterations. \n"
   ]
  },
  {
   "cell_type": "markdown",
   "id": "27956dab",
   "metadata": {},
   "source": [
    "# Setup\n",
    "\n",
    "## Library import\n",
    "We import all the required Python libraries"
   ]
  },
  {
   "cell_type": "code",
   "execution_count": 56,
   "id": "3d80cdac",
   "metadata": {
    "ExecuteTime": {
     "end_time": "2021-09-16T01:24:35.827498Z",
     "start_time": "2021-09-16T01:24:35.748500Z"
    }
   },
   "outputs": [],
   "source": [
    "# Data manipulation\n",
    "import pandas as pd\n",
    "import numpy as np\n",
    "import simpy\n",
    "\n",
    "# Options for pandas\n",
    "pd.options.display.max_columns = 50\n",
    "pd.options.display.max_rows = 30\n",
    "\n",
    "# Visualizations\n",
    "\n",
    "import matplotlib.pyplot as plt\n"
   ]
  },
  {
   "cell_type": "markdown",
   "id": "6e46ad2f",
   "metadata": {
    "ExecuteTime": {
     "end_time": "2021-09-14T04:54:38.282889Z",
     "start_time": "2021-09-14T04:54:38.216376Z"
    }
   },
   "source": [
    "# Exercises"
   ]
  },
  {
   "cell_type": "markdown",
   "id": "c8715d37",
   "metadata": {},
   "source": [
    "## Simplest Case with SimPy"
   ]
  },
  {
   "cell_type": "code",
   "execution_count": 3,
   "id": "02d48a12",
   "metadata": {},
   "outputs": [],
   "source": [
    "#Our resource in this case is the agent\n",
    "env = simpy.Environment()\n",
    "agent = simpy.Resource(env, capacity=1)"
   ]
  },
  {
   "cell_type": "code",
   "execution_count": 4,
   "id": "803da148",
   "metadata": {},
   "outputs": [],
   "source": [
    "def customer(env, name, agent, time_to_arrival, time_with_agent, customer_data):\n",
    "     # Simulate customer arriving\n",
    "    yield env.timeout(time_to_arrival)\n",
    "\n",
    "     # Request an agent\n",
    "    print('%s requests an agent at %d' % (name, env.now))\n",
    "    gets_there = env.now\n",
    "    with agent.request() as req:\n",
    "        yield req\n",
    "\n",
    "         # Work with the agent\n",
    "        print('%s sees agent at %s' % (name, env.now))\n",
    "        works_with = env.now\n",
    "        yield env.timeout(time_with_agent)\n",
    "        print('%s leaves the agent at %s' % (name, env.now))\n",
    "        leaves = env.now\n",
    "        customer_data[name] = [gets_there, works_with, leaves, time_with_agent]"
   ]
  },
  {
   "cell_type": "code",
   "execution_count": null,
   "id": "3c85787c",
   "metadata": {},
   "outputs": [],
   "source": []
  },
  {
   "cell_type": "code",
   "execution_count": 6,
   "id": "c2c772ea",
   "metadata": {},
   "outputs": [],
   "source": [
    "#Create the Customer arrival times, time and the processes\n",
    "customer_data = {}\n",
    "arrival_times = []\n",
    "times_with_agent = [np.random.exponential(2) for i in range(100)]\n",
    "time = 0\n",
    "for i in range(300):\n",
    "    time += np.random.exponential(2)\n",
    "    arrival_times.append(time)\n",
    "for i in range(300):\n",
    "    env.process(customer(env, 'Customer %d' % i, agent, arrival_times[i], np.random.exponential(2), customer_data))"
   ]
  },
  {
   "cell_type": "code",
   "execution_count": 7,
   "id": "2cbc6ff1",
   "metadata": {},
   "outputs": [
    {
     "name": "stdout",
     "output_type": "stream",
     "text": [
      "Customer 0 requests an agent at 0\n",
      "Customer 0 sees agent at 0.5444549213641916\n",
      "Customer 1 requests an agent at 3\n",
      "Customer 0 leaves the agent at 3.283152946334625\n",
      "Customer 1 sees agent at 3.283152946334625\n",
      "Customer 1 leaves the agent at 3.8103888511862336\n",
      "Customer 2 requests an agent at 6\n",
      "Customer 2 sees agent at 6.438248073692745\n",
      "Customer 3 requests an agent at 7\n",
      "Customer 2 leaves the agent at 8.241128837409939\n",
      "Customer 3 sees agent at 8.241128837409939\n",
      "Customer 4 requests an agent at 8\n",
      "Customer 5 requests an agent at 9\n",
      "Customer 3 leaves the agent at 10.775217707381241\n",
      "Customer 4 sees agent at 10.775217707381241\n",
      "Customer 4 leaves the agent at 15.421276210540793\n",
      "Customer 5 sees agent at 15.421276210540793\n",
      "Customer 6 requests an agent at 16\n",
      "Customer 7 requests an agent at 18\n",
      "Customer 8 requests an agent at 18\n",
      "Customer 9 requests an agent at 19\n",
      "Customer 10 requests an agent at 20\n",
      "Customer 5 leaves the agent at 21.200021843215968\n",
      "Customer 6 sees agent at 21.200021843215968\n",
      "Customer 11 requests an agent at 24\n",
      "Customer 12 requests an agent at 24\n",
      "Customer 6 leaves the agent at 25.85891660956871\n",
      "Customer 7 sees agent at 25.85891660956871\n",
      "Customer 7 leaves the agent at 26.375798366131956\n",
      "Customer 8 sees agent at 26.375798366131956\n",
      "Customer 13 requests an agent at 26\n",
      "Customer 14 requests an agent at 28\n",
      "Customer 8 leaves the agent at 28.50198521559506\n",
      "Customer 9 sees agent at 28.50198521559506\n",
      "Customer 9 leaves the agent at 28.568621242639583\n",
      "Customer 10 sees agent at 28.568621242639583\n",
      "Customer 10 leaves the agent at 28.822341295721998\n",
      "Customer 11 sees agent at 28.822341295721998\n",
      "Customer 15 requests an agent at 30\n",
      "Customer 11 leaves the agent at 31.088822447095033\n",
      "Customer 12 sees agent at 31.088822447095033\n",
      "Customer 16 requests an agent at 31\n",
      "Customer 12 leaves the agent at 33.107572051447235\n",
      "Customer 13 sees agent at 33.107572051447235\n",
      "Customer 17 requests an agent at 34\n",
      "Customer 18 requests an agent at 36\n",
      "Customer 13 leaves the agent at 36.92973603188736\n",
      "Customer 14 sees agent at 36.92973603188736\n",
      "Customer 14 leaves the agent at 37.54390659776885\n",
      "Customer 15 sees agent at 37.54390659776885\n",
      "Customer 19 requests an agent at 37\n",
      "Customer 20 requests an agent at 38\n",
      "Customer 15 leaves the agent at 38.355512839600266\n",
      "Customer 16 sees agent at 38.355512839600266\n",
      "Customer 16 leaves the agent at 38.47731474760757\n",
      "Customer 17 sees agent at 38.47731474760757\n",
      "Customer 21 requests an agent at 38\n",
      "Customer 17 leaves the agent at 42.197900791552065\n",
      "Customer 18 sees agent at 42.197900791552065\n",
      "Customer 22 requests an agent at 43\n",
      "Customer 18 leaves the agent at 44.42519894290273\n",
      "Customer 19 sees agent at 44.42519894290273\n",
      "Customer 23 requests an agent at 44\n",
      "Customer 24 requests an agent at 46\n",
      "Customer 19 leaves the agent at 47.04646803028501\n",
      "Customer 20 sees agent at 47.04646803028501\n",
      "Customer 20 leaves the agent at 47.70399822463744\n",
      "Customer 21 sees agent at 47.70399822463744\n",
      "Customer 25 requests an agent at 47\n",
      "Customer 21 leaves the agent at 48.23052915910827\n",
      "Customer 22 sees agent at 48.23052915910827\n",
      "Customer 26 requests an agent at 48\n",
      "Customer 22 leaves the agent at 51.700532452616066\n",
      "Customer 23 sees agent at 51.700532452616066\n",
      "Customer 23 leaves the agent at 52.18962829865444\n",
      "Customer 24 sees agent at 52.18962829865444\n",
      "Customer 27 requests an agent at 53\n",
      "Customer 24 leaves the agent at 55.25211182046304\n",
      "Customer 25 sees agent at 55.25211182046304\n",
      "Customer 25 leaves the agent at 57.032832074039156\n",
      "Customer 26 sees agent at 57.032832074039156\n",
      "Customer 26 leaves the agent at 57.553525366535986\n",
      "Customer 27 sees agent at 57.553525366535986\n",
      "Customer 27 leaves the agent at 57.65859504131803\n",
      "Customer 28 requests an agent at 57\n",
      "Customer 28 sees agent at 57.86646384159939\n",
      "Customer 29 requests an agent at 59\n",
      "Customer 28 leaves the agent at 59.551647686413745\n",
      "Customer 29 sees agent at 59.551647686413745\n",
      "Customer 29 leaves the agent at 60.026714274497515\n",
      "Customer 30 requests an agent at 62\n",
      "Customer 30 sees agent at 62.36356305682366\n",
      "Customer 30 leaves the agent at 63.555183409231\n",
      "Customer 31 requests an agent at 65\n",
      "Customer 31 sees agent at 65.72436317520744\n",
      "Customer 31 leaves the agent at 69.71290343858095\n",
      "Customer 32 requests an agent at 69\n",
      "Customer 32 sees agent at 69.87220759469209\n",
      "Customer 32 leaves the agent at 70.15642054541281\n",
      "Customer 33 requests an agent at 74\n",
      "Customer 33 sees agent at 74.29180109888509\n",
      "Customer 34 requests an agent at 76\n",
      "Customer 33 leaves the agent at 78.4743197708599\n",
      "Customer 34 sees agent at 78.4743197708599\n",
      "Customer 34 leaves the agent at 79.51837287822251\n",
      "Customer 35 requests an agent at 79\n",
      "Customer 35 sees agent at 79.53747900465724\n",
      "Customer 35 leaves the agent at 79.66682097126996\n",
      "Customer 36 requests an agent at 87\n",
      "Customer 36 sees agent at 87.35234332967084\n",
      "Customer 37 requests an agent at 89\n",
      "Customer 36 leaves the agent at 89.04899876410414\n",
      "Customer 37 sees agent at 89.04899876410414\n",
      "Customer 38 requests an agent at 89\n",
      "Customer 37 leaves the agent at 89.23081527474451\n",
      "Customer 38 sees agent at 89.23081527474451\n",
      "Customer 38 leaves the agent at 90.16862916622095\n",
      "Customer 39 requests an agent at 90\n",
      "Customer 39 sees agent at 90.87598711355609\n",
      "Customer 39 leaves the agent at 91.09232331214228\n",
      "Customer 40 requests an agent at 91\n",
      "Customer 40 sees agent at 91.19342699428476\n",
      "Customer 40 leaves the agent at 92.94850993363944\n",
      "Customer 41 requests an agent at 96\n",
      "Customer 41 sees agent at 96.6423886386816\n",
      "Customer 42 requests an agent at 99\n",
      "Customer 41 leaves the agent at 99.12833606119469\n",
      "Customer 42 sees agent at 99.12833606119469\n",
      "Customer 42 leaves the agent at 99.81225514065976\n",
      "Customer 43 requests an agent at 100\n",
      "Customer 43 sees agent at 100.00841273543445\n",
      "Customer 44 requests an agent at 100\n",
      "Customer 45 requests an agent at 105\n",
      "Customer 43 leaves the agent at 105.84778286019394\n",
      "Customer 44 sees agent at 105.84778286019394\n",
      "Customer 46 requests an agent at 106\n",
      "Customer 44 leaves the agent at 107.11583017104928\n",
      "Customer 45 sees agent at 107.11583017104928\n",
      "Customer 47 requests an agent at 111\n",
      "Customer 48 requests an agent at 111\n",
      "Customer 45 leaves the agent at 113.02594161510295\n",
      "Customer 46 sees agent at 113.02594161510295\n",
      "Customer 49 requests an agent at 113\n",
      "Customer 46 leaves the agent at 114.25680010985768\n",
      "Customer 47 sees agent at 114.25680010985768\n",
      "Customer 50 requests an agent at 117\n",
      "Customer 47 leaves the agent at 117.6752421584125\n",
      "Customer 48 sees agent at 117.6752421584125\n",
      "Customer 48 leaves the agent at 119.10709071857357\n",
      "Customer 49 sees agent at 119.10709071857357\n",
      "Customer 51 requests an agent at 120\n",
      "Customer 52 requests an agent at 121\n",
      "Customer 53 requests an agent at 122\n",
      "Customer 49 leaves the agent at 123.74196956812668\n",
      "Customer 50 sees agent at 123.74196956812668\n",
      "Customer 54 requests an agent at 124\n",
      "Customer 55 requests an agent at 127\n",
      "Customer 56 requests an agent at 129\n",
      "Customer 57 requests an agent at 129\n",
      "Customer 58 requests an agent at 130\n",
      "Customer 50 leaves the agent at 132.95249686034757\n",
      "Customer 51 sees agent at 132.95249686034757\n",
      "Customer 51 leaves the agent at 134.75078980185154\n",
      "Customer 52 sees agent at 134.75078980185154\n",
      "Customer 52 leaves the agent at 135.0391273069454\n",
      "Customer 53 sees agent at 135.0391273069454\n",
      "Customer 59 requests an agent at 135\n",
      "Customer 53 leaves the agent at 136.52727492568536\n",
      "Customer 54 sees agent at 136.52727492568536\n",
      "Customer 60 requests an agent at 139\n",
      "Customer 54 leaves the agent at 141.28940116013942\n",
      "Customer 55 sees agent at 141.28940116013942\n",
      "Customer 61 requests an agent at 142\n",
      "Customer 55 leaves the agent at 143.86927569400493\n",
      "Customer 56 sees agent at 143.86927569400493\n",
      "Customer 62 requests an agent at 144\n",
      "Customer 56 leaves the agent at 145.9813071615934\n",
      "Customer 57 sees agent at 145.9813071615934\n",
      "Customer 57 leaves the agent at 146.52710312159675\n",
      "Customer 58 sees agent at 146.52710312159675\n",
      "Customer 58 leaves the agent at 149.8633491766228\n",
      "Customer 59 sees agent at 149.8633491766228\n",
      "Customer 63 requests an agent at 151\n",
      "Customer 59 leaves the agent at 151.98392891573832\n",
      "Customer 60 sees agent at 151.98392891573832\n",
      "Customer 64 requests an agent at 153\n",
      "Customer 65 requests an agent at 155\n",
      "Customer 66 requests an agent at 157\n",
      "Customer 67 requests an agent at 158\n",
      "Customer 60 leaves the agent at 159.3231343852818\n",
      "Customer 61 sees agent at 159.3231343852818\n",
      "Customer 68 requests an agent at 159\n",
      "Customer 69 requests an agent at 160\n",
      "Customer 70 requests an agent at 160\n",
      "Customer 61 leaves the agent at 162.48421745947385\n",
      "Customer 62 sees agent at 162.48421745947385\n",
      "Customer 62 leaves the agent at 162.58070475082002\n",
      "Customer 63 sees agent at 162.58070475082002\n",
      "Customer 63 leaves the agent at 163.8228196062197\n",
      "Customer 64 sees agent at 163.8228196062197\n",
      "Customer 71 requests an agent at 170\n",
      "Customer 72 requests an agent at 170\n",
      "Customer 64 leaves the agent at 171.28552489469175\n",
      "Customer 65 sees agent at 171.28552489469175\n",
      "Customer 73 requests an agent at 171\n",
      "Customer 74 requests an agent at 171\n",
      "Customer 65 leaves the agent at 172.18594656121664\n",
      "Customer 66 sees agent at 172.18594656121664\n",
      "Customer 75 requests an agent at 173\n",
      "Customer 76 requests an agent at 174\n",
      "Customer 66 leaves the agent at 175.2671138294473\n",
      "Customer 67 sees agent at 175.2671138294473\n",
      "Customer 67 leaves the agent at 176.25489825529263\n",
      "Customer 68 sees agent at 176.25489825529263\n",
      "Customer 68 leaves the agent at 178.29784259540764\n",
      "Customer 69 sees agent at 178.29784259540764\n",
      "Customer 77 requests an agent at 179\n",
      "Customer 69 leaves the agent at 180.43431783691497\n",
      "Customer 70 sees agent at 180.43431783691497\n",
      "Customer 70 leaves the agent at 181.25483246497538\n",
      "Customer 71 sees agent at 181.25483246497538\n",
      "Customer 71 leaves the agent at 181.77086046987938\n",
      "Customer 72 sees agent at 181.77086046987938\n",
      "Customer 72 leaves the agent at 182.6251846950943\n",
      "Customer 73 sees agent at 182.6251846950943\n",
      "Customer 73 leaves the agent at 182.87994955157006\n",
      "Customer 74 sees agent at 182.87994955157006\n",
      "Customer 74 leaves the agent at 183.3651486733432\n",
      "Customer 75 sees agent at 183.3651486733432\n",
      "Customer 78 requests an agent at 184\n",
      "Customer 75 leaves the agent at 185.24657020387724\n",
      "Customer 76 sees agent at 185.24657020387724\n",
      "Customer 79 requests an agent at 186\n",
      "Customer 80 requests an agent at 187\n",
      "Customer 76 leaves the agent at 187.82521706637752\n",
      "Customer 77 sees agent at 187.82521706637752\n",
      "Customer 81 requests an agent at 188\n",
      "Customer 82 requests an agent at 189\n",
      "Customer 77 leaves the agent at 189.85909887522348\n",
      "Customer 78 sees agent at 189.85909887522348\n",
      "Customer 78 leaves the agent at 190.0452460434804\n",
      "Customer 79 sees agent at 190.0452460434804\n",
      "Customer 79 leaves the agent at 191.00838119089914\n",
      "Customer 80 sees agent at 191.00838119089914\n",
      "Customer 83 requests an agent at 191\n",
      "Customer 80 leaves the agent at 194.20408234659047\n",
      "Customer 81 sees agent at 194.20408234659047\n",
      "Customer 81 leaves the agent at 194.52150224621442\n",
      "Customer 82 sees agent at 194.52150224621442\n",
      "Customer 84 requests an agent at 197\n",
      "Customer 82 leaves the agent at 197.91336223588667\n",
      "Customer 83 sees agent at 197.91336223588667\n",
      "Customer 83 leaves the agent at 198.15263219118413\n",
      "Customer 84 sees agent at 198.15263219118413\n",
      "Customer 85 requests an agent at 198\n",
      "Customer 84 leaves the agent at 204.22220763887492\n",
      "Customer 85 sees agent at 204.22220763887492\n",
      "Customer 86 requests an agent at 210\n",
      "Customer 85 leaves the agent at 211.6919655594098\n",
      "Customer 86 sees agent at 211.6919655594098\n",
      "Customer 86 leaves the agent at 213.41182875435894\n",
      "Customer 87 requests an agent at 214\n",
      "Customer 87 sees agent at 214.17380856753442\n",
      "Customer 87 leaves the agent at 216.0988821144258\n",
      "Customer 88 requests an agent at 218\n",
      "Customer 88 sees agent at 218.58617092396216\n",
      "Customer 88 leaves the agent at 219.37211687408728\n",
      "Customer 89 requests an agent at 221\n",
      "Customer 89 sees agent at 221.31814689298454\n",
      "Customer 89 leaves the agent at 222.47449811236567\n",
      "Customer 90 requests an agent at 224\n",
      "Customer 90 sees agent at 224.07669382857426\n",
      "Customer 91 requests an agent at 226\n",
      "Customer 92 requests an agent at 226\n",
      "Customer 93 requests an agent at 227\n",
      "Customer 90 leaves the agent at 227.71530042406792\n",
      "Customer 91 sees agent at 227.71530042406792\n",
      "Customer 91 leaves the agent at 231.5332589743553\n",
      "Customer 92 sees agent at 231.5332589743553\n",
      "Customer 94 requests an agent at 231\n",
      "Customer 92 leaves the agent at 232.47024917800277\n",
      "Customer 93 sees agent at 232.47024917800277\n",
      "Customer 95 requests an agent at 233\n",
      "Customer 93 leaves the agent at 234.63527152435688\n",
      "Customer 94 sees agent at 234.63527152435688\n",
      "Customer 94 leaves the agent at 235.84454540987917\n",
      "Customer 95 sees agent at 235.84454540987917\n",
      "Customer 96 requests an agent at 236\n",
      "Customer 95 leaves the agent at 237.47186116476232\n",
      "Customer 96 sees agent at 237.47186116476232\n",
      "Customer 97 requests an agent at 238\n",
      "Customer 96 leaves the agent at 238.78858646307756\n",
      "Customer 97 sees agent at 238.78858646307756\n",
      "Customer 97 leaves the agent at 238.88908557439288\n",
      "Customer 98 requests an agent at 240\n",
      "Customer 98 sees agent at 240.8599760364605\n",
      "Customer 98 leaves the agent at 241.75737458987922\n",
      "Customer 99 requests an agent at 243\n",
      "Customer 99 sees agent at 243.19351389464268\n",
      "Customer 100 requests an agent at 243\n",
      "Customer 99 leaves the agent at 245.8414317152564\n",
      "Customer 100 sees agent at 245.8414317152564\n",
      "Customer 100 leaves the agent at 246.40337715627857\n",
      "Customer 101 requests an agent at 246\n",
      "Customer 101 sees agent at 246.75199047976784\n",
      "Customer 102 requests an agent at 246\n",
      "Customer 103 requests an agent at 249\n",
      "Customer 104 requests an agent at 251\n",
      "Customer 101 leaves the agent at 251.54974598095896\n",
      "Customer 102 sees agent at 251.54974598095896\n",
      "Customer 102 leaves the agent at 252.1911029754926\n",
      "Customer 103 sees agent at 252.1911029754926\n",
      "Customer 105 requests an agent at 252\n",
      "Customer 106 requests an agent at 256\n",
      "Customer 107 requests an agent at 256\n",
      "Customer 103 leaves the agent at 256.4250672408303\n",
      "Customer 104 sees agent at 256.4250672408303\n",
      "Customer 108 requests an agent at 257\n",
      "Customer 109 requests an agent at 258\n",
      "Customer 110 requests an agent at 260\n",
      "Customer 111 requests an agent at 261\n",
      "Customer 104 leaves the agent at 262.8792010901158\n",
      "Customer 105 sees agent at 262.8792010901158\n",
      "Customer 112 requests an agent at 264\n",
      "Customer 113 requests an agent at 268\n",
      "Customer 114 requests an agent at 269\n",
      "Customer 115 requests an agent at 270\n",
      "Customer 116 requests an agent at 273\n",
      "Customer 117 requests an agent at 273\n",
      "Customer 118 requests an agent at 274\n",
      "Customer 105 leaves the agent at 275.9015928159867\n",
      "Customer 106 sees agent at 275.9015928159867\n",
      "Customer 119 requests an agent at 275\n",
      "Customer 106 leaves the agent at 278.5109228297052\n",
      "Customer 107 sees agent at 278.5109228297052\n",
      "Customer 107 leaves the agent at 278.6480170512648\n",
      "Customer 108 sees agent at 278.6480170512648\n",
      "Customer 108 leaves the agent at 279.71310326684033\n",
      "Customer 109 sees agent at 279.71310326684033\n",
      "Customer 109 leaves the agent at 280.4770461885306\n",
      "Customer 110 sees agent at 280.4770461885306\n",
      "Customer 110 leaves the agent at 281.19612720550094\n",
      "Customer 111 sees agent at 281.19612720550094\n",
      "Customer 111 leaves the agent at 282.4101177376574\n",
      "Customer 112 sees agent at 282.4101177376574\n",
      "Customer 120 requests an agent at 282\n",
      "Customer 121 requests an agent at 283\n",
      "Customer 122 requests an agent at 283\n",
      "Customer 123 requests an agent at 283\n",
      "Customer 112 leaves the agent at 284.74940121284527\n",
      "Customer 113 sees agent at 284.74940121284527\n",
      "Customer 113 leaves the agent at 287.02978910728297\n",
      "Customer 114 sees agent at 287.02978910728297\n",
      "Customer 124 requests an agent at 288\n",
      "Customer 125 requests an agent at 291\n",
      "Customer 114 leaves the agent at 292.3071066681243\n",
      "Customer 115 sees agent at 292.3071066681243\n",
      "Customer 126 requests an agent at 293\n",
      "Customer 127 requests an agent at 294\n",
      "Customer 115 leaves the agent at 295.0608121038869\n",
      "Customer 116 sees agent at 295.0608121038869\n",
      "Customer 116 leaves the agent at 295.93352479161337\n",
      "Customer 117 sees agent at 295.93352479161337\n",
      "Customer 117 leaves the agent at 296.9241999169282\n",
      "Customer 118 sees agent at 296.9241999169282\n",
      "Customer 128 requests an agent at 297\n",
      "Customer 118 leaves the agent at 299.9849954898482\n",
      "Customer 119 sees agent at 299.9849954898482\n",
      "Customer 129 requests an agent at 300\n",
      "Customer 119 leaves the agent at 300.8201394505205\n",
      "Customer 120 sees agent at 300.8201394505205\n",
      "Customer 120 leaves the agent at 301.0812597657687\n",
      "Customer 121 sees agent at 301.0812597657687\n",
      "Customer 130 requests an agent at 302\n",
      "Customer 121 leaves the agent at 302.3546606116312\n",
      "Customer 122 sees agent at 302.3546606116312\n",
      "Customer 131 requests an agent at 302\n",
      "Customer 132 requests an agent at 303\n",
      "Customer 133 requests an agent at 303\n",
      "Customer 134 requests an agent at 303\n",
      "Customer 135 requests an agent at 306\n",
      "Customer 136 requests an agent at 306\n",
      "Customer 137 requests an agent at 308\n",
      "Customer 138 requests an agent at 309\n",
      "Customer 122 leaves the agent at 310.33453932170545\n",
      "Customer 123 sees agent at 310.33453932170545\n",
      "Customer 123 leaves the agent at 311.0193338420651\n",
      "Customer 124 sees agent at 311.0193338420651\n",
      "Customer 124 leaves the agent at 311.309183108847\n",
      "Customer 125 sees agent at 311.309183108847\n",
      "Customer 139 requests an agent at 311\n",
      "Customer 140 requests an agent at 312\n",
      "Customer 125 leaves the agent at 312.22048895540877\n",
      "Customer 126 sees agent at 312.22048895540877\n",
      "Customer 141 requests an agent at 312\n",
      "Customer 126 leaves the agent at 313.6483137452219\n",
      "Customer 127 sees agent at 313.6483137452219\n",
      "Customer 142 requests an agent at 314\n",
      "Customer 143 requests an agent at 316\n",
      "Customer 144 requests an agent at 316\n",
      "Customer 127 leaves the agent at 317.7801279132588\n",
      "Customer 128 sees agent at 317.7801279132588\n",
      "Customer 128 leaves the agent at 320.06177983097894\n",
      "Customer 129 sees agent at 320.06177983097894\n",
      "Customer 145 requests an agent at 321\n",
      "Customer 129 leaves the agent at 322.29417245247106\n",
      "Customer 130 sees agent at 322.29417245247106\n",
      "Customer 130 leaves the agent at 323.1741228188199\n",
      "Customer 131 sees agent at 323.1741228188199\n",
      "Customer 146 requests an agent at 324\n",
      "Customer 147 requests an agent at 324\n",
      "Customer 148 requests an agent at 325\n",
      "Customer 131 leaves the agent at 326.52800738174284\n",
      "Customer 132 sees agent at 326.52800738174284\n",
      "Customer 132 leaves the agent at 326.8870385510427\n",
      "Customer 133 sees agent at 326.8870385510427\n",
      "Customer 133 leaves the agent at 327.8342388549624\n",
      "Customer 134 sees agent at 327.8342388549624\n",
      "Customer 134 leaves the agent at 328.99053923823817\n",
      "Customer 135 sees agent at 328.99053923823817\n",
      "Customer 135 leaves the agent at 330.6279562560884\n",
      "Customer 136 sees agent at 330.6279562560884\n",
      "Customer 149 requests an agent at 331\n",
      "Customer 150 requests an agent at 331\n",
      "Customer 136 leaves the agent at 333.37119943190424\n",
      "Customer 137 sees agent at 333.37119943190424\n",
      "Customer 137 leaves the agent at 335.33942634595445\n",
      "Customer 138 sees agent at 335.33942634595445\n",
      "Customer 151 requests an agent at 339\n",
      "Customer 152 requests an agent at 340\n",
      "Customer 138 leaves the agent at 340.5444820543467\n",
      "Customer 139 sees agent at 340.5444820543467\n",
      "Customer 139 leaves the agent at 343.51467451924685\n",
      "Customer 140 sees agent at 343.51467451924685\n",
      "Customer 153 requests an agent at 345\n",
      "Customer 154 requests an agent at 345\n",
      "Customer 140 leaves the agent at 345.5775774003084\n",
      "Customer 141 sees agent at 345.5775774003084\n",
      "Customer 155 requests an agent at 346\n",
      "Customer 156 requests an agent at 347\n",
      "Customer 141 leaves the agent at 348.13861598925666\n",
      "Customer 142 sees agent at 348.13861598925666\n",
      "Customer 142 leaves the agent at 348.67928070627823\n",
      "Customer 143 sees agent at 348.67928070627823\n",
      "Customer 143 leaves the agent at 348.8731597272877\n",
      "Customer 144 sees agent at 348.8731597272877\n",
      "Customer 157 requests an agent at 350\n",
      "Customer 158 requests an agent at 350\n",
      "Customer 144 leaves the agent at 350.720185601467\n",
      "Customer 145 sees agent at 350.720185601467\n",
      "Customer 159 requests an agent at 350\n",
      "Customer 145 leaves the agent at 351.0433113790297\n",
      "Customer 146 sees agent at 351.0433113790297\n",
      "Customer 146 leaves the agent at 351.78489173969933\n",
      "Customer 147 sees agent at 351.78489173969933\n",
      "Customer 147 leaves the agent at 352.550660092621\n",
      "Customer 148 sees agent at 352.550660092621\n",
      "Customer 148 leaves the agent at 352.7956486083219\n",
      "Customer 149 sees agent at 352.7956486083219\n",
      "Customer 149 leaves the agent at 353.82898697865636\n",
      "Customer 150 sees agent at 353.82898697865636\n",
      "Customer 160 requests an agent at 353\n",
      "Customer 150 leaves the agent at 354.58331543450953\n",
      "Customer 151 sees agent at 354.58331543450953\n",
      "Customer 151 leaves the agent at 355.3723299496982\n",
      "Customer 152 sees agent at 355.3723299496982\n",
      "Customer 152 leaves the agent at 355.54858516587376\n",
      "Customer 153 sees agent at 355.54858516587376\n",
      "Customer 161 requests an agent at 355\n",
      "Customer 162 requests an agent at 357\n",
      "Customer 153 leaves the agent at 359.62068075936827\n",
      "Customer 154 sees agent at 359.62068075936827\n",
      "Customer 163 requests an agent at 359\n",
      "Customer 154 leaves the agent at 360.8403150340774\n",
      "Customer 155 sees agent at 360.8403150340774\n",
      "Customer 155 leaves the agent at 361.92890636847403\n",
      "Customer 156 sees agent at 361.92890636847403\n",
      "Customer 156 leaves the agent at 362.6545094822177\n",
      "Customer 157 sees agent at 362.6545094822177\n",
      "Customer 164 requests an agent at 363\n",
      "Customer 157 leaves the agent at 363.42309003919115\n",
      "Customer 158 sees agent at 363.42309003919115\n",
      "Customer 158 leaves the agent at 365.0109108303399\n",
      "Customer 159 sees agent at 365.0109108303399\n",
      "Customer 159 leaves the agent at 365.96731600790264\n",
      "Customer 160 sees agent at 365.96731600790264\n",
      "Customer 165 requests an agent at 367\n",
      "Customer 166 requests an agent at 367\n",
      "Customer 167 requests an agent at 368\n",
      "Customer 168 requests an agent at 368\n",
      "Customer 160 leaves the agent at 369.1126767371748\n",
      "Customer 161 sees agent at 369.1126767371748\n",
      "Customer 161 leaves the agent at 369.6421749527236\n",
      "Customer 162 sees agent at 369.6421749527236\n",
      "Customer 169 requests an agent at 370\n",
      "Customer 170 requests an agent at 370\n",
      "Customer 162 leaves the agent at 371.09727197982215\n",
      "Customer 163 sees agent at 371.09727197982215\n",
      "Customer 163 leaves the agent at 371.40081946252525\n",
      "Customer 164 sees agent at 371.40081946252525\n",
      "Customer 164 leaves the agent at 372.47439441754545\n",
      "Customer 165 sees agent at 372.47439441754545\n",
      "Customer 165 leaves the agent at 373.06437206494905\n",
      "Customer 166 sees agent at 373.06437206494905\n",
      "Customer 166 leaves the agent at 373.0737284965717\n",
      "Customer 167 sees agent at 373.0737284965717\n",
      "Customer 167 leaves the agent at 375.14935175980787\n",
      "Customer 168 sees agent at 375.14935175980787\n",
      "Customer 168 leaves the agent at 376.2043949504768\n",
      "Customer 169 sees agent at 376.2043949504768\n",
      "Customer 169 leaves the agent at 377.1570176211703\n",
      "Customer 170 sees agent at 377.1570176211703\n",
      "Customer 170 leaves the agent at 377.2568312989276\n",
      "Customer 171 requests an agent at 377\n",
      "Customer 171 sees agent at 377.48246141301684\n",
      "Customer 171 leaves the agent at 379.7888407999885\n",
      "Customer 172 requests an agent at 384\n",
      "Customer 172 sees agent at 384.63358066362593\n",
      "Customer 172 leaves the agent at 385.8050967113569\n",
      "Customer 173 requests an agent at 390\n",
      "Customer 173 sees agent at 390.7315757388935\n",
      "Customer 173 leaves the agent at 391.1715816576736\n",
      "Customer 174 requests an agent at 392\n",
      "Customer 174 sees agent at 392.9021799888308\n",
      "Customer 174 leaves the agent at 393.44669434443273\n",
      "Customer 175 requests an agent at 394\n",
      "Customer 175 sees agent at 394.9617459215719\n",
      "Customer 176 requests an agent at 395\n",
      "Customer 177 requests an agent at 396\n",
      "Customer 175 leaves the agent at 396.7641878683022\n",
      "Customer 176 sees agent at 396.7641878683022\n",
      "Customer 178 requests an agent at 396\n",
      "Customer 176 leaves the agent at 398.821746682775\n",
      "Customer 177 sees agent at 398.821746682775\n",
      "Customer 179 requests an agent at 399\n",
      "Customer 180 requests an agent at 400\n",
      "Customer 177 leaves the agent at 400.6750862145911\n",
      "Customer 178 sees agent at 400.6750862145911\n",
      "Customer 181 requests an agent at 400\n",
      "Customer 178 leaves the agent at 401.67179140687\n",
      "Customer 179 sees agent at 401.67179140687\n",
      "Customer 179 leaves the agent at 403.6652809418025\n",
      "Customer 180 sees agent at 403.6652809418025\n",
      "Customer 180 leaves the agent at 404.9382357140179\n",
      "Customer 181 sees agent at 404.9382357140179\n",
      "Customer 181 leaves the agent at 405.4935121136357\n",
      "Customer 182 requests an agent at 406\n",
      "Customer 182 sees agent at 406.9492831266655\n",
      "Customer 183 requests an agent at 407\n",
      "Customer 182 leaves the agent at 409.75864050826675\n",
      "Customer 183 sees agent at 409.75864050826675\n",
      "Customer 184 requests an agent at 410\n",
      "Customer 183 leaves the agent at 410.50812483168727\n",
      "Customer 184 sees agent at 410.50812483168727\n",
      "Customer 184 leaves the agent at 411.4962322093931\n",
      "Customer 185 requests an agent at 413\n",
      "Customer 185 sees agent at 413.20346908971675\n",
      "Customer 185 leaves the agent at 413.4143961928187\n",
      "Customer 186 requests an agent at 413\n",
      "Customer 186 sees agent at 413.58344930121837\n",
      "Customer 186 leaves the agent at 414.28196839547644\n",
      "Customer 187 requests an agent at 414\n",
      "Customer 187 sees agent at 414.3924122315025\n",
      "Customer 188 requests an agent at 414\n",
      "Customer 189 requests an agent at 414\n",
      "Customer 190 requests an agent at 415\n",
      "Customer 191 requests an agent at 415\n",
      "Customer 187 leaves the agent at 416.8354736135776\n",
      "Customer 188 sees agent at 416.8354736135776\n",
      "Customer 192 requests an agent at 418\n",
      "Customer 193 requests an agent at 418\n",
      "Customer 194 requests an agent at 419\n",
      "Customer 195 requests an agent at 421\n",
      "Customer 196 requests an agent at 424\n",
      "Customer 197 requests an agent at 424\n",
      "Customer 188 leaves the agent at 424.2704385479083\n",
      "Customer 189 sees agent at 424.2704385479083\n",
      "Customer 198 requests an agent at 426\n",
      "Customer 189 leaves the agent at 427.1255905469392\n",
      "Customer 190 sees agent at 427.1255905469392\n",
      "Customer 190 leaves the agent at 428.42745860190075\n",
      "Customer 191 sees agent at 428.42745860190075\n",
      "Customer 199 requests an agent at 430\n",
      "Customer 191 leaves the agent at 431.43682860133276\n",
      "Customer 192 sees agent at 431.43682860133276\n",
      "Customer 200 requests an agent at 431\n",
      "Customer 192 leaves the agent at 432.01000623356225\n",
      "Customer 193 sees agent at 432.01000623356225\n",
      "Customer 193 leaves the agent at 434.8940183627289\n",
      "Customer 194 sees agent at 434.8940183627289\n",
      "Customer 194 leaves the agent at 437.7195008853336\n",
      "Customer 195 sees agent at 437.7195008853336\n",
      "Customer 201 requests an agent at 438\n",
      "Customer 202 requests an agent at 439\n",
      "Customer 203 requests an agent at 439\n",
      "Customer 195 leaves the agent at 440.2636130745434\n",
      "Customer 196 sees agent at 440.2636130745434\n",
      "Customer 204 requests an agent at 440\n",
      "Customer 205 requests an agent at 441\n",
      "Customer 196 leaves the agent at 441.312687088312\n",
      "Customer 197 sees agent at 441.312687088312\n",
      "Customer 206 requests an agent at 441\n",
      "Customer 197 leaves the agent at 443.6381265133206\n",
      "Customer 198 sees agent at 443.6381265133206\n",
      "Customer 198 leaves the agent at 446.59604959775584\n",
      "Customer 199 sees agent at 446.59604959775584\n",
      "Customer 199 leaves the agent at 449.0905306652256\n",
      "Customer 200 sees agent at 449.0905306652256\n",
      "Customer 207 requests an agent at 449\n",
      "Customer 200 leaves the agent at 449.4987555475626\n",
      "Customer 201 sees agent at 449.4987555475626\n",
      "Customer 201 leaves the agent at 450.34749698950657\n",
      "Customer 202 sees agent at 450.34749698950657\n",
      "Customer 208 requests an agent at 452\n",
      "Customer 202 leaves the agent at 453.4077794649305\n",
      "Customer 203 sees agent at 453.4077794649305\n",
      "Customer 209 requests an agent at 453\n",
      "Customer 210 requests an agent at 454\n",
      "Customer 211 requests an agent at 455\n",
      "Customer 203 leaves the agent at 455.5314881142506\n",
      "Customer 204 sees agent at 455.5314881142506\n",
      "Customer 212 requests an agent at 456\n",
      "Customer 204 leaves the agent at 456.15159150533555\n",
      "Customer 205 sees agent at 456.15159150533555\n",
      "Customer 205 leaves the agent at 457.8462954267848\n",
      "Customer 206 sees agent at 457.8462954267848\n",
      "Customer 213 requests an agent at 458\n",
      "Customer 206 leaves the agent at 459.42078117589415\n",
      "Customer 207 sees agent at 459.42078117589415\n",
      "Customer 214 requests an agent at 462\n",
      "Customer 215 requests an agent at 464\n",
      "Customer 207 leaves the agent at 464.60690814349596\n",
      "Customer 208 sees agent at 464.60690814349596\n",
      "Customer 208 leaves the agent at 464.6404144638337\n",
      "Customer 209 sees agent at 464.6404144638337\n",
      "Customer 216 requests an agent at 466\n",
      "Customer 209 leaves the agent at 466.634582053526\n",
      "Customer 210 sees agent at 466.634582053526\n",
      "Customer 210 leaves the agent at 468.1206387430766\n",
      "Customer 211 sees agent at 468.1206387430766\n",
      "Customer 211 leaves the agent at 468.30944229477205\n",
      "Customer 212 sees agent at 468.30944229477205\n",
      "Customer 212 leaves the agent at 468.5369021566407\n",
      "Customer 213 sees agent at 468.5369021566407\n",
      "Customer 217 requests an agent at 469\n",
      "Customer 218 requests an agent at 470\n",
      "Customer 213 leaves the agent at 471.34408288639173\n",
      "Customer 214 sees agent at 471.34408288639173\n",
      "Customer 214 leaves the agent at 471.8414286067951\n",
      "Customer 215 sees agent at 471.8414286067951\n",
      "Customer 215 leaves the agent at 472.2216738335386\n",
      "Customer 216 sees agent at 472.2216738335386\n",
      "Customer 219 requests an agent at 472\n",
      "Customer 216 leaves the agent at 473.84383009542256\n",
      "Customer 217 sees agent at 473.84383009542256\n",
      "Customer 217 leaves the agent at 477.49986842166584\n",
      "Customer 218 sees agent at 477.49986842166584\n"
     ]
    }
   ],
   "source": [
    "env.run(until=env.timeout(480))\n",
    "time_sim_ends = env.now"
   ]
  },
  {
   "cell_type": "code",
   "execution_count": 70,
   "id": "0840ef40",
   "metadata": {
    "scrolled": true
   },
   "outputs": [
    {
     "data": {
      "text/html": [
       "<div>\n",
       "<style scoped>\n",
       "    .dataframe tbody tr th:only-of-type {\n",
       "        vertical-align: middle;\n",
       "    }\n",
       "\n",
       "    .dataframe tbody tr th {\n",
       "        vertical-align: top;\n",
       "    }\n",
       "\n",
       "    .dataframe thead th {\n",
       "        text-align: right;\n",
       "    }\n",
       "</style>\n",
       "<table border=\"1\" class=\"dataframe\">\n",
       "  <thead>\n",
       "    <tr style=\"text-align: right;\">\n",
       "      <th></th>\n",
       "      <th>arrives</th>\n",
       "      <th>works_with</th>\n",
       "      <th>leaves</th>\n",
       "      <th>time_with_agent</th>\n",
       "    </tr>\n",
       "  </thead>\n",
       "  <tbody>\n",
       "    <tr>\n",
       "      <th>Customer 0</th>\n",
       "      <td>1.260363</td>\n",
       "      <td>1.260363</td>\n",
       "      <td>1.554150</td>\n",
       "      <td>0.293788</td>\n",
       "    </tr>\n",
       "    <tr>\n",
       "      <th>Customer 1</th>\n",
       "      <td>2.718467</td>\n",
       "      <td>2.718467</td>\n",
       "      <td>6.083111</td>\n",
       "      <td>3.364644</td>\n",
       "    </tr>\n",
       "    <tr>\n",
       "      <th>Customer 2</th>\n",
       "      <td>3.684041</td>\n",
       "      <td>6.083111</td>\n",
       "      <td>7.006778</td>\n",
       "      <td>0.923668</td>\n",
       "    </tr>\n",
       "    <tr>\n",
       "      <th>Customer 3</th>\n",
       "      <td>3.784005</td>\n",
       "      <td>7.006778</td>\n",
       "      <td>12.414206</td>\n",
       "      <td>5.407428</td>\n",
       "    </tr>\n",
       "    <tr>\n",
       "      <th>Customer 4</th>\n",
       "      <td>4.733725</td>\n",
       "      <td>12.414206</td>\n",
       "      <td>14.944685</td>\n",
       "      <td>2.530479</td>\n",
       "    </tr>\n",
       "    <tr>\n",
       "      <th>...</th>\n",
       "      <td>...</td>\n",
       "      <td>...</td>\n",
       "      <td>...</td>\n",
       "      <td>...</td>\n",
       "    </tr>\n",
       "    <tr>\n",
       "      <th>Customer 95</th>\n",
       "      <td>208.797120</td>\n",
       "      <td>208.797120</td>\n",
       "      <td>210.620786</td>\n",
       "      <td>1.823665</td>\n",
       "    </tr>\n",
       "    <tr>\n",
       "      <th>Customer 96</th>\n",
       "      <td>213.087714</td>\n",
       "      <td>213.087714</td>\n",
       "      <td>216.391741</td>\n",
       "      <td>3.304027</td>\n",
       "    </tr>\n",
       "    <tr>\n",
       "      <th>Customer 97</th>\n",
       "      <td>214.779856</td>\n",
       "      <td>216.391741</td>\n",
       "      <td>217.718616</td>\n",
       "      <td>1.326875</td>\n",
       "    </tr>\n",
       "    <tr>\n",
       "      <th>Customer 98</th>\n",
       "      <td>215.113229</td>\n",
       "      <td>217.718616</td>\n",
       "      <td>217.955988</td>\n",
       "      <td>0.237372</td>\n",
       "    </tr>\n",
       "    <tr>\n",
       "      <th>Customer 99</th>\n",
       "      <td>217.532512</td>\n",
       "      <td>217.955988</td>\n",
       "      <td>218.873915</td>\n",
       "      <td>0.917927</td>\n",
       "    </tr>\n",
       "  </tbody>\n",
       "</table>\n",
       "<p>100 rows × 4 columns</p>\n",
       "</div>"
      ],
      "text/plain": [
       "                arrives  works_with      leaves  time_with_agent\n",
       "Customer 0     1.260363    1.260363    1.554150         0.293788\n",
       "Customer 1     2.718467    2.718467    6.083111         3.364644\n",
       "Customer 2     3.684041    6.083111    7.006778         0.923668\n",
       "Customer 3     3.784005    7.006778   12.414206         5.407428\n",
       "Customer 4     4.733725   12.414206   14.944685         2.530479\n",
       "...                 ...         ...         ...              ...\n",
       "Customer 95  208.797120  208.797120  210.620786         1.823665\n",
       "Customer 96  213.087714  213.087714  216.391741         3.304027\n",
       "Customer 97  214.779856  216.391741  217.718616         1.326875\n",
       "Customer 98  215.113229  217.718616  217.955988         0.237372\n",
       "Customer 99  217.532512  217.955988  218.873915         0.917927\n",
       "\n",
       "[100 rows x 4 columns]"
      ]
     },
     "execution_count": 70,
     "metadata": {},
     "output_type": "execute_result"
    }
   ],
   "source": [
    "customer_df = pd.DataFrame(customer_data).T.rename(columns = {0:\"arrives\", 1: \"service_starts\", 2: \"leaves\", 3: \"time_with_agent\"})\n",
    "customer_df"
   ]
  },
  {
   "cell_type": "code",
   "execution_count": 63,
   "id": "d67a4211",
   "metadata": {},
   "outputs": [],
   "source": [
    "time_agent_busy = np.sum(customer_df[\"time_with_agent\"])\n",
    "time_agent_idle = time_sim_ends - time_agent_busy"
   ]
  },
  {
   "cell_type": "code",
   "execution_count": null,
   "id": "c7a1e00d",
   "metadata": {},
   "outputs": [],
   "source": [
    "def simulation_analysis(df):\n",
    "    df['time_in_queue'] = df.service_starts - df.arrival_time\n",
    "    print(\"Mean time in queue is: \", df.time_in_queue.mean())\n",
    "    plt.figure(figsize=(7, 4))\n",
    "    values = plt.hist(df.time_in_queue, bins=7)\n",
    "    plt.show()\n",
    "    x, y = values[1], values[0]\n",
    "    \n",
    "    df['time_in_system'] =  df.service_ends - df.arrival_time\n",
    "    print(\"Mean time in system is: \", df.time_in_system.mean())\n",
    "    plt.figure(figsize=(7, 4))\n",
    "    plt.hist(df.time_in_system, bins=7)\n",
    "    plt.show()\n",
    "    \n",
    "    return df"
   ]
  },
  {
   "cell_type": "markdown",
   "id": "f24cd5ed",
   "metadata": {
    "ExecuteTime": {
     "end_time": "2021-09-14T04:55:33.613446Z",
     "start_time": "2021-09-14T04:55:33.540410Z"
    }
   },
   "source": [
    "## Simplest Case from scratch but not using an environment\n",
    "__I'll start by trying everything from scratch as a learning exercise before looking for resources__"
   ]
  },
  {
   "cell_type": "markdown",
   "id": "53a637bc",
   "metadata": {},
   "source": [
    "__I could use either 8 hrs or 100 iterations or both to stop the loop but will use iterations here. At each iter a global time variable will update by randomly sampling the exponential distribution with mean of 2 minutes and indicates the arrival of a new customer. Customers will be placed in a queue. Many ways to do this list is easy.__"
   ]
  },
  {
   "cell_type": "code",
   "execution_count": 3,
   "id": "a2cf1c16",
   "metadata": {
    "ExecuteTime": {
     "end_time": "2021-09-16T01:24:37.625281Z",
     "start_time": "2021-09-16T01:24:37.541283Z"
    }
   },
   "outputs": [],
   "source": [
    "class Queue:\n",
    "    def __init__(self):\n",
    "        self.elements = []\n",
    "\n",
    "    def enqueue(self, data):\n",
    "        self.elements.append(data)\n",
    "        return data\n",
    "\n",
    "    def dequeue(self):\n",
    "        return self.elements.pop(0)\n",
    "\n",
    "    def rear(self):\n",
    "        return self.elements[-1]\n",
    "\n",
    "    def front(self):\n",
    "        return self.elements[0]\n",
    "\n",
    "    def is_empty(self):\n",
    "        return len(self.elements) == 0\n",
    "    \n",
    "    def show(self):\n",
    "        return self.elements\n",
    "    \n",
    "\n",
    "class Agent:\n",
    "    def __init__(self, process_time):\n",
    "        self.queue = Queue()\n",
    "        self.process_time = process_time\n",
    "        self.num_served = 0\n",
    "        self.idle_times = []\n",
    "        self.time_of_last_idle = 0\n",
    "        self.time_last_not_idle = 0\n",
    "        self.busy_times = []\n",
    "        self.time = 0\n",
    "        self.time_of_step = 0\n",
    "        self.queue_length = []\n",
    "        self.service_starts = []\n",
    "        self.service_ends = []\n",
    "        self.service_time = []\n",
    "        \n",
    "    def get_stats(self):\n",
    "        return self.idle_times, self.busy_times, self.queue_length, self.service_starts, self.service_ends, self.service_time \n",
    "        \n",
    "    def get_queue_len(self):\n",
    "        return self.queue_length\n",
    "    \n",
    "    def is_idle(self):\n",
    "        return self.queue.is_empty()\n",
    "    \n",
    "    def show_queue(self):\n",
    "        return self.queue.show()\n",
    "    \n",
    "    def add_customer(self, time):\n",
    "        if self.is_idle():\n",
    "            self.idle_times.append(time - self.time_of_last_idle)\n",
    "            self.time_last_not_idle = time\n",
    "            self.service_starts.append(time)\n",
    "        serv_time = np.random.exponential(self.process_time)\n",
    "        self.service_time.append(serv_time)\n",
    "        self.queue.enqueue(serv_time)    #each customer is represented by the time it will take for them to be served\n",
    "        #print(self.show_queue())\n",
    "        \n",
    "    def update_queue(self, time):\n",
    "        time_remaining = self.time_of_step    #Used to determine if a service occurs during this time chunk\n",
    "        \n",
    "        # Take members out of queue depending on time of step and update new front member to have correct remaining time\n",
    "        # Handling time gets a bit confusing. The internal time will be updated each time a customer is served\n",
    "        \n",
    "        if self.is_idle()==False:\n",
    "            while time_remaining > self.queue.front():\n",
    "                    temp_time_elapsed = self.queue.front()\n",
    "                    self.time += temp_time_elapsed         #update internal time clock\n",
    "                    self.queue.dequeue()\n",
    "                    self.service_ends.append(self.time)\n",
    "                    self.num_served += 1\n",
    "                    if self.is_idle() == False:\n",
    "                        self.service_starts.append(self.time)     \n",
    "                        time_remaining -= temp_time_elapsed   #update time chunk incase multiple are served in this window                        \n",
    "                    else:\n",
    "                        self.busy_times.append(self.time - self.time_last_not_idle)\n",
    "                        self.time_of_last_idle = self.time \n",
    "                        break\n",
    "            else:\n",
    "                self.queue.elements[0] = self.queue.elements[0] - time_remaining  #update the front customer who has been partially served\n",
    "            \n",
    "    def update_process_time(self, process_time):\n",
    "        self.process_time = process_time\n",
    "        \n",
    "    def update(self, time, add_cust_bool=False):\n",
    "        self.time_of_step =  time - self.time\n",
    "        self.update_queue(time)\n",
    "        if add_cust_bool:\n",
    "            self.add_customer(time)\n",
    "        self.show_queue()\n",
    "        self.queue_length.append(len(self.queue.elements))\n",
    "        self.time = time \n",
    "        \n",
    "            "
   ]
  },
  {
   "cell_type": "code",
   "execution_count": 25,
   "id": "2a62d44b",
   "metadata": {
    "ExecuteTime": {
     "end_time": "2021-09-16T01:28:21.601293Z",
     "start_time": "2021-09-16T01:28:21.523297Z"
    }
   },
   "outputs": [],
   "source": [
    "class Server:\n",
    "    def __init__(self, num_agents=0):\n",
    "        self.num_agents = num_agents\n",
    "        self.agent_properties = {'process_time': 1.5}\n",
    "        #self.queue = Queue()\n",
    "        self.agents = {}\n",
    "        self.agent_names = []\n",
    "        self.name_iter = 0\n",
    "        self.time = 0\n",
    "        \n",
    "        if self.num_agents != 0:\n",
    "            self.create_agents()\n",
    "        \n",
    "    def create_agent(self):\n",
    "        return Agent(self.agent_properties['process_time'])\n",
    "    \n",
    "    def add_agent(self, name=-1):\n",
    "        #self.num_agents += 1\n",
    "        if name==-1:\n",
    "            name = self.name_iter\n",
    "            self.name_iter += 1\n",
    "        elif name in self.agent_names:\n",
    "            name += \"_\" + str(self.name_iter)\n",
    "            self.name_iter += 1\n",
    "        self.agents[name] = self.create_agent()\n",
    "        self.agent_names.append(name)        \n",
    "    \n",
    "    def create_agents(self):\n",
    "        for i in range(self.num_agents):\n",
    "            self.add_agent()\n",
    "            \n",
    "    def delete_agent(self, agent_name=-1):\n",
    "        if agent_name==-1:\n",
    "            agent_name = self.agent_names[0]\n",
    "        elif agent_name not in self.agent_names:\n",
    "            return \"Please enter the name of an agent who is in the server.\"\n",
    "        self.num_agents -= 1\n",
    "        self.agents.pop(agent_name)\n",
    "        self.agent_names.remove(agent_name)\n",
    "    \n",
    "    def update_agent(self, agent, agent_num, time, add_cust_bool):\n",
    "        self.agent_queues[agent].update(time)\n",
    "        \n",
    "    def is_idle(self, agent_num=0):\n",
    "        return self.agents[agent_num].is_idle()\n",
    "    \n",
    "    def get_stats(self):\n",
    "        return self.agents[0].get_stats()\n",
    "    \n",
    "    def queue_len(self, name):\n",
    "        return len(self.agents[name].queue.elements)\n",
    "    \n",
    "    def decide_queue(self):\n",
    "        min_val = self.queue_len(self.agent_names[0])\n",
    "        agent_to_assign = self.agent_names[0]\n",
    "        for i in range(1,len(self.agents)):\n",
    "            if self.queue_len(self.agent_names[i]) < min_val:\n",
    "                min_val = self.queue_len(self.agent_names[i])\n",
    "                agent_to_assign = self.agent_names[i]\n",
    "        return agent_to_assign\n",
    "    \n",
    "    def get_queue_lengths(self):\n",
    "        len_list = []\n",
    "        for agent in self.agent_names:\n",
    "            len_list.append(self.queue_len(agent))\n",
    "        return len_list\n",
    "            \n",
    "    def total_in_queue(self):\n",
    "        return np.sum(self.get_queue_lengths())\n",
    "    \n",
    "    def update_server(self, time, add_customer=False):\n",
    "        if add_customer==True:\n",
    "            agent_to_assign = self.decide_queue()\n",
    "            self.agents[agent_to_assign].update(time, True)    \n",
    "            for agent in self.agent_names:\n",
    "                if agent is not agent_to_assign:\n",
    "                    self.agents[agent].update(time)\n",
    "        else:\n",
    "            for agent in self.agent_names:\n",
    "                self.agents[agent].update(time)\n",
    "        self.time += time\n",
    "\n"
   ]
  },
  {
   "cell_type": "code",
   "execution_count": 83,
   "id": "ff508679",
   "metadata": {
    "ExecuteTime": {
     "end_time": "2021-09-16T02:13:33.634193Z",
     "start_time": "2021-09-16T02:13:33.548198Z"
    }
   },
   "outputs": [],
   "source": [
    "def run_simple_simulation(arrivals=2, num_agents=1, processing_time=1.5):\n",
    "    s = Server(num_agents)\n",
    "    time = np.random.exponential(arrivals)\n",
    "    arrival_times = []\n",
    "    for i in range(100):\n",
    "        arrival_times.append(time)\n",
    "        s.update_server(time, add_customer=True)\n",
    "        time += np.random.exponential(arrivals)\n",
    "    while(s.is_idle()==False):\n",
    "        s.update_server(time, add_customer=False)\n",
    "        time += 1\n",
    "    return s, arrival_times\n",
    "\n",
    "def run_dynamic_simulation(arrivals=[2, 1.6, 1.3, 1.05, 1, 1.1, 1.4, 1.8], num_agents=1, processing_time=1.5):\n",
    "    s = Server(num_agents)\n",
    "    time = np.random.exponential(arrivals[0])\n",
    "    arrival_times = []\n",
    "    while time < 8*60:\n",
    "        a = np.floor(time/60)\n",
    "        arrival_times.append(time)\n",
    "        s.update_server(time, add_customer=True)\n",
    "        if int(a) < len(arrivals):\n",
    "            time += np.random.exponential(arrivals[int(a)])\n",
    "        else:\n",
    "            break\n",
    "    while(s.is_idle()==False):\n",
    "        s.update_server(time, add_customer=False)\n",
    "        time += 1\n",
    "    return s, arrival_times\n",
    "        \n",
    "def make_stats_dataframe(server):\n",
    "    idle_times, busy_times, queue_length, service_starts, service_ends, service_time = s.get_stats()\n",
    "    df = pd.DataFrame(columns=['arrival_time','queue_length','service_starts','service_ends','service_time','check_serv'])\n",
    "    df.arrival_time = arrival_times\n",
    "    df.queue_length = queue_length[:len(arrival_times)]\n",
    "    df.service_time = service_time\n",
    "    df.service_starts[:len(service_starts)] = service_starts\n",
    "    df.service_ends[:len(service_ends)] = service_ends\n",
    "    df['check_serv'] = df.service_ends - df.service_starts\n",
    "    df['bool_comp'] = np.round(df.check_serv - df.service_time,2) == 0\n",
    "    return df\n",
    "\n",
    "def simulation_analysis(df):\n",
    "    df['time_in_queue'] = df.service_starts - df.arrival_time\n",
    "    print(\"Mean time in queue is: \", df.time_in_queue.mean())\n",
    "    plt.figure(figsize=(7, 4))\n",
    "    values = plt.hist(df.time_in_queue, bins=7)\n",
    "    plt.show()\n",
    "    x, y = values[1], values[0]\n",
    "    \n",
    "    df['time_in_system'] =  df.service_ends - df.arrival_time\n",
    "    print(\"Mean time in system is: \", df.time_in_system.mean())\n",
    "    plt.figure(figsize=(7, 4))\n",
    "    plt.hist(df.time_in_system, bins=7)\n",
    "    plt.show()\n",
    "    \n",
    "    return df\n",
    "    "
   ]
  },
  {
   "cell_type": "markdown",
   "id": "d36293da",
   "metadata": {},
   "source": [
    "## Simplest Case"
   ]
  },
  {
   "cell_type": "code",
   "execution_count": 74,
   "id": "d3863837",
   "metadata": {
    "ExecuteTime": {
     "end_time": "2021-09-16T02:12:27.423794Z",
     "start_time": "2021-09-16T02:12:27.352796Z"
    }
   },
   "outputs": [],
   "source": [
    "s, arrival_times = run_simple_simulation()"
   ]
  },
  {
   "cell_type": "code",
   "execution_count": 75,
   "id": "8985b34e",
   "metadata": {
    "ExecuteTime": {
     "end_time": "2021-09-16T02:12:27.818140Z",
     "start_time": "2021-09-16T02:12:27.730140Z"
    }
   },
   "outputs": [],
   "source": [
    "df = make_stats_dataframe(s)"
   ]
  },
  {
   "cell_type": "code",
   "execution_count": 76,
   "id": "6f73b23f",
   "metadata": {
    "ExecuteTime": {
     "end_time": "2021-09-16T02:12:28.670835Z",
     "start_time": "2021-09-16T02:12:28.445837Z"
    }
   },
   "outputs": [
    {
     "name": "stdout",
     "output_type": "stream",
     "text": [
      "Mean time in queue is:  3.747313508238083\n"
     ]
    },
    {
     "data": {
      "image/png": "[encoded data removed]",
      "text/plain": [
       "<Figure size 504x288 with 1 Axes>"
      ]
     },
     "metadata": {
      "needs_background": "light"
     },
     "output_type": "display_data"
    },
    {
     "name": "stdout",
     "output_type": "stream",
     "text": [
      "Mean time in system is:  5.382014196822865\n"
     ]
    },
    {
     "data": {
      "image/png": "[encoded data removed]",
      "text/plain": [
       "<Figure size 504x288 with 1 Axes>"
      ]
     },
     "metadata": {
      "needs_background": "light"
     },
     "output_type": "display_data"
    }
   ],
   "source": [
    "df = simulation_analysis(df)"
   ]
  },
  {
   "cell_type": "code",
   "execution_count": 77,
   "id": "c77e9596",
   "metadata": {
    "ExecuteTime": {
     "end_time": "2021-09-16T02:12:36.044456Z",
     "start_time": "2021-09-16T02:12:35.959456Z"
    }
   },
   "outputs": [
    {
     "data": {
      "text/html": [
       "<div>\n",
       "<style scoped>\n",
       "    .dataframe tbody tr th:only-of-type {\n",
       "        vertical-align: middle;\n",
       "    }\n",
       "\n",
       "    .dataframe tbody tr th {\n",
       "        vertical-align: top;\n",
       "    }\n",
       "\n",
       "    .dataframe thead th {\n",
       "        text-align: right;\n",
       "    }\n",
       "</style>\n",
       "<table border=\"1\" class=\"dataframe\">\n",
       "  <thead>\n",
       "    <tr style=\"text-align: right;\">\n",
       "      <th></th>\n",
       "      <th>arrival_time</th>\n",
       "      <th>queue_length</th>\n",
       "      <th>service_starts</th>\n",
       "      <th>service_ends</th>\n",
       "      <th>service_time</th>\n",
       "      <th>check_serv</th>\n",
       "      <th>bool_comp</th>\n",
       "      <th>time_in_queue</th>\n",
       "      <th>time_in_system</th>\n",
       "    </tr>\n",
       "  </thead>\n",
       "  <tbody>\n",
       "    <tr>\n",
       "      <th>0</th>\n",
       "      <td>0.732997</td>\n",
       "      <td>1</td>\n",
       "      <td>0.732997</td>\n",
       "      <td>0.916037</td>\n",
       "      <td>0.183041</td>\n",
       "      <td>0.183041</td>\n",
       "      <td>True</td>\n",
       "      <td>0.000000</td>\n",
       "      <td>0.183041</td>\n",
       "    </tr>\n",
       "    <tr>\n",
       "      <th>1</th>\n",
       "      <td>2.834840</td>\n",
       "      <td>1</td>\n",
       "      <td>2.834840</td>\n",
       "      <td>3.083875</td>\n",
       "      <td>0.249035</td>\n",
       "      <td>0.249035</td>\n",
       "      <td>True</td>\n",
       "      <td>0.000000</td>\n",
       "      <td>0.249035</td>\n",
       "    </tr>\n",
       "    <tr>\n",
       "      <th>2</th>\n",
       "      <td>7.222277</td>\n",
       "      <td>1</td>\n",
       "      <td>7.222277</td>\n",
       "      <td>7.468474</td>\n",
       "      <td>0.246197</td>\n",
       "      <td>0.246197</td>\n",
       "      <td>True</td>\n",
       "      <td>0.000000</td>\n",
       "      <td>0.246197</td>\n",
       "    </tr>\n",
       "    <tr>\n",
       "      <th>3</th>\n",
       "      <td>12.401160</td>\n",
       "      <td>1</td>\n",
       "      <td>12.401160</td>\n",
       "      <td>12.969952</td>\n",
       "      <td>0.568792</td>\n",
       "      <td>0.568792</td>\n",
       "      <td>True</td>\n",
       "      <td>0.000000</td>\n",
       "      <td>0.568792</td>\n",
       "    </tr>\n",
       "    <tr>\n",
       "      <th>4</th>\n",
       "      <td>13.114594</td>\n",
       "      <td>1</td>\n",
       "      <td>13.114594</td>\n",
       "      <td>13.732274</td>\n",
       "      <td>0.617680</td>\n",
       "      <td>0.617680</td>\n",
       "      <td>True</td>\n",
       "      <td>0.000000</td>\n",
       "      <td>0.617680</td>\n",
       "    </tr>\n",
       "    <tr>\n",
       "      <th>...</th>\n",
       "      <td>...</td>\n",
       "      <td>...</td>\n",
       "      <td>...</td>\n",
       "      <td>...</td>\n",
       "      <td>...</td>\n",
       "      <td>...</td>\n",
       "      <td>...</td>\n",
       "      <td>...</td>\n",
       "      <td>...</td>\n",
       "    </tr>\n",
       "    <tr>\n",
       "      <th>95</th>\n",
       "      <td>214.039412</td>\n",
       "      <td>9</td>\n",
       "      <td>230.329688</td>\n",
       "      <td>232.648061</td>\n",
       "      <td>2.318373</td>\n",
       "      <td>2.318373</td>\n",
       "      <td>True</td>\n",
       "      <td>16.290276</td>\n",
       "      <td>18.608650</td>\n",
       "    </tr>\n",
       "    <tr>\n",
       "      <th>96</th>\n",
       "      <td>215.181190</td>\n",
       "      <td>9</td>\n",
       "      <td>232.648061</td>\n",
       "      <td>233.712946</td>\n",
       "      <td>1.064885</td>\n",
       "      <td>1.064885</td>\n",
       "      <td>True</td>\n",
       "      <td>17.466871</td>\n",
       "      <td>18.531756</td>\n",
       "    </tr>\n",
       "    <tr>\n",
       "      <th>97</th>\n",
       "      <td>217.396907</td>\n",
       "      <td>10</td>\n",
       "      <td>233.712946</td>\n",
       "      <td>237.639591</td>\n",
       "      <td>3.926645</td>\n",
       "      <td>3.926645</td>\n",
       "      <td>True</td>\n",
       "      <td>16.316039</td>\n",
       "      <td>20.242684</td>\n",
       "    </tr>\n",
       "    <tr>\n",
       "      <th>98</th>\n",
       "      <td>217.745038</td>\n",
       "      <td>11</td>\n",
       "      <td>237.639591</td>\n",
       "      <td>240.160747</td>\n",
       "      <td>2.521157</td>\n",
       "      <td>2.521157</td>\n",
       "      <td>True</td>\n",
       "      <td>19.894553</td>\n",
       "      <td>22.415710</td>\n",
       "    </tr>\n",
       "    <tr>\n",
       "      <th>99</th>\n",
       "      <td>218.213189</td>\n",
       "      <td>12</td>\n",
       "      <td>240.160747</td>\n",
       "      <td>241.201373</td>\n",
       "      <td>1.040626</td>\n",
       "      <td>1.040626</td>\n",
       "      <td>True</td>\n",
       "      <td>21.947558</td>\n",
       "      <td>22.988184</td>\n",
       "    </tr>\n",
       "  </tbody>\n",
       "</table>\n",
       "<p>100 rows × 9 columns</p>\n",
       "</div>"
      ],
      "text/plain": [
       "    arrival_time  queue_length  service_starts  service_ends  service_time  \\\n",
       "0       0.732997             1        0.732997      0.916037      0.183041   \n",
       "1       2.834840             1        2.834840      3.083875      0.249035   \n",
       "2       7.222277             1        7.222277      7.468474      0.246197   \n",
       "3      12.401160             1       12.401160     12.969952      0.568792   \n",
       "4      13.114594             1       13.114594     13.732274      0.617680   \n",
       "..           ...           ...             ...           ...           ...   \n",
       "95    214.039412             9      230.329688    232.648061      2.318373   \n",
       "96    215.181190             9      232.648061    233.712946      1.064885   \n",
       "97    217.396907            10      233.712946    237.639591      3.926645   \n",
       "98    217.745038            11      237.639591    240.160747      2.521157   \n",
       "99    218.213189            12      240.160747    241.201373      1.040626   \n",
       "\n",
       "    check_serv  bool_comp  time_in_queue  time_in_system  \n",
       "0     0.183041       True       0.000000        0.183041  \n",
       "1     0.249035       True       0.000000        0.249035  \n",
       "2     0.246197       True       0.000000        0.246197  \n",
       "3     0.568792       True       0.000000        0.568792  \n",
       "4     0.617680       True       0.000000        0.617680  \n",
       "..         ...        ...            ...             ...  \n",
       "95    2.318373       True      16.290276       18.608650  \n",
       "96    1.064885       True      17.466871       18.531756  \n",
       "97    3.926645       True      16.316039       20.242684  \n",
       "98    2.521157       True      19.894553       22.415710  \n",
       "99    1.040626       True      21.947558       22.988184  \n",
       "\n",
       "[100 rows x 9 columns]"
      ]
     },
     "execution_count": 77,
     "metadata": {},
     "output_type": "execute_result"
    }
   ],
   "source": [
    "df"
   ]
  },
  {
   "cell_type": "code",
   "execution_count": null,
   "id": "3794fa4d",
   "metadata": {},
   "outputs": [],
   "source": []
  },
  {
   "cell_type": "markdown",
   "id": "6180f450",
   "metadata": {},
   "source": [
    "## Time dependent multi-agent case"
   ]
  },
  {
   "cell_type": "markdown",
   "id": "a75013b2",
   "metadata": {},
   "source": [
    "__Single agent but varying customer arrival__"
   ]
  },
  {
   "cell_type": "code",
   "execution_count": 84,
   "id": "93282203",
   "metadata": {
    "ExecuteTime": {
     "end_time": "2021-09-16T02:13:38.316034Z",
     "start_time": "2021-09-16T02:13:38.230035Z"
    }
   },
   "outputs": [],
   "source": [
    "s, arrival_times = run_dynamic_simulation()"
   ]
  },
  {
   "cell_type": "code",
   "execution_count": 85,
   "id": "649289f7",
   "metadata": {
    "ExecuteTime": {
     "end_time": "2021-09-16T02:13:38.723759Z",
     "start_time": "2021-09-16T02:13:38.638493Z"
    }
   },
   "outputs": [],
   "source": [
    "df = make_stats_dataframe(s)"
   ]
  },
  {
   "cell_type": "code",
   "execution_count": 86,
   "id": "936ac91d",
   "metadata": {
    "ExecuteTime": {
     "end_time": "2021-09-16T02:13:39.421495Z",
     "start_time": "2021-09-16T02:13:39.115495Z"
    }
   },
   "outputs": [
    {
     "name": "stdout",
     "output_type": "stream",
     "text": [
      "Mean time in queue is:  67.19846611461739\n"
     ]
    },
    {
     "data": {
      "image/png": "[encoded data removed]",
      "text/plain": [
       "<Figure size 504x288 with 1 Axes>"
      ]
     },
     "metadata": {
      "needs_background": "light"
     },
     "output_type": "display_data"
    },
    {
     "name": "stdout",
     "output_type": "stream",
     "text": [
      "Mean time in system is:  68.72273804953565\n"
     ]
    },
    {
     "data": {
      "image/png": "[encoded data removed]",
      "text/plain": [
       "<Figure size 504x288 with 1 Axes>"
      ]
     },
     "metadata": {
      "needs_background": "light"
     },
     "output_type": "display_data"
    }
   ],
   "source": [
    "df = simulation_analysis(df)"
   ]
  },
  {
   "cell_type": "code",
   "execution_count": 87,
   "id": "d3613159",
   "metadata": {
    "ExecuteTime": {
     "end_time": "2021-09-16T02:13:41.845470Z",
     "start_time": "2021-09-16T02:13:41.758472Z"
    }
   },
   "outputs": [
    {
     "data": {
      "text/html": [
       "<div>\n",
       "<style scoped>\n",
       "    .dataframe tbody tr th:only-of-type {\n",
       "        vertical-align: middle;\n",
       "    }\n",
       "\n",
       "    .dataframe tbody tr th {\n",
       "        vertical-align: top;\n",
       "    }\n",
       "\n",
       "    .dataframe thead th {\n",
       "        text-align: right;\n",
       "    }\n",
       "</style>\n",
       "<table border=\"1\" class=\"dataframe\">\n",
       "  <thead>\n",
       "    <tr style=\"text-align: right;\">\n",
       "      <th></th>\n",
       "      <th>arrival_time</th>\n",
       "      <th>queue_length</th>\n",
       "      <th>service_starts</th>\n",
       "      <th>service_ends</th>\n",
       "      <th>service_time</th>\n",
       "      <th>check_serv</th>\n",
       "      <th>bool_comp</th>\n",
       "      <th>time_in_queue</th>\n",
       "      <th>time_in_system</th>\n",
       "    </tr>\n",
       "  </thead>\n",
       "  <tbody>\n",
       "    <tr>\n",
       "      <th>0</th>\n",
       "      <td>7.020595</td>\n",
       "      <td>1</td>\n",
       "      <td>7.020595</td>\n",
       "      <td>7.139464</td>\n",
       "      <td>0.118869</td>\n",
       "      <td>0.118869</td>\n",
       "      <td>True</td>\n",
       "      <td>0.000000</td>\n",
       "      <td>0.118869</td>\n",
       "    </tr>\n",
       "    <tr>\n",
       "      <th>1</th>\n",
       "      <td>8.137120</td>\n",
       "      <td>1</td>\n",
       "      <td>8.137120</td>\n",
       "      <td>12.094036</td>\n",
       "      <td>3.956916</td>\n",
       "      <td>3.956916</td>\n",
       "      <td>True</td>\n",
       "      <td>0.000000</td>\n",
       "      <td>3.956916</td>\n",
       "    </tr>\n",
       "    <tr>\n",
       "      <th>2</th>\n",
       "      <td>8.289279</td>\n",
       "      <td>2</td>\n",
       "      <td>12.094036</td>\n",
       "      <td>14.783399</td>\n",
       "      <td>2.689363</td>\n",
       "      <td>2.689363</td>\n",
       "      <td>True</td>\n",
       "      <td>3.804757</td>\n",
       "      <td>6.494120</td>\n",
       "    </tr>\n",
       "    <tr>\n",
       "      <th>3</th>\n",
       "      <td>8.625291</td>\n",
       "      <td>3</td>\n",
       "      <td>14.783399</td>\n",
       "      <td>16.155014</td>\n",
       "      <td>1.371615</td>\n",
       "      <td>1.371615</td>\n",
       "      <td>True</td>\n",
       "      <td>6.158108</td>\n",
       "      <td>7.529723</td>\n",
       "    </tr>\n",
       "    <tr>\n",
       "      <th>4</th>\n",
       "      <td>9.306593</td>\n",
       "      <td>4</td>\n",
       "      <td>16.155014</td>\n",
       "      <td>16.746136</td>\n",
       "      <td>0.591122</td>\n",
       "      <td>0.591122</td>\n",
       "      <td>True</td>\n",
       "      <td>6.848421</td>\n",
       "      <td>7.439542</td>\n",
       "    </tr>\n",
       "    <tr>\n",
       "      <th>...</th>\n",
       "      <td>...</td>\n",
       "      <td>...</td>\n",
       "      <td>...</td>\n",
       "      <td>...</td>\n",
       "      <td>...</td>\n",
       "      <td>...</td>\n",
       "      <td>...</td>\n",
       "      <td>...</td>\n",
       "      <td>...</td>\n",
       "    </tr>\n",
       "    <tr>\n",
       "      <th>362</th>\n",
       "      <td>457.096736</td>\n",
       "      <td>88</td>\n",
       "      <td>576.783547</td>\n",
       "      <td>578.198733</td>\n",
       "      <td>1.415187</td>\n",
       "      <td>1.415187</td>\n",
       "      <td>True</td>\n",
       "      <td>119.686810</td>\n",
       "      <td>121.101997</td>\n",
       "    </tr>\n",
       "    <tr>\n",
       "      <th>363</th>\n",
       "      <td>460.528221</td>\n",
       "      <td>86</td>\n",
       "      <td>578.198733</td>\n",
       "      <td>580.387774</td>\n",
       "      <td>2.189041</td>\n",
       "      <td>2.189041</td>\n",
       "      <td>True</td>\n",
       "      <td>117.670512</td>\n",
       "      <td>119.859553</td>\n",
       "    </tr>\n",
       "    <tr>\n",
       "      <th>364</th>\n",
       "      <td>463.920597</td>\n",
       "      <td>84</td>\n",
       "      <td>580.387774</td>\n",
       "      <td>580.576136</td>\n",
       "      <td>0.188362</td>\n",
       "      <td>0.188362</td>\n",
       "      <td>True</td>\n",
       "      <td>116.467177</td>\n",
       "      <td>116.655539</td>\n",
       "    </tr>\n",
       "    <tr>\n",
       "      <th>365</th>\n",
       "      <td>465.332371</td>\n",
       "      <td>85</td>\n",
       "      <td>580.576136</td>\n",
       "      <td>583.898534</td>\n",
       "      <td>3.322398</td>\n",
       "      <td>3.322398</td>\n",
       "      <td>True</td>\n",
       "      <td>115.243766</td>\n",
       "      <td>118.566163</td>\n",
       "    </tr>\n",
       "    <tr>\n",
       "      <th>366</th>\n",
       "      <td>469.596905</td>\n",
       "      <td>85</td>\n",
       "      <td>583.898534</td>\n",
       "      <td>584.642188</td>\n",
       "      <td>0.743653</td>\n",
       "      <td>0.743653</td>\n",
       "      <td>True</td>\n",
       "      <td>114.301629</td>\n",
       "      <td>115.045283</td>\n",
       "    </tr>\n",
       "  </tbody>\n",
       "</table>\n",
       "<p>367 rows × 9 columns</p>\n",
       "</div>"
      ],
      "text/plain": [
       "     arrival_time  queue_length  service_starts  service_ends  service_time  \\\n",
       "0        7.020595             1        7.020595      7.139464      0.118869   \n",
       "1        8.137120             1        8.137120     12.094036      3.956916   \n",
       "2        8.289279             2       12.094036     14.783399      2.689363   \n",
       "3        8.625291             3       14.783399     16.155014      1.371615   \n",
       "4        9.306593             4       16.155014     16.746136      0.591122   \n",
       "..            ...           ...             ...           ...           ...   \n",
       "362    457.096736            88      576.783547    578.198733      1.415187   \n",
       "363    460.528221            86      578.198733    580.387774      2.189041   \n",
       "364    463.920597            84      580.387774    580.576136      0.188362   \n",
       "365    465.332371            85      580.576136    583.898534      3.322398   \n",
       "366    469.596905            85      583.898534    584.642188      0.743653   \n",
       "\n",
       "     check_serv  bool_comp  time_in_queue  time_in_system  \n",
       "0      0.118869       True       0.000000        0.118869  \n",
       "1      3.956916       True       0.000000        3.956916  \n",
       "2      2.689363       True       3.804757        6.494120  \n",
       "3      1.371615       True       6.158108        7.529723  \n",
       "4      0.591122       True       6.848421        7.439542  \n",
       "..          ...        ...            ...             ...  \n",
       "362    1.415187       True     119.686810      121.101997  \n",
       "363    2.189041       True     117.670512      119.859553  \n",
       "364    0.188362       True     116.467177      116.655539  \n",
       "365    3.322398       True     115.243766      118.566163  \n",
       "366    0.743653       True     114.301629      115.045283  \n",
       "\n",
       "[367 rows x 9 columns]"
      ]
     },
     "execution_count": 87,
     "metadata": {},
     "output_type": "execute_result"
    }
   ],
   "source": [
    "df"
   ]
  },
  {
   "cell_type": "code",
   "execution_count": null,
   "id": "254ac037",
   "metadata": {},
   "outputs": [],
   "source": []
  },
  {
   "cell_type": "code",
   "execution_count": null,
   "id": "de3bc3b3",
   "metadata": {},
   "outputs": [],
   "source": []
  },
  {
   "cell_type": "code",
   "execution_count": null,
   "id": "377a5918",
   "metadata": {},
   "outputs": [],
   "source": []
  },
  {
   "cell_type": "code",
   "execution_count": null,
   "id": "8d584e7f",
   "metadata": {},
   "outputs": [],
   "source": []
  },
  {
   "cell_type": "code",
   "execution_count": null,
   "id": "9b7c5c5a",
   "metadata": {},
   "outputs": [],
   "source": []
  },
  {
   "cell_type": "code",
   "execution_count": null,
   "id": "1fb7fb14",
   "metadata": {},
   "outputs": [],
   "source": []
  },
  {
   "cell_type": "markdown",
   "id": "97a6f32a",
   "metadata": {},
   "source": [
    "## Scratch Work"
   ]
  },
  {
   "cell_type": "code",
   "execution_count": 879,
   "id": "259a2ca7",
   "metadata": {
    "ExecuteTime": {
     "end_time": "2021-09-16T00:55:43.289046Z",
     "start_time": "2021-09-16T00:55:43.210041Z"
    }
   },
   "outputs": [],
   "source": [
    "s.add_agent('Carl')"
   ]
  },
  {
   "cell_type": "code",
   "execution_count": 880,
   "id": "819377a5",
   "metadata": {
    "ExecuteTime": {
     "end_time": "2021-09-16T00:55:43.557046Z",
     "start_time": "2021-09-16T00:55:43.481049Z"
    }
   },
   "outputs": [
    {
     "data": {
      "text/plain": [
       "{0: <__main__.Agent at 0x23b326c4f48>,\n",
       " 'Carl': <__main__.Agent at 0x23b33d50f88>}"
      ]
     },
     "execution_count": 880,
     "metadata": {},
     "output_type": "execute_result"
    }
   ],
   "source": [
    "s.agents"
   ]
  },
  {
   "cell_type": "code",
   "execution_count": 881,
   "id": "16305a9c",
   "metadata": {
    "ExecuteTime": {
     "end_time": "2021-09-16T00:55:43.828048Z",
     "start_time": "2021-09-16T00:55:43.749049Z"
    }
   },
   "outputs": [
    {
     "data": {
      "text/plain": [
       "{0: <__main__.Agent at 0x23b326c4f48>,\n",
       " 'Carl': <__main__.Agent at 0x23b33d50f88>,\n",
       " 'Carl_0': <__main__.Agent at 0x23b33d50288>}"
      ]
     },
     "execution_count": 881,
     "metadata": {},
     "output_type": "execute_result"
    }
   ],
   "source": [
    "s.add_agent('Carl')\n",
    "s.agents"
   ]
  },
  {
   "cell_type": "code",
   "execution_count": 882,
   "id": "46bbd346",
   "metadata": {
    "ExecuteTime": {
     "end_time": "2021-09-16T00:55:44.098050Z",
     "start_time": "2021-09-16T00:55:44.021052Z"
    }
   },
   "outputs": [
    {
     "data": {
      "text/plain": [
       "[0, 'Carl', 'Carl_0']"
      ]
     },
     "execution_count": 882,
     "metadata": {},
     "output_type": "execute_result"
    }
   ],
   "source": [
    "s.agent_names"
   ]
  },
  {
   "cell_type": "code",
   "execution_count": 883,
   "id": "5e4dbf98",
   "metadata": {
    "ExecuteTime": {
     "end_time": "2021-09-16T00:55:44.367049Z",
     "start_time": "2021-09-16T00:55:44.288051Z"
    }
   },
   "outputs": [],
   "source": [
    "s.delete_agent()"
   ]
  },
  {
   "cell_type": "code",
   "execution_count": 884,
   "id": "879ed52c",
   "metadata": {
    "ExecuteTime": {
     "end_time": "2021-09-16T00:55:44.635049Z",
     "start_time": "2021-09-16T00:55:44.558048Z"
    }
   },
   "outputs": [
    {
     "data": {
      "text/plain": [
       "{'Carl': <__main__.Agent at 0x23b33d50f88>,\n",
       " 'Carl_0': <__main__.Agent at 0x23b33d50288>}"
      ]
     },
     "execution_count": 884,
     "metadata": {},
     "output_type": "execute_result"
    }
   ],
   "source": [
    "s.agents"
   ]
  },
  {
   "cell_type": "code",
   "execution_count": 885,
   "id": "542d4200",
   "metadata": {
    "ExecuteTime": {
     "end_time": "2021-09-16T00:55:44.901051Z",
     "start_time": "2021-09-16T00:55:44.823051Z"
    }
   },
   "outputs": [
    {
     "data": {
      "text/plain": [
       "'Please enter the name of an agent who is in the server.'"
      ]
     },
     "execution_count": 885,
     "metadata": {},
     "output_type": "execute_result"
    }
   ],
   "source": [
    "s.delete_agent(\"John\")"
   ]
  },
  {
   "cell_type": "code",
   "execution_count": 886,
   "id": "b8d108cc",
   "metadata": {
    "ExecuteTime": {
     "end_time": "2021-09-16T00:55:45.171051Z",
     "start_time": "2021-09-16T00:55:45.092048Z"
    }
   },
   "outputs": [
    {
     "data": {
      "text/plain": [
       "0"
      ]
     },
     "execution_count": 886,
     "metadata": {},
     "output_type": "execute_result"
    }
   ],
   "source": [
    "s.queue_len('Carl')"
   ]
  },
  {
   "cell_type": "code",
   "execution_count": 890,
   "id": "adc8400b",
   "metadata": {
    "ExecuteTime": {
     "end_time": "2021-09-16T00:55:49.392376Z",
     "start_time": "2021-09-16T00:55:49.311378Z"
    }
   },
   "outputs": [],
   "source": [
    "s.update_server(2, True)"
   ]
  },
  {
   "cell_type": "code",
   "execution_count": 891,
   "id": "b151d999",
   "metadata": {
    "ExecuteTime": {
     "end_time": "2021-09-16T00:55:49.821376Z",
     "start_time": "2021-09-16T00:55:49.735378Z"
    }
   },
   "outputs": [
    {
     "data": {
      "text/plain": [
       "[1, 1]"
      ]
     },
     "execution_count": 891,
     "metadata": {},
     "output_type": "execute_result"
    }
   ],
   "source": [
    "s.get_queue_lengths()"
   ]
  },
  {
   "cell_type": "code",
   "execution_count": 892,
   "id": "d578e6d9",
   "metadata": {
    "ExecuteTime": {
     "end_time": "2021-09-16T00:55:50.249190Z",
     "start_time": "2021-09-16T00:55:50.164193Z"
    }
   },
   "outputs": [
    {
     "data": {
      "text/plain": [
       "2"
      ]
     },
     "execution_count": 892,
     "metadata": {},
     "output_type": "execute_result"
    }
   ],
   "source": [
    "s.total_in_queue()"
   ]
  },
  {
   "cell_type": "code",
   "execution_count": 893,
   "id": "7c629570",
   "metadata": {
    "ExecuteTime": {
     "end_time": "2021-09-16T00:55:53.409533Z",
     "start_time": "2021-09-16T00:55:53.334534Z"
    }
   },
   "outputs": [
    {
     "data": {
      "text/plain": [
       "4"
      ]
     },
     "execution_count": 893,
     "metadata": {},
     "output_type": "execute_result"
    }
   ],
   "source": [
    "s.time"
   ]
  },
  {
   "cell_type": "code",
   "execution_count": null,
   "id": "4e915fd4",
   "metadata": {},
   "outputs": [],
   "source": []
  },
  {
   "cell_type": "code",
   "execution_count": null,
   "id": "e7bec4bb",
   "metadata": {},
   "outputs": [],
   "source": []
  },
  {
   "cell_type": "code",
   "execution_count": 493,
   "id": "f5a48f17",
   "metadata": {
    "ExecuteTime": {
     "end_time": "2021-09-15T00:10:43.803624Z",
     "start_time": "2021-09-15T00:10:43.732317Z"
    },
    "scrolled": true
   },
   "outputs": [],
   "source": [
    "s = Server(num_agents=1)\n",
    "time = np.random.exponential(2)\n",
    "arrival_times = []\n",
    "for i in range(100):\n",
    "    arrival_times.append(time)\n",
    "    s.update(time, True)\n",
    "    time += np.random.exponential(2)\n",
    "    "
   ]
  },
  {
   "cell_type": "code",
   "execution_count": 494,
   "id": "f33058cb",
   "metadata": {
    "ExecuteTime": {
     "end_time": "2021-09-15T00:10:45.062355Z",
     "start_time": "2021-09-15T00:10:45.000822Z"
    }
   },
   "outputs": [],
   "source": [
    "while(s.is_idle()==False):\n",
    "    s.update(time, False)\n",
    "    time += 1"
   ]
  },
  {
   "cell_type": "code",
   "execution_count": 495,
   "id": "367a77c4",
   "metadata": {
    "ExecuteTime": {
     "end_time": "2021-09-15T00:10:45.653817Z",
     "start_time": "2021-09-15T00:10:45.585662Z"
    }
   },
   "outputs": [
    {
     "data": {
      "text/plain": [
       "True"
      ]
     },
     "execution_count": 495,
     "metadata": {},
     "output_type": "execute_result"
    }
   ],
   "source": [
    "s.is_idle()"
   ]
  },
  {
   "cell_type": "code",
   "execution_count": 496,
   "id": "1c4f6be0",
   "metadata": {
    "ExecuteTime": {
     "end_time": "2021-09-15T00:10:46.201819Z",
     "start_time": "2021-09-15T00:10:46.132824Z"
    },
    "scrolled": true
   },
   "outputs": [],
   "source": [
    "idle_times, busy_times, queue_length, service_starts, service_ends, service_time = s.get_stats()"
   ]
  },
  {
   "cell_type": "code",
   "execution_count": 497,
   "id": "715e7fd1",
   "metadata": {
    "ExecuteTime": {
     "end_time": "2021-09-15T00:10:47.434906Z",
     "start_time": "2021-09-15T00:10:47.372618Z"
    }
   },
   "outputs": [],
   "source": [
    "df = pd.DataFrame(columns=['arrival_time','queue_length','service_starts','service_ends','service_time','check_serv'])"
   ]
  },
  {
   "cell_type": "code",
   "execution_count": 498,
   "id": "dcd4ed91",
   "metadata": {
    "ExecuteTime": {
     "end_time": "2021-09-15T00:10:48.042476Z",
     "start_time": "2021-09-15T00:10:47.977223Z"
    }
   },
   "outputs": [],
   "source": [
    "df.arrival_time = arrival_times\n",
    "df.queue_length = queue_length[:len(arrival_times)]\n",
    "df.service_time = service_time"
   ]
  },
  {
   "cell_type": "code",
   "execution_count": 499,
   "id": "aa81a948",
   "metadata": {
    "ExecuteTime": {
     "end_time": "2021-09-15T00:10:48.558988Z",
     "start_time": "2021-09-15T00:10:48.484993Z"
    },
    "scrolled": true
   },
   "outputs": [
    {
     "data": {
      "text/plain": [
       "(100, 100, 100)"
      ]
     },
     "execution_count": 499,
     "metadata": {},
     "output_type": "execute_result"
    }
   ],
   "source": [
    "len(arrival_times), len(service_starts), len(service_ends)"
   ]
  },
  {
   "cell_type": "code",
   "execution_count": 500,
   "id": "d4c1d146",
   "metadata": {
    "ExecuteTime": {
     "end_time": "2021-09-15T00:10:49.108823Z",
     "start_time": "2021-09-15T00:10:49.042818Z"
    },
    "scrolled": true
   },
   "outputs": [],
   "source": [
    "df.service_starts[:len(service_starts)] = service_starts"
   ]
  },
  {
   "cell_type": "code",
   "execution_count": 501,
   "id": "f81c1ecd",
   "metadata": {
    "ExecuteTime": {
     "end_time": "2021-09-15T00:10:49.542233Z",
     "start_time": "2021-09-15T00:10:49.480716Z"
    }
   },
   "outputs": [],
   "source": [
    "df.service_ends[:len(service_ends)] = service_ends"
   ]
  },
  {
   "cell_type": "code",
   "execution_count": 502,
   "id": "97201965",
   "metadata": {
    "ExecuteTime": {
     "end_time": "2021-09-15T00:10:49.773568Z",
     "start_time": "2021-09-15T00:10:49.698136Z"
    }
   },
   "outputs": [],
   "source": [
    "df['check_serv'] = df.service_ends - df.service_starts"
   ]
  },
  {
   "cell_type": "code",
   "execution_count": 503,
   "id": "23066992",
   "metadata": {
    "ExecuteTime": {
     "end_time": "2021-09-15T00:10:49.993793Z",
     "start_time": "2021-09-15T00:10:49.931371Z"
    },
    "scrolled": true
   },
   "outputs": [],
   "source": [
    "df['bool_comp'] = np.round(df.check_serv - df.service_time,2) == 0"
   ]
  },
  {
   "cell_type": "code",
   "execution_count": 504,
   "id": "b7bf8eff",
   "metadata": {
    "ExecuteTime": {
     "end_time": "2021-09-15T00:10:50.401091Z",
     "start_time": "2021-09-15T00:10:50.330465Z"
    }
   },
   "outputs": [
    {
     "data": {
      "text/html": [
       "<div>\n",
       "<style scoped>\n",
       "    .dataframe tbody tr th:only-of-type {\n",
       "        vertical-align: middle;\n",
       "    }\n",
       "\n",
       "    .dataframe tbody tr th {\n",
       "        vertical-align: top;\n",
       "    }\n",
       "\n",
       "    .dataframe thead th {\n",
       "        text-align: right;\n",
       "    }\n",
       "</style>\n",
       "<table border=\"1\" class=\"dataframe\">\n",
       "  <thead>\n",
       "    <tr style=\"text-align: right;\">\n",
       "      <th></th>\n",
       "      <th>arrival_time</th>\n",
       "      <th>queue_length</th>\n",
       "      <th>service_starts</th>\n",
       "      <th>service_ends</th>\n",
       "      <th>service_time</th>\n",
       "      <th>check_serv</th>\n",
       "      <th>bool_comp</th>\n",
       "    </tr>\n",
       "  </thead>\n",
       "  <tbody>\n",
       "  </tbody>\n",
       "</table>\n",
       "</div>"
      ],
      "text/plain": [
       "Empty DataFrame\n",
       "Columns: [arrival_time, queue_length, service_starts, service_ends, service_time, check_serv, bool_comp]\n",
       "Index: []"
      ]
     },
     "execution_count": 504,
     "metadata": {},
     "output_type": "execute_result"
    }
   ],
   "source": [
    "df[df.bool_comp==False]"
   ]
  },
  {
   "cell_type": "code",
   "execution_count": 510,
   "id": "065a671c",
   "metadata": {
    "ExecuteTime": {
     "end_time": "2021-09-15T21:37:45.416640Z",
     "start_time": "2021-09-15T21:37:45.294641Z"
    }
   },
   "outputs": [
    {
     "data": {
      "text/html": [
       "<div>\n",
       "<style scoped>\n",
       "    .dataframe tbody tr th:only-of-type {\n",
       "        vertical-align: middle;\n",
       "    }\n",
       "\n",
       "    .dataframe tbody tr th {\n",
       "        vertical-align: top;\n",
       "    }\n",
       "\n",
       "    .dataframe thead th {\n",
       "        text-align: right;\n",
       "    }\n",
       "</style>\n",
       "<table border=\"1\" class=\"dataframe\">\n",
       "  <thead>\n",
       "    <tr style=\"text-align: right;\">\n",
       "      <th></th>\n",
       "      <th>arrival_time</th>\n",
       "      <th>queue_length</th>\n",
       "      <th>service_starts</th>\n",
       "      <th>service_ends</th>\n",
       "      <th>service_time</th>\n",
       "      <th>check_serv</th>\n",
       "      <th>bool_comp</th>\n",
       "    </tr>\n",
       "  </thead>\n",
       "  <tbody>\n",
       "    <tr>\n",
       "      <th>0</th>\n",
       "      <td>3.059438</td>\n",
       "      <td>1</td>\n",
       "      <td>3.059438</td>\n",
       "      <td>3.599280</td>\n",
       "      <td>0.539842</td>\n",
       "      <td>0.539842</td>\n",
       "      <td>True</td>\n",
       "    </tr>\n",
       "    <tr>\n",
       "      <th>1</th>\n",
       "      <td>3.600674</td>\n",
       "      <td>1</td>\n",
       "      <td>3.600674</td>\n",
       "      <td>7.850468</td>\n",
       "      <td>4.249794</td>\n",
       "      <td>4.249794</td>\n",
       "      <td>True</td>\n",
       "    </tr>\n",
       "    <tr>\n",
       "      <th>2</th>\n",
       "      <td>5.203191</td>\n",
       "      <td>2</td>\n",
       "      <td>7.850468</td>\n",
       "      <td>8.962993</td>\n",
       "      <td>1.112526</td>\n",
       "      <td>1.112526</td>\n",
       "      <td>True</td>\n",
       "    </tr>\n",
       "    <tr>\n",
       "      <th>3</th>\n",
       "      <td>9.222419</td>\n",
       "      <td>1</td>\n",
       "      <td>9.222419</td>\n",
       "      <td>11.393150</td>\n",
       "      <td>2.170731</td>\n",
       "      <td>2.170731</td>\n",
       "      <td>True</td>\n",
       "    </tr>\n",
       "    <tr>\n",
       "      <th>4</th>\n",
       "      <td>10.067631</td>\n",
       "      <td>2</td>\n",
       "      <td>11.393150</td>\n",
       "      <td>12.153752</td>\n",
       "      <td>0.760602</td>\n",
       "      <td>0.760602</td>\n",
       "      <td>True</td>\n",
       "    </tr>\n",
       "    <tr>\n",
       "      <th>...</th>\n",
       "      <td>...</td>\n",
       "      <td>...</td>\n",
       "      <td>...</td>\n",
       "      <td>...</td>\n",
       "      <td>...</td>\n",
       "      <td>...</td>\n",
       "      <td>...</td>\n",
       "    </tr>\n",
       "    <tr>\n",
       "      <th>95</th>\n",
       "      <td>189.721468</td>\n",
       "      <td>6</td>\n",
       "      <td>194.808036</td>\n",
       "      <td>197.120561</td>\n",
       "      <td>2.312525</td>\n",
       "      <td>2.312525</td>\n",
       "      <td>True</td>\n",
       "    </tr>\n",
       "    <tr>\n",
       "      <th>96</th>\n",
       "      <td>189.734602</td>\n",
       "      <td>7</td>\n",
       "      <td>197.120561</td>\n",
       "      <td>199.922480</td>\n",
       "      <td>2.801920</td>\n",
       "      <td>2.801920</td>\n",
       "      <td>True</td>\n",
       "    </tr>\n",
       "    <tr>\n",
       "      <th>97</th>\n",
       "      <td>192.030623</td>\n",
       "      <td>7</td>\n",
       "      <td>199.922480</td>\n",
       "      <td>200.077194</td>\n",
       "      <td>0.154714</td>\n",
       "      <td>0.154714</td>\n",
       "      <td>True</td>\n",
       "    </tr>\n",
       "    <tr>\n",
       "      <th>98</th>\n",
       "      <td>192.606488</td>\n",
       "      <td>8</td>\n",
       "      <td>200.077194</td>\n",
       "      <td>200.358775</td>\n",
       "      <td>0.281580</td>\n",
       "      <td>0.281580</td>\n",
       "      <td>True</td>\n",
       "    </tr>\n",
       "    <tr>\n",
       "      <th>99</th>\n",
       "      <td>193.474480</td>\n",
       "      <td>8</td>\n",
       "      <td>200.358775</td>\n",
       "      <td>201.135818</td>\n",
       "      <td>0.777043</td>\n",
       "      <td>0.777043</td>\n",
       "      <td>True</td>\n",
       "    </tr>\n",
       "  </tbody>\n",
       "</table>\n",
       "<p>100 rows × 7 columns</p>\n",
       "</div>"
      ],
      "text/plain": [
       "    arrival_time  queue_length  service_starts  service_ends  service_time  \\\n",
       "0       3.059438             1        3.059438      3.599280      0.539842   \n",
       "1       3.600674             1        3.600674      7.850468      4.249794   \n",
       "2       5.203191             2        7.850468      8.962993      1.112526   \n",
       "3       9.222419             1        9.222419     11.393150      2.170731   \n",
       "4      10.067631             2       11.393150     12.153752      0.760602   \n",
       "..           ...           ...             ...           ...           ...   \n",
       "95    189.721468             6      194.808036    197.120561      2.312525   \n",
       "96    189.734602             7      197.120561    199.922480      2.801920   \n",
       "97    192.030623             7      199.922480    200.077194      0.154714   \n",
       "98    192.606488             8      200.077194    200.358775      0.281580   \n",
       "99    193.474480             8      200.358775    201.135818      0.777043   \n",
       "\n",
       "    check_serv  bool_comp  \n",
       "0     0.539842       True  \n",
       "1     4.249794       True  \n",
       "2     1.112526       True  \n",
       "3     2.170731       True  \n",
       "4     0.760602       True  \n",
       "..         ...        ...  \n",
       "95    2.312525       True  \n",
       "96    2.801920       True  \n",
       "97    0.154714       True  \n",
       "98    0.281580       True  \n",
       "99    0.777043       True  \n",
       "\n",
       "[100 rows x 7 columns]"
      ]
     },
     "execution_count": 510,
     "metadata": {},
     "output_type": "execute_result"
    }
   ],
   "source": [
    "df"
   ]
  },
  {
   "cell_type": "code",
   "execution_count": 506,
   "id": "4131a114",
   "metadata": {
    "ExecuteTime": {
     "end_time": "2021-09-15T00:10:51.061611Z",
     "start_time": "2021-09-15T00:10:50.994796Z"
    }
   },
   "outputs": [
    {
     "data": {
      "text/plain": [
       "True"
      ]
     },
     "execution_count": 506,
     "metadata": {},
     "output_type": "execute_result"
    }
   ],
   "source": [
    "s.is_idle()"
   ]
  },
  {
   "cell_type": "code",
   "execution_count": 507,
   "id": "7bbcb0dc",
   "metadata": {
    "ExecuteTime": {
     "end_time": "2021-09-15T00:10:52.918449Z",
     "start_time": "2021-09-15T00:10:52.846054Z"
    }
   },
   "outputs": [
    {
     "data": {
      "text/plain": [
       "202.62160202849063"
      ]
     },
     "execution_count": 507,
     "metadata": {},
     "output_type": "execute_result"
    }
   ],
   "source": [
    "time"
   ]
  },
  {
   "cell_type": "markdown",
   "id": "15658fa2",
   "metadata": {},
   "source": [
    "## Statistical Analysis"
   ]
  },
  {
   "cell_type": "markdown",
   "id": "030d2c6d",
   "metadata": {},
   "source": [
    "### Agent Utilization\n",
    "__(Sum of the duration of busy intervals) / (Total Simulation Length)__\n"
   ]
  },
  {
   "cell_type": "code",
   "execution_count": 470,
   "id": "85acf574",
   "metadata": {
    "ExecuteTime": {
     "end_time": "2021-09-14T23:50:45.641652Z",
     "start_time": "2021-09-14T23:50:45.568121Z"
    }
   },
   "outputs": [
    {
     "data": {
      "text/plain": [
       "0.7738389478039474"
      ]
     },
     "execution_count": 470,
     "metadata": {},
     "output_type": "execute_result"
    }
   ],
   "source": [
    "busy_percent = np.sum(busy_times)/service_ends[-1]\n",
    "busy_percent"
   ]
  },
  {
   "cell_type": "code",
   "execution_count": 471,
   "id": "80c6e9a6",
   "metadata": {
    "ExecuteTime": {
     "end_time": "2021-09-14T23:50:55.324298Z",
     "start_time": "2021-09-14T23:50:55.261268Z"
    }
   },
   "outputs": [
    {
     "data": {
      "text/plain": [
       "0.22616105219605262"
      ]
     },
     "execution_count": 471,
     "metadata": {},
     "output_type": "execute_result"
    }
   ],
   "source": [
    "idle_percent = np.sum(idle_times)/service_ends[-1]\n",
    "idle_percent"
   ]
  },
  {
   "cell_type": "code",
   "execution_count": 472,
   "id": "8b222be4",
   "metadata": {
    "ExecuteTime": {
     "end_time": "2021-09-14T23:51:03.856401Z",
     "start_time": "2021-09-14T23:51:03.786103Z"
    }
   },
   "outputs": [
    {
     "data": {
      "text/plain": [
       "1.0"
      ]
     },
     "execution_count": 472,
     "metadata": {},
     "output_type": "execute_result"
    }
   ],
   "source": [
    "busy_percent + idle_percent"
   ]
  },
  {
   "cell_type": "markdown",
   "id": "c55c8883",
   "metadata": {},
   "source": [
    "### Time in Queue"
   ]
  },
  {
   "cell_type": "code",
   "execution_count": 512,
   "id": "4a5bc441",
   "metadata": {
    "ExecuteTime": {
     "end_time": "2021-09-15T21:37:58.020146Z",
     "start_time": "2021-09-15T21:37:57.956146Z"
    }
   },
   "outputs": [],
   "source": [
    "df['time_in_queue'] = df.service_starts - df.arrival_time"
   ]
  },
  {
   "cell_type": "code",
   "execution_count": 513,
   "id": "8289e7e9",
   "metadata": {
    "ExecuteTime": {
     "end_time": "2021-09-15T21:37:58.510762Z",
     "start_time": "2021-09-15T21:37:58.437767Z"
    }
   },
   "outputs": [
    {
     "data": {
      "text/plain": [
       "4.068567766688279"
      ]
     },
     "execution_count": 513,
     "metadata": {},
     "output_type": "execute_result"
    }
   ],
   "source": [
    "df.time_in_queue.mean()"
   ]
  },
  {
   "cell_type": "code",
   "execution_count": 561,
   "id": "195b5ad3",
   "metadata": {
    "ExecuteTime": {
     "end_time": "2021-09-15T23:45:25.247216Z",
     "start_time": "2021-09-15T23:45:25.094220Z"
    }
   },
   "outputs": [
    {
     "data": {
      "image/png": "[encoded data removed]",
      "text/plain": [
       "<Figure size 432x288 with 1 Axes>"
      ]
     },
     "metadata": {
      "needs_background": "light"
     },
     "output_type": "display_data"
    }
   ],
   "source": [
    "values = plt.hist(df.time_in_queue, bins=7)\n",
    "x, y = values[1], values[0]"
   ]
  },
  {
   "cell_type": "code",
   "execution_count": 570,
   "id": "e5c6cb2a",
   "metadata": {
    "ExecuteTime": {
     "end_time": "2021-09-15T23:48:46.377298Z",
     "start_time": "2021-09-15T23:48:46.297297Z"
    }
   },
   "outputs": [
    {
     "data": {
      "text/plain": [
       "1.2843140456707534"
      ]
     },
     "execution_count": 570,
     "metadata": {},
     "output_type": "execute_result"
    }
   ],
   "source": [
    ".5*(x[1]-x[0])"
   ]
  },
  {
   "cell_type": "code",
   "execution_count": 575,
   "id": "5fc37443",
   "metadata": {
    "ExecuteTime": {
     "end_time": "2021-09-15T23:50:15.910148Z",
     "start_time": "2021-09-15T23:50:15.831153Z"
    }
   },
   "outputs": [
    {
     "data": {
      "text/plain": [
       "[1.2843140456707534,\n",
       " 3.85294213701226,\n",
       " 6.421570228353767,\n",
       " 8.990198319695272,\n",
       " 11.55882641103678,\n",
       " 14.127454502378287,\n",
       " 16.696082593719794]"
      ]
     },
     "execution_count": 575,
     "metadata": {},
     "output_type": "execute_result"
    }
   ],
   "source": [
    "x2 = [.5*(x[1]-x[0])+i*(x[1]-x[0]) for i in range(len(x)-1)]\n",
    "x2"
   ]
  },
  {
   "cell_type": "code",
   "execution_count": 595,
   "id": "374a537b",
   "metadata": {
    "ExecuteTime": {
     "end_time": "2021-09-15T23:53:56.318583Z",
     "start_time": "2021-09-15T23:53:56.248581Z"
    }
   },
   "outputs": [
    {
     "data": {
      "text/plain": [
       "(-17.544263037352, 48.28550072164288)"
      ]
     },
     "execution_count": 595,
     "metadata": {},
     "output_type": "execute_result"
    }
   ],
   "source": [
    "a, b = np.polyfit(np.log(x2), y, 1)\n",
    "a, b"
   ]
  },
  {
   "cell_type": "code",
   "execution_count": 596,
   "id": "4a392e21",
   "metadata": {
    "ExecuteTime": {
     "end_time": "2021-09-15T23:53:56.794243Z",
     "start_time": "2021-09-15T23:53:56.724248Z"
    }
   },
   "outputs": [],
   "source": [
    "y_fit = a*np.log(x2) + b"
   ]
  },
  {
   "cell_type": "code",
   "execution_count": 597,
   "id": "6b6fc416",
   "metadata": {
    "ExecuteTime": {
     "end_time": "2021-09-15T23:53:57.739106Z",
     "start_time": "2021-09-15T23:53:57.387107Z"
    }
   },
   "outputs": [
    {
     "data": {
      "text/plain": [
       "[<matplotlib.lines.Line2D at 0x23b33af2508>]"
      ]
     },
     "execution_count": 597,
     "metadata": {},
     "output_type": "execute_result"
    },
    {
     "data": {
      "image/png": "[encoded data removed]",
      "text/plain": [
       "<Figure size 432x288 with 1 Axes>"
      ]
     },
     "metadata": {
      "needs_background": "light"
     },
     "output_type": "display_data"
    }
   ],
   "source": [
    "plt.hist(df.time_in_queue, bins=7)\n",
    "plt.plot(x2, y_fit)"
   ]
  },
  {
   "cell_type": "code",
   "execution_count": 604,
   "id": "4eb8fa89",
   "metadata": {
    "ExecuteTime": {
     "end_time": "2021-09-15T23:56:59.363094Z",
     "start_time": "2021-09-15T23:56:59.214094Z"
    }
   },
   "outputs": [
    {
     "name": "stderr",
     "output_type": "stream",
     "text": [
      "C:\\Users\\Teddy\\AppData\\Roaming\\Python\\Python37\\site-packages\\ipykernel_launcher.py:2: RuntimeWarning:\n",
      "\n",
      "invalid value encountered in log\n",
      "\n"
     ]
    },
    {
     "data": {
      "text/plain": [
       "[<matplotlib.lines.Line2D at 0x23b3250fc48>]"
      ]
     },
     "execution_count": 604,
     "metadata": {},
     "output_type": "execute_result"
    },
    {
     "data": {
      "image/png": "[encoded data removed]",
      "text/plain": [
       "<Figure size 432x288 with 1 Axes>"
      ]
     },
     "metadata": {
      "needs_background": "light"
     },
     "output_type": "display_data"
    }
   ],
   "source": [
    "plt.plot(x2, np.log(y))\n",
    "plt.plot(x2, np.log(y_fit))"
   ]
  },
  {
   "cell_type": "code",
   "execution_count": 600,
   "id": "3c0b5508",
   "metadata": {
    "ExecuteTime": {
     "end_time": "2021-09-15T23:55:24.267146Z",
     "start_time": "2021-09-15T23:55:24.198148Z"
    }
   },
   "outputs": [],
   "source": [
    "resid = ((y_fit - y)**2)/y"
   ]
  },
  {
   "cell_type": "code",
   "execution_count": 601,
   "id": "1bfeceda",
   "metadata": {
    "ExecuteTime": {
     "end_time": "2021-09-15T23:55:28.597003Z",
     "start_time": "2021-09-15T23:55:28.457005Z"
    }
   },
   "outputs": [
    {
     "name": "stderr",
     "output_type": "stream",
     "text": [
      "C:\\Users\\Teddy\\.julia\\conda\\3\\lib\\site-packages\\statsmodels\\graphics\\gofplots.py:993: UserWarning:\n",
      "\n",
      "marker is redundantly defined by the 'marker' keyword argument and the fmt string \"bo\" (-> marker='o'). The keyword argument will take precedence.\n",
      "\n"
     ]
    },
    {
     "data": {
      "image/png": "[encoded data removed]",
      "text/plain": [
       "<Figure size 432x288 with 1 Axes>"
      ]
     },
     "metadata": {
      "needs_background": "light"
     },
     "output_type": "display_data"
    }
   ],
   "source": [
    "sm.qqplot(resid) #normal distribution\n",
    "plt.show()"
   ]
  },
  {
   "cell_type": "code",
   "execution_count": 598,
   "id": "c64f0f2f",
   "metadata": {
    "ExecuteTime": {
     "end_time": "2021-09-15T23:54:23.857721Z",
     "start_time": "2021-09-15T23:54:23.688720Z"
    }
   },
   "outputs": [
    {
     "data": {
      "text/plain": [
       "(array([34., 12., 13.,  8., 10.,  2.,  6.,  2.,  0.,  2.,  4.,  4.,  0.,\n",
       "         0.,  3.]),\n",
       " array([ 0.        ,  1.19869311,  2.39738622,  3.59607933,  4.79477244,\n",
       "         5.99346555,  7.19215866,  8.39085177,  9.58954487, 10.78823798,\n",
       "        11.98693109, 13.1856242 , 14.38431731, 15.58301042, 16.78170353,\n",
       "        17.98039664]),\n",
       " <BarContainer object of 15 artists>)"
      ]
     },
     "execution_count": 598,
     "metadata": {},
     "output_type": "execute_result"
    },
    {
     "data": {
      "image/png": "[encoded data removed]",
      "text/plain": [
       "<Figure size 432x288 with 1 Axes>"
      ]
     },
     "metadata": {
      "needs_background": "light"
     },
     "output_type": "display_data"
    }
   ],
   "source": [
    "plt.hist(df.time_in_queue, bins=15)"
   ]
  },
  {
   "cell_type": "markdown",
   "id": "16c917dd",
   "metadata": {},
   "source": [
    "__Looks like exponential distribution with the appropriate choice of bins. Slight dip around 10 minutes when using more bins__"
   ]
  },
  {
   "cell_type": "code",
   "execution_count": null,
   "id": "2e9bffd0",
   "metadata": {},
   "outputs": [],
   "source": []
  },
  {
   "cell_type": "markdown",
   "id": "4daca0eb",
   "metadata": {},
   "source": [
    "### Time in System"
   ]
  },
  {
   "cell_type": "code",
   "execution_count": 32,
   "id": "dc4942eb",
   "metadata": {
    "ExecuteTime": {
     "end_time": "2021-09-16T01:30:35.376210Z",
     "start_time": "2021-09-16T01:30:35.215208Z"
    }
   },
   "outputs": [
    {
     "data": {
      "text/plain": [
       "(array([24., 17., 14., 14., 16.,  9.,  6.]),\n",
       " array([ 0.13342723,  3.57426896,  7.01511069, 10.45595242, 13.89679415,\n",
       "        17.33763588, 20.77847761, 24.21931934]),\n",
       " <BarContainer object of 7 artists>)"
      ]
     },
     "execution_count": 32,
     "metadata": {},
     "output_type": "execute_result"
    },
    {
     "data": {
      "image/png": "[encoded data removed]",
      "text/plain": [
       "<Figure size 432x288 with 1 Axes>"
      ]
     },
     "metadata": {
      "needs_background": "light"
     },
     "output_type": "display_data"
    }
   ],
   "source": [
    "df['time_in_system'] =  df.service_ends - df.arrival_time\n",
    "df.time_in_system.mean()\n",
    "plt.hist(df.time_in_system, bins=7)"
   ]
  },
  {
   "cell_type": "code",
   "execution_count": 467,
   "id": "ca931e86",
   "metadata": {
    "ExecuteTime": {
     "end_time": "2021-09-14T23:49:24.221300Z",
     "start_time": "2021-09-14T23:49:24.140866Z"
    }
   },
   "outputs": [
    {
     "data": {
      "text/html": [
       "<div>\n",
       "<style scoped>\n",
       "    .dataframe tbody tr th:only-of-type {\n",
       "        vertical-align: middle;\n",
       "    }\n",
       "\n",
       "    .dataframe tbody tr th {\n",
       "        vertical-align: top;\n",
       "    }\n",
       "\n",
       "    .dataframe thead th {\n",
       "        text-align: right;\n",
       "    }\n",
       "</style>\n",
       "<table border=\"1\" class=\"dataframe\">\n",
       "  <thead>\n",
       "    <tr style=\"text-align: right;\">\n",
       "      <th></th>\n",
       "      <th>arrival_time</th>\n",
       "      <th>queue_length</th>\n",
       "      <th>service_starts</th>\n",
       "      <th>service_ends</th>\n",
       "      <th>service_time</th>\n",
       "      <th>check_serv</th>\n",
       "      <th>bool_comp</th>\n",
       "      <th>time_in_queue</th>\n",
       "      <th>time_in_system</th>\n",
       "    </tr>\n",
       "  </thead>\n",
       "  <tbody>\n",
       "    <tr>\n",
       "      <th>0</th>\n",
       "      <td>0.414387</td>\n",
       "      <td>1</td>\n",
       "      <td>0.414387</td>\n",
       "      <td>0.967820</td>\n",
       "      <td>0.553434</td>\n",
       "      <td>0.553434</td>\n",
       "      <td>True</td>\n",
       "      <td>0.000000</td>\n",
       "      <td>0.553434</td>\n",
       "    </tr>\n",
       "    <tr>\n",
       "      <th>1</th>\n",
       "      <td>2.148780</td>\n",
       "      <td>1</td>\n",
       "      <td>2.148780</td>\n",
       "      <td>2.785299</td>\n",
       "      <td>0.636519</td>\n",
       "      <td>0.636519</td>\n",
       "      <td>True</td>\n",
       "      <td>0.000000</td>\n",
       "      <td>0.636519</td>\n",
       "    </tr>\n",
       "    <tr>\n",
       "      <th>2</th>\n",
       "      <td>5.041348</td>\n",
       "      <td>1</td>\n",
       "      <td>5.041348</td>\n",
       "      <td>5.637895</td>\n",
       "      <td>0.596547</td>\n",
       "      <td>0.596547</td>\n",
       "      <td>True</td>\n",
       "      <td>0.000000</td>\n",
       "      <td>0.596547</td>\n",
       "    </tr>\n",
       "    <tr>\n",
       "      <th>3</th>\n",
       "      <td>5.674938</td>\n",
       "      <td>1</td>\n",
       "      <td>5.674938</td>\n",
       "      <td>6.322337</td>\n",
       "      <td>0.647399</td>\n",
       "      <td>0.647399</td>\n",
       "      <td>True</td>\n",
       "      <td>0.000000</td>\n",
       "      <td>0.647399</td>\n",
       "    </tr>\n",
       "    <tr>\n",
       "      <th>4</th>\n",
       "      <td>9.607042</td>\n",
       "      <td>1</td>\n",
       "      <td>9.607042</td>\n",
       "      <td>9.609068</td>\n",
       "      <td>0.002026</td>\n",
       "      <td>0.002026</td>\n",
       "      <td>True</td>\n",
       "      <td>0.000000</td>\n",
       "      <td>0.002026</td>\n",
       "    </tr>\n",
       "    <tr>\n",
       "      <th>...</th>\n",
       "      <td>...</td>\n",
       "      <td>...</td>\n",
       "      <td>...</td>\n",
       "      <td>...</td>\n",
       "      <td>...</td>\n",
       "      <td>...</td>\n",
       "      <td>...</td>\n",
       "      <td>...</td>\n",
       "      <td>...</td>\n",
       "    </tr>\n",
       "    <tr>\n",
       "      <th>95</th>\n",
       "      <td>174.924214</td>\n",
       "      <td>2</td>\n",
       "      <td>176.278931</td>\n",
       "      <td>176.591577</td>\n",
       "      <td>0.312646</td>\n",
       "      <td>0.312646</td>\n",
       "      <td>True</td>\n",
       "      <td>1.354717</td>\n",
       "      <td>1.667363</td>\n",
       "    </tr>\n",
       "    <tr>\n",
       "      <th>96</th>\n",
       "      <td>175.673116</td>\n",
       "      <td>3</td>\n",
       "      <td>176.591577</td>\n",
       "      <td>177.456022</td>\n",
       "      <td>0.864445</td>\n",
       "      <td>0.864445</td>\n",
       "      <td>True</td>\n",
       "      <td>0.918461</td>\n",
       "      <td>1.782906</td>\n",
       "    </tr>\n",
       "    <tr>\n",
       "      <th>97</th>\n",
       "      <td>176.047760</td>\n",
       "      <td>4</td>\n",
       "      <td>177.456022</td>\n",
       "      <td>178.490471</td>\n",
       "      <td>1.034450</td>\n",
       "      <td>1.034450</td>\n",
       "      <td>True</td>\n",
       "      <td>1.408262</td>\n",
       "      <td>2.442711</td>\n",
       "    </tr>\n",
       "    <tr>\n",
       "      <th>98</th>\n",
       "      <td>180.810135</td>\n",
       "      <td>1</td>\n",
       "      <td>180.810135</td>\n",
       "      <td>182.298041</td>\n",
       "      <td>1.487905</td>\n",
       "      <td>1.487905</td>\n",
       "      <td>True</td>\n",
       "      <td>0.000000</td>\n",
       "      <td>1.487905</td>\n",
       "    </tr>\n",
       "    <tr>\n",
       "      <th>99</th>\n",
       "      <td>182.886945</td>\n",
       "      <td>1</td>\n",
       "      <td>182.886945</td>\n",
       "      <td>183.921163</td>\n",
       "      <td>1.034218</td>\n",
       "      <td>1.034218</td>\n",
       "      <td>True</td>\n",
       "      <td>0.000000</td>\n",
       "      <td>1.034218</td>\n",
       "    </tr>\n",
       "  </tbody>\n",
       "</table>\n",
       "<p>100 rows × 9 columns</p>\n",
       "</div>"
      ],
      "text/plain": [
       "    arrival_time  queue_length  service_starts  service_ends  service_time  \\\n",
       "0       0.414387             1        0.414387      0.967820      0.553434   \n",
       "1       2.148780             1        2.148780      2.785299      0.636519   \n",
       "2       5.041348             1        5.041348      5.637895      0.596547   \n",
       "3       5.674938             1        5.674938      6.322337      0.647399   \n",
       "4       9.607042             1        9.607042      9.609068      0.002026   \n",
       "..           ...           ...             ...           ...           ...   \n",
       "95    174.924214             2      176.278931    176.591577      0.312646   \n",
       "96    175.673116             3      176.591577    177.456022      0.864445   \n",
       "97    176.047760             4      177.456022    178.490471      1.034450   \n",
       "98    180.810135             1      180.810135    182.298041      1.487905   \n",
       "99    182.886945             1      182.886945    183.921163      1.034218   \n",
       "\n",
       "    check_serv  bool_comp  time_in_queue  time_in_system  \n",
       "0     0.553434       True       0.000000        0.553434  \n",
       "1     0.636519       True       0.000000        0.636519  \n",
       "2     0.596547       True       0.000000        0.596547  \n",
       "3     0.647399       True       0.000000        0.647399  \n",
       "4     0.002026       True       0.000000        0.002026  \n",
       "..         ...        ...            ...             ...  \n",
       "95    0.312646       True       1.354717        1.667363  \n",
       "96    0.864445       True       0.918461        1.782906  \n",
       "97    1.034450       True       1.408262        2.442711  \n",
       "98    1.487905       True       0.000000        1.487905  \n",
       "99    1.034218       True       0.000000        1.034218  \n",
       "\n",
       "[100 rows x 9 columns]"
      ]
     },
     "execution_count": 467,
     "metadata": {},
     "output_type": "execute_result"
    }
   ],
   "source": [
    "df"
   ]
  },
  {
   "cell_type": "code",
   "execution_count": null,
   "id": "1d5be136",
   "metadata": {},
   "outputs": [],
   "source": [
    "sm.qqplot(resid) #normal distribution\n",
    "plt.show()"
   ]
  },
  {
   "cell_type": "markdown",
   "id": "8ac7c686",
   "metadata": {},
   "source": [
    "# References\n",
    "We report here relevant references:\n",
    "1. author1, article1, journal1, year1, url1\n",
    "2. author2, article2, journal2, year2, url2"
   ]
  },
  {
   "cell_type": "code",
   "execution_count": null,
   "id": "c7a288bc",
   "metadata": {},
   "outputs": [],
   "source": []
  },
  {
   "cell_type": "code",
   "execution_count": 2,
   "id": "cc3f2d17",
   "metadata": {},
   "outputs": [
    {
     "ename": "TclError",
     "evalue": "image \"pyimage2\" doesn't exist",
     "output_type": "error",
     "traceback": [
      "\u001b[0;31m---------------------------------------------------------------------------\u001b[0m",
      "\u001b[0;31mTclError\u001b[0m                                  Traceback (most recent call last)",
      "\u001b[0;32m<ipython-input-2-c32950ba1e82>\u001b[0m in \u001b[0;36m<module>\u001b[0;34m\u001b[0m\n\u001b[1;32m    147\u001b[0m \u001b[0mtop_frame\u001b[0m \u001b[0;34m=\u001b[0m \u001b[0mtk\u001b[0m\u001b[0;34m.\u001b[0m\u001b[0mFrame\u001b[0m\u001b[0;34m(\u001b[0m\u001b[0mmain\u001b[0m\u001b[0;34m)\u001b[0m\u001b[0;34m\u001b[0m\u001b[0;34m\u001b[0m\u001b[0m\n\u001b[1;32m    148\u001b[0m \u001b[0mtop_frame\u001b[0m\u001b[0;34m.\u001b[0m\u001b[0mpack\u001b[0m\u001b[0;34m(\u001b[0m\u001b[0mside\u001b[0m\u001b[0;34m=\u001b[0m\u001b[0mtk\u001b[0m\u001b[0;34m.\u001b[0m\u001b[0mTOP\u001b[0m\u001b[0;34m,\u001b[0m \u001b[0mexpand\u001b[0m \u001b[0;34m=\u001b[0m \u001b[0;32mFalse\u001b[0m\u001b[0;34m)\u001b[0m\u001b[0;34m\u001b[0m\u001b[0;34m\u001b[0m\u001b[0m\n\u001b[0;32m--> 149\u001b[0;31m \u001b[0mtk\u001b[0m\u001b[0;34m.\u001b[0m\u001b[0mLabel\u001b[0m\u001b[0;34m(\u001b[0m\u001b[0mtop_frame\u001b[0m\u001b[0;34m,\u001b[0m \u001b[0mimage\u001b[0m \u001b[0;34m=\u001b[0m \u001b[0mlogo\u001b[0m\u001b[0;34m,\u001b[0m \u001b[0mbg\u001b[0m \u001b[0;34m=\u001b[0m \u001b[0;34m\"#000007\"\u001b[0m\u001b[0;34m,\u001b[0m \u001b[0mheight\u001b[0m \u001b[0;34m=\u001b[0m \u001b[0;36m65\u001b[0m\u001b[0;34m,\u001b[0m \u001b[0mwidth\u001b[0m \u001b[0;34m=\u001b[0m \u001b[0;36m1300\u001b[0m\u001b[0;34m)\u001b[0m\u001b[0;34m.\u001b[0m\u001b[0mpack\u001b[0m\u001b[0;34m(\u001b[0m\u001b[0mside\u001b[0m\u001b[0;34m=\u001b[0m\u001b[0mtk\u001b[0m\u001b[0;34m.\u001b[0m\u001b[0mLEFT\u001b[0m\u001b[0;34m,\u001b[0m \u001b[0mexpand\u001b[0m \u001b[0;34m=\u001b[0m \u001b[0;32mFalse\u001b[0m\u001b[0;34m)\u001b[0m\u001b[0;34m\u001b[0m\u001b[0;34m\u001b[0m\u001b[0m\n\u001b[0m\u001b[1;32m    150\u001b[0m \u001b[0mcanvas\u001b[0m \u001b[0;34m=\u001b[0m \u001b[0mtk\u001b[0m\u001b[0;34m.\u001b[0m\u001b[0mCanvas\u001b[0m\u001b[0;34m(\u001b[0m\u001b[0mmain\u001b[0m\u001b[0;34m,\u001b[0m \u001b[0mwidth\u001b[0m \u001b[0;34m=\u001b[0m \u001b[0;36m1300\u001b[0m\u001b[0;34m,\u001b[0m \u001b[0mheight\u001b[0m \u001b[0;34m=\u001b[0m \u001b[0;36m350\u001b[0m\u001b[0;34m,\u001b[0m \u001b[0mbg\u001b[0m \u001b[0;34m=\u001b[0m \u001b[0;34m\"white\"\u001b[0m\u001b[0;34m)\u001b[0m\u001b[0;34m\u001b[0m\u001b[0;34m\u001b[0m\u001b[0m\n\u001b[1;32m    151\u001b[0m \u001b[0mcanvas\u001b[0m\u001b[0;34m.\u001b[0m\u001b[0mpack\u001b[0m\u001b[0;34m(\u001b[0m\u001b[0mside\u001b[0m\u001b[0;34m=\u001b[0m\u001b[0mtk\u001b[0m\u001b[0;34m.\u001b[0m\u001b[0mTOP\u001b[0m\u001b[0;34m,\u001b[0m \u001b[0mexpand\u001b[0m \u001b[0;34m=\u001b[0m \u001b[0;32mFalse\u001b[0m\u001b[0;34m)\u001b[0m\u001b[0;34m\u001b[0m\u001b[0;34m\u001b[0m\u001b[0m\n",
      "\u001b[0;32m~/opt/anaconda3/lib/python3.8/tkinter/__init__.py\u001b[0m in \u001b[0;36m__init__\u001b[0;34m(self, master, cnf, **kw)\u001b[0m\n\u001b[1;32m   3146\u001b[0m \u001b[0;34m\u001b[0m\u001b[0m\n\u001b[1;32m   3147\u001b[0m         \"\"\"\n\u001b[0;32m-> 3148\u001b[0;31m         \u001b[0mWidget\u001b[0m\u001b[0;34m.\u001b[0m\u001b[0m__init__\u001b[0m\u001b[0;34m(\u001b[0m\u001b[0mself\u001b[0m\u001b[0;34m,\u001b[0m \u001b[0mmaster\u001b[0m\u001b[0;34m,\u001b[0m \u001b[0;34m'label'\u001b[0m\u001b[0;34m,\u001b[0m \u001b[0mcnf\u001b[0m\u001b[0;34m,\u001b[0m \u001b[0mkw\u001b[0m\u001b[0;34m)\u001b[0m\u001b[0;34m\u001b[0m\u001b[0;34m\u001b[0m\u001b[0m\n\u001b[0m\u001b[1;32m   3149\u001b[0m \u001b[0;34m\u001b[0m\u001b[0m\n\u001b[1;32m   3150\u001b[0m \u001b[0;34m\u001b[0m\u001b[0m\n",
      "\u001b[0;32m~/opt/anaconda3/lib/python3.8/tkinter/__init__.py\u001b[0m in \u001b[0;36m__init__\u001b[0;34m(self, master, widgetName, cnf, kw, extra)\u001b[0m\n\u001b[1;32m   2570\u001b[0m         \u001b[0;32mfor\u001b[0m \u001b[0mk\u001b[0m\u001b[0;34m,\u001b[0m \u001b[0mv\u001b[0m \u001b[0;32min\u001b[0m \u001b[0mclasses\u001b[0m\u001b[0;34m:\u001b[0m\u001b[0;34m\u001b[0m\u001b[0;34m\u001b[0m\u001b[0m\n\u001b[1;32m   2571\u001b[0m             \u001b[0;32mdel\u001b[0m \u001b[0mcnf\u001b[0m\u001b[0;34m[\u001b[0m\u001b[0mk\u001b[0m\u001b[0;34m]\u001b[0m\u001b[0;34m\u001b[0m\u001b[0;34m\u001b[0m\u001b[0m\n\u001b[0;32m-> 2572\u001b[0;31m         self.tk.call(\n\u001b[0m\u001b[1;32m   2573\u001b[0m             (widgetName, self._w) + extra + self._options(cnf))\n\u001b[1;32m   2574\u001b[0m         \u001b[0;32mfor\u001b[0m \u001b[0mk\u001b[0m\u001b[0;34m,\u001b[0m \u001b[0mv\u001b[0m \u001b[0;32min\u001b[0m \u001b[0mclasses\u001b[0m\u001b[0;34m:\u001b[0m\u001b[0;34m\u001b[0m\u001b[0;34m\u001b[0m\u001b[0m\n",
      "\u001b[0;31mTclError\u001b[0m: image \"pyimage2\" doesn't exist"
     ]
    }
   ],
   "source": [
    "import itertools\n",
    "from collections import defaultdict\n",
    "\n",
    "import random\n",
    "import numpy as np\n",
    "import pandas as pd\n",
    "import math\n",
    "import time\n",
    "\n",
    "import simpy\n",
    "\n",
    "import json\n",
    "\n",
    "from matplotlib.backends.backend_tkagg import FigureCanvasTkAgg\n",
    "import matplotlib.pyplot as plt\n",
    "\n",
    "import tkinter as tk\n",
    "from PIL import ImageTk\n",
    "\n",
    "# -------------------------\n",
    "#  CONFIGURATION\n",
    "# -------------------------\n",
    "\n",
    "BUS_ARRIVAL_MEAN = 3\n",
    "BUS_OCCUPANCY_MEAN = 100\n",
    "BUS_OCCUPANCY_STD = 30\n",
    "\n",
    "PURCHASE_RATIO_MEAN = 0.4\n",
    "PURCHASE_GROUP_SIZE_MEAN = 2.25\n",
    "PURCHASE_GROUP_SIZE_STD = 0.50\n",
    "\n",
    "TIME_TO_WALK_TO_SELLERS_MEAN = 1\n",
    "TIME_TO_WALK_TO_SELLERS_STD = 0.25\n",
    "TIME_TO_WALK_TO_SCANNERS_MEAN = 0.5\n",
    "TIME_TO_WALK_TO_SCANNERS_STD = 0.1\n",
    "\n",
    "SELLER_LINES = 6\n",
    "SELLERS_PER_LINE = 1\n",
    "SELLER_MEAN = 1\n",
    "SELLER_STD = 0.2\n",
    "\n",
    "SCANNER_LINES = 4\n",
    "SCANNERS_PER_LINE = 1\n",
    "SCANNER_MEAN = 1 / 20\n",
    "SCANNER_STD = 0.01\n",
    "\n",
    "# Let's pre-generate all the bus arrival times and their occupancies so that even if we\n",
    "# change the configuration, we'll have consistent arrivals\n",
    "random.seed(42)\n",
    "ARRIVALS = [ random.expovariate(1 / BUS_ARRIVAL_MEAN) for _ in range(40) ]\n",
    "ON_BOARD = [ int(random.gauss(BUS_OCCUPANCY_MEAN, BUS_OCCUPANCY_STD)) for _ in range(40) ]\n",
    "\n",
    "# -------------------------\n",
    "#  ANALYTICAL GLOBALS\n",
    "# -------------------------\n",
    "\n",
    "arrivals = defaultdict(lambda: 0)\n",
    "seller_waits = defaultdict(lambda: [])\n",
    "scan_waits = defaultdict(lambda: [])\n",
    "event_log = []\n",
    "\n",
    "def register_arrivals(time, num):\n",
    "    arrivals[int(time)] += num\n",
    "\n",
    "def register_seller_wait(time, wait):\n",
    "    seller_waits[int(time)].append(wait)\n",
    "\n",
    "def register_scan_wait(time, wait):\n",
    "    scan_waits[int(time)].append(wait)\n",
    "\n",
    "def avg_wait(raw_waits):\n",
    "    waits = [ w for i in raw_waits.values() for w in i ]\n",
    "    return round(np.mean(waits), 1) if len(waits) > 0 else 0\n",
    "\n",
    "def register_bus_arrival(time, bus_id, people_created):\n",
    "    register_arrivals(time, len(people_created))\n",
    "    print(f\"Bus #{bus_id} arrived at {time} with {len(people_created)} people\")\n",
    "    event_log.append({\n",
    "        \"event\": \"BUS_ARRIVAL\",\n",
    "        \"time\": round(time, 2),\n",
    "        \"busId\": bus_id,\n",
    "        \"peopleCreated\": people_created\n",
    "    })\n",
    "\n",
    "def register_group_moving_from_bus_to_seller(people, walk_begin, walk_end, seller_line, queue_begin, queue_end, sale_begin, sale_end):\n",
    "    wait = queue_end - queue_begin\n",
    "    service_time = sale_end - sale_begin\n",
    "    register_seller_wait(queue_end, wait)\n",
    "    print(f\"Purchasing group of {len(people)} waited {wait} minutes in Line {seller_line}, needed {service_time} minutes to complete\")\n",
    "    event_log.append({\n",
    "        \"event\": \"WALK_TO_SELLER\",\n",
    "        \"people\": people,\n",
    "        \"sellerLine\": seller_line,\n",
    "        \"time\": round(walk_begin, 2),\n",
    "        \"duration\": round(walk_end - walk_begin, 2)\n",
    "    })\n",
    "    event_log.append({\n",
    "        \"event\": \"WAIT_IN_SELLER_LINE\",\n",
    "        \"people\": people,\n",
    "        \"sellerLine\": seller_line,\n",
    "        \"time\": round(queue_begin, 2),\n",
    "        \"duration\": round(queue_end - queue_begin, 2)\n",
    "    })\n",
    "    event_log.append({\n",
    "        \"event\": \"BUY_TICKETS\",\n",
    "        \"people\": people,\n",
    "        \"sellerLine\": seller_line,\n",
    "        \"time\": round(sale_begin, 2),\n",
    "        \"duration\": round(sale_end - sale_begin, 2)\n",
    "    })\n",
    "\n",
    "def register_visitor_moving_to_scanner(person, walk_begin, walk_end, scanner_line, queue_begin, queue_end, scan_begin, scan_end):\n",
    "    wait = queue_end - queue_begin\n",
    "    service_time = scan_end - scan_begin\n",
    "    register_scan_wait(queue_end, wait)\n",
    "    print(f\"Scanning customer waited {wait} minutes in Line {scanner_line}, needed {service_time} minutes to complete\")\n",
    "    event_log.append({\n",
    "        \"event\": \"WALK_TO_SCANNER\",\n",
    "        \"person\": person,\n",
    "        \"scannerLine\": scanner_line,\n",
    "        \"time\": round(walk_begin, 2),\n",
    "        \"duration\": round(walk_end - walk_begin, 2)\n",
    "    })\n",
    "    event_log.append({\n",
    "        \"event\": \"WAIT_IN_SCANNER_LINE\",\n",
    "        \"person\": person,\n",
    "        \"scannerLine\": scanner_line,\n",
    "        \"time\": round(queue_begin, 2),\n",
    "        \"duration\": round(queue_end - queue_begin, 2)\n",
    "    })\n",
    "    event_log.append({\n",
    "        \"event\": \"SCAN_TICKETS\",\n",
    "        \"person\": person,\n",
    "        \"scannerLine\": scanner_line,\n",
    "        \"time\": round(scan_begin, 2),\n",
    "        \"duration\": round(scan_end - scan_begin, 2)\n",
    "    })\n",
    "\n",
    "# -------------------------\n",
    "#  UI/ANIMATION \n",
    "# -------------------------\n",
    "\n",
    "main = tk.Tk()\n",
    "main.title(\"Gate Simulation\")\n",
    "main.config(bg=\"#fff\")\n",
    "logo = tk.PhotoImage(file = \"gate-simulation-master/images/LogoDattivo.png\")\n",
    "top_frame = tk.Frame(main)\n",
    "top_frame.pack(side=tk.TOP, expand = False)\n",
    "tk.Label(top_frame, image = logo, bg = \"#000007\", height = 65, width = 1300).pack(side=tk.LEFT, expand = False)\n",
    "canvas = tk.Canvas(main, width = 1300, height = 350, bg = \"white\")\n",
    "canvas.pack(side=tk.TOP, expand = False)\n",
    "\n",
    "f = plt.Figure(figsize=(2, 2), dpi=72)\n",
    "a3 = f.add_subplot(121)\n",
    "a3.plot()\n",
    "a1 = f.add_subplot(222)\n",
    "a1.plot()\n",
    "a2 = f.add_subplot(224)\n",
    "a2.plot()\n",
    "data_plot = FigureCanvasTkAgg(f, master=main)\n",
    "data_plot.get_tk_widget().config(height = 400)\n",
    "data_plot.get_tk_widget().pack(side=tk.BOTTOM, fill=tk.BOTH, expand=True)\n",
    "\n",
    "class QueueGraphics:\n",
    "    text_height = 30\n",
    "    icon_top_margin = -8\n",
    "    \n",
    "    def __init__(self, icon_file, icon_width, queue_name, num_lines, canvas, x_top, y_top):\n",
    "        self.icon_file = icon_file\n",
    "        self.icon_width = icon_width\n",
    "        self.queue_name = queue_name\n",
    "        self.num_lines = num_lines\n",
    "        self.canvas = canvas\n",
    "        self.x_top = x_top\n",
    "        self.y_top = y_top\n",
    "\n",
    "        self.image = tk.PhotoImage(file = self.icon_file)\n",
    "        self.icons = defaultdict(lambda: [])\n",
    "        for i in range(num_lines):\n",
    "            canvas.create_text(x_top, y_top + (i * self.text_height), anchor = tk.NW, text = f\"{queue_name} #{i + 1}\")\n",
    "        self.canvas.update()\n",
    "\n",
    "    def add_to_line(self, seller_number):\n",
    "        count = len(self.icons[seller_number])\n",
    "        x = self.x_top + 60 + (count * self.icon_width)\n",
    "        y = self.y_top + ((seller_number - 1) * self.text_height) + self.icon_top_margin\n",
    "        self.icons[seller_number].append(\n",
    "                self.canvas.create_image(x, y, anchor = tk.NW, image = self.image)\n",
    "        )\n",
    "        self.canvas.update()\n",
    "\n",
    "    def remove_from_line(self, seller_number):\n",
    "        if len(self.icons[seller_number]) == 0: return\n",
    "        to_del = self.icons[seller_number].pop()\n",
    "        self.canvas.delete(to_del)\n",
    "        self.canvas.update()\n",
    "\n",
    "def Sellers(canvas, x_top, y_top):\n",
    "    return QueueGraphics(\"gate-simulation-master/images/group.gif\", 25, \"Seller\", SELLER_LINES, canvas, x_top, y_top)\n",
    "\n",
    "def Scanners(canvas, x_top, y_top):\n",
    "    return QueueGraphics(\"gate-simulation-master/images/person-resized.gif\", 18, \"Scanner\", SCANNER_LINES, canvas, x_top, y_top)\n",
    "\n",
    "class BusLog:\n",
    "    TEXT_HEIGHT = 24\n",
    "    \n",
    "    def __init__(self, canvas, x_top, y_top):\n",
    "        self.canvas = canvas\n",
    "        self.x_top = x_top\n",
    "        self.y_top = y_top\n",
    "        self.bus_count = 0\n",
    "    \n",
    "    def next_bus(self, minutes):\n",
    "        x = self.x_top\n",
    "        y = self.y_top + (self.bus_count * self.TEXT_HEIGHT)\n",
    "        self.canvas.create_text(x, y, anchor = tk.NW, text = f\"Next bus in {round(minutes, 1)} minutes\")\n",
    "        # self.bus_count = self.bus_count + 1\n",
    "        self.canvas.update()\n",
    "    \n",
    "    def bus_arrived(self, people):\n",
    "        x = self.x_top + 135\n",
    "        y = self.y_top + (self.bus_count * self.TEXT_HEIGHT)\n",
    "        self.canvas.create_text(x, y, anchor = tk.NW, text = f\"Arrived with {people} people\", fill = \"green\")\n",
    "        self.bus_count = self.bus_count + 1\n",
    "        self.canvas.update()\n",
    "\n",
    "class ClockAndData:\n",
    "    def __init__(self, canvas, x1, y1, x2, y2, time):\n",
    "        self.x1 = x1\n",
    "        self.y1 = y1\n",
    "        self.x2 = x2\n",
    "        self.y2 = y2\n",
    "        self.canvas = canvas\n",
    "        self.train = canvas.create_rectangle(self.x1, self.y1, self.x2, self.y2, fill=\"#fff\")\n",
    "        self.time = canvas.create_text(self.x1 + 10, self.y1 + 10, text = \"Time = \"+str(round(time, 1))+\"m\", anchor = tk.NW)\n",
    "        self.seller_wait = canvas.create_text(self.x1 + 10, self.y1 + 40, text = \"Avg. Seller Wait  = \"+str(avg_wait(seller_waits)), anchor = tk.NW)\n",
    "        self.scan_wait = canvas.create_text(self.x1 + 10, self.y1 + 70, text = \"Avg. Scanner Wait = \"+str(avg_wait(scan_waits)), anchor = tk.NW)\n",
    "        self.canvas.update()\n",
    "\n",
    "    def tick(self, time):\n",
    "        self.canvas.delete(self.time)\n",
    "        self.canvas.delete(self.seller_wait)\n",
    "        self.canvas.delete(self.scan_wait)\n",
    "\n",
    "        self.time = canvas.create_text(self.x1 + 10, self.y1 + 10, text = \"Time = \"+str(round(time, 1))+\"m\", anchor = tk.NW)\n",
    "        self.seller_wait = canvas.create_text(self.x1 + 10, self.y1 + 30, text = \"Avg. Seller Wait  = \"+str(avg_wait(seller_waits))+\"m\", anchor = tk.NW)\n",
    "        self.scan_wait = canvas.create_text(self.x1 + 10, self.y1 + 50, text = \"Avg. Scanner Wait = \"+str(avg_wait(scan_waits))+\"m\", anchor = tk.NW)\n",
    "        \n",
    "        a1.cla()\n",
    "        a1.set_xlabel(\"Time\")\n",
    "        a1.set_ylabel(\"Avg. Seller Wait (minutes)\")\n",
    "        a1.step([ t for (t, waits) in seller_waits.items() ], [ np.mean(waits) for (t, waits) in seller_waits.items() ])\n",
    "        \n",
    "        a2.cla()\n",
    "        a2.set_xlabel(\"Time\")\n",
    "        a2.set_ylabel(\"Avg. Scanner Wait (minutes)\")\n",
    "        a2.step([ t for (t, waits) in scan_waits.items() ], [ np.mean(waits) for (t, waits) in scan_waits.items() ])\n",
    "        \n",
    "        a3.cla()\n",
    "        a3.set_xlabel(\"Time\")\n",
    "        a3.set_ylabel(\"Arrivals\")\n",
    "        a3.bar([ t for (t, a) in arrivals.items() ], [ a for (t, a) in arrivals.items() ])\n",
    "        \n",
    "        data_plot.draw()\n",
    "        self.canvas.update()\n",
    "\n",
    "bus_log = BusLog(canvas, 5, 20)\n",
    "sellers = Sellers(canvas, 340, 20)\n",
    "scanners = Scanners(canvas, 770, 20)\n",
    "clock = ClockAndData(canvas, 1100, 260, 1290, 340, 0)\n",
    "\n",
    "# -------------------------\n",
    "#  SIMULATION\n",
    "# -------------------------\n",
    "\n",
    "def pick_shortest(lines):\n",
    "    \"\"\"\n",
    "        Given a list of SimPy resources, determine the one with the shortest queue.\n",
    "        Returns a tuple where the 0th element is the shortest line (a SimPy resource),\n",
    "        and the 1st element is the line # (1-indexed)\n",
    "\n",
    "        Note that the line order is shuffled so that the first queue is not disproportionally selected\n",
    "    \"\"\"\n",
    "    shuffled = list(zip(range(len(lines)), lines)) # tuples of (i, line)\n",
    "    random.shuffle(shuffled)\n",
    "    shortest = shuffled[0][0]\n",
    "    for i, line in shuffled:\n",
    "        if len(line.queue) < len(lines[shortest].queue):\n",
    "            shortest = i\n",
    "            break\n",
    "    return (lines[shortest], shortest + 1)\n",
    "\n",
    "def create_clock(env):\n",
    "    \"\"\"\n",
    "        This generator is meant to be used as a SimPy event to update the clock\n",
    "        and the data in the UI\n",
    "    \"\"\"\n",
    "    \n",
    "    while True:\n",
    "        yield env.timeout(0.1)\n",
    "        clock.tick(env.now)\n",
    "\n",
    "def bus_arrival(env, seller_lines, scanner_lines):\n",
    "    \"\"\"\n",
    "        Simulate a bus arriving every BUS_ARRIVAL_MEAN minutes with \n",
    "        BUS_OCCUPANCY_MEAN people on board\n",
    "\n",
    "        This is the top-level SimPy event for the simulation: all other events\n",
    "        originate from a bus arriving\n",
    "    \"\"\"\n",
    "    # Note that these unique IDs for busses and people are not required, but are included for eventual visualizations \n",
    "    next_bus_id = 0\n",
    "    next_person_id = 0\n",
    "    while True:\n",
    "        # next_bus = random.expovariate(1 / BUS_ARRIVAL_MEAN)        \n",
    "        # on_board = int(random.gauss(BUS_OCCUPANCY_MEAN, BUS_OCCUPANCY_STD))        \n",
    "        next_bus = ARRIVALS.pop()\n",
    "        on_board = ON_BOARD.pop()\n",
    "        \n",
    "        # Wait for the bus \n",
    "        bus_log.next_bus(next_bus)\n",
    "        yield env.timeout(next_bus)\n",
    "        bus_log.bus_arrived(on_board)\n",
    "        \n",
    "        # register_bus_arrival() below is for reporting purposes only \n",
    "        people_ids = list(range(next_person_id, next_person_id + on_board))\n",
    "        register_bus_arrival(env.now, next_bus_id, people_ids)\n",
    "        next_person_id += on_board\n",
    "        next_bus_id += 1\n",
    "\n",
    "        while len(people_ids) > 0:\n",
    "            remaining = len(people_ids)\n",
    "            group_size = min(round(random.gauss(PURCHASE_GROUP_SIZE_MEAN, PURCHASE_GROUP_SIZE_STD)), remaining)\n",
    "            people_processed = people_ids[-group_size:] # Grab the last `group_size` elements\n",
    "            people_ids = people_ids[:-group_size] # Reset people_ids to only those remaining\n",
    "\n",
    "            # Randomly determine if this group is going to the sellers or straight to the scanners\n",
    "            if random.random() > PURCHASE_RATIO_MEAN:\n",
    "                env.process(scanning_customer(env, people_processed, scanner_lines, TIME_TO_WALK_TO_SELLERS_MEAN + TIME_TO_WALK_TO_SCANNERS_MEAN, TIME_TO_WALK_TO_SELLERS_STD + TIME_TO_WALK_TO_SCANNERS_STD))\n",
    "            else:\n",
    "                env.process(purchasing_customer(env, people_processed, seller_lines, scanner_lines))\n",
    "\n",
    "def purchasing_customer(env, people_processed, seller_lines, scanner_lines):\n",
    "    walk_begin = env.now\n",
    "    yield env.timeout(random.gauss(TIME_TO_WALK_TO_SELLERS_MEAN, TIME_TO_WALK_TO_SELLERS_STD))\n",
    "    walk_end = env.now\n",
    "\n",
    "    queue_begin = env.now\n",
    "    seller_line = pick_shortest(seller_lines)\n",
    "    with seller_line[0].request() as req:\n",
    "        # Wait in line\n",
    "        sellers.add_to_line(seller_line[1])\n",
    "        yield req\n",
    "        sellers.remove_from_line(seller_line[1])\n",
    "        queue_end = env.now\n",
    "\n",
    "        # Buy tickets\n",
    "        sale_begin = env.now\n",
    "        yield env.timeout(random.gauss(SELLER_MEAN, SELLER_STD))\n",
    "        sale_end = env.now\n",
    "\n",
    "        register_group_moving_from_bus_to_seller(people_processed, walk_begin, walk_end, seller_line[1], queue_begin, queue_end, sale_begin, sale_end)\n",
    "        \n",
    "        env.process(scanning_customer(env, people_processed, scanner_lines, TIME_TO_WALK_TO_SCANNERS_MEAN, TIME_TO_WALK_TO_SCANNERS_STD))\n",
    "\n",
    "def scanning_customer(env, people_processed, scanner_lines, walk_duration, walk_std):\n",
    "    # Walk to the seller \n",
    "    walk_begin = env.now\n",
    "    yield env.timeout(random.gauss(walk_duration, walk_std))\n",
    "    walk_end = env.now\n",
    "\n",
    "    # We assume that the visitor will always pick the shortest line\n",
    "    queue_begin = env.now    \n",
    "    scanner_line = pick_shortest(scanner_lines)\n",
    "    with scanner_line[0].request() as req:\n",
    "        # Wait in line\n",
    "        for _ in people_processed: scanners.add_to_line(scanner_line[1])\n",
    "        yield req\n",
    "        for _ in people_processed: scanners.remove_from_line(scanner_line[1])\n",
    "        queue_end = env.now\n",
    "        \n",
    "        # Scan each person's tickets \n",
    "        for person in people_processed:\n",
    "            scan_begin = env.now\n",
    "            yield env.timeout(random.gauss(SCANNER_MEAN, SCANNER_STD)) # Scan their ticket\n",
    "            scan_end = env.now\n",
    "            register_visitor_moving_to_scanner(person, walk_begin, walk_end, scanner_line[1], queue_begin, queue_end, scan_begin, scan_end)\n",
    "\n",
    "\n",
    "#env = simpy.rt.RealtimeEnvironment(factor = 0.01, strict = False)\n",
    "env = simpy.Environment()\n",
    "\n",
    "seller_lines = [ simpy.Resource(env, capacity = SELLERS_PER_LINE) for _ in range(SELLER_LINES) ]\n",
    "scanner_lines = [ simpy.Resource(env, capacity = SCANNERS_PER_LINE) for _ in range(SCANNER_LINES) ]\n",
    "\n",
    "env.process(bus_arrival(env, seller_lines, scanner_lines))\n",
    "env.process(create_clock(env))\n",
    "env.run(until = 30)\n",
    "\n",
    "main.mainloop()\n",
    "\n",
    "with open('output/events.json', 'w') as outfile:\n",
    "    json.dump({\n",
    "        \"sellerLines\": SELLER_LINES,\n",
    "        \"scannerLines\": SCANNER_LINES,\n",
    "        \"events\": event_log\n",
    "    }, outfile)"
   ]
  },
  {
   "cell_type": "code",
   "execution_count": null,
   "id": "b71a47c6",
   "metadata": {},
   "outputs": [],
   "source": []
  }
 ],
 "metadata": {
  "kernelspec": {
   "display_name": "Python 3",
   "language": "python",
   "name": "python3"
  },
  "language_info": {
   "codemirror_mode": {
    "name": "ipython",
    "version": 3
   },
   "file_extension": ".py",
   "mimetype": "text/x-python",
   "name": "python",
   "nbconvert_exporter": "python",
   "pygments_lexer": "ipython3",
   "version": "3.8.8"
  },
  "latex_envs": {
   "LaTeX_envs_menu_present": true,
   "autoclose": false,
   "autocomplete": true,
   "bibliofile": "biblio.bib",
   "cite_by": "apalike",
   "current_citInitial": 1,
   "eqLabelWithNumbers": true,
   "eqNumInitial": 1,
   "hotkeys": {
    "equation": "Ctrl-E",
    "itemize": "Ctrl-I"
   },
   "labels_anchors": false,
   "latex_user_defs": false,
   "report_style_numbering": false,
   "user_envs_cfg": false
  },
  "toc": {
   "base_numbering": 1,
   "nav_menu": {},
   "number_sections": true,
   "sideBar": true,
   "skip_h1_title": false,
   "title_cell": "Table of Contents",
   "title_sidebar": "Contents",
   "toc_cell": true,
   "toc_position": {},
   "toc_section_display": true,
   "toc_window_display": false
  },
  "varInspector": {
   "cols": {
    "lenName": 16,
    "lenType": 16,
    "lenVar": 40
   },
   "kernels_config": {
    "python": {
     "delete_cmd_postfix": "",
     "delete_cmd_prefix": "del ",
     "library": "var_list.py",
     "varRefreshCmd": "print(var_dic_list())"
    },
    "r": {
     "delete_cmd_postfix": ") ",
     "delete_cmd_prefix": "rm(",
     "library": "var_list.r",
     "varRefreshCmd": "cat(var_dic_list()) "
    }
   },
   "types_to_exclude": [
    "module",
    "function",
    "builtin_function_or_method",
    "instance",
    "_Feature"
   ],
   "window_display": false
  }
 },
 "nbformat": 4,
 "nbformat_minor": 5
}
