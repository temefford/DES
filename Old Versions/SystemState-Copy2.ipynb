{
 "cells": [
  {
   "cell_type": "markdown",
   "id": "1d944d7c",
   "metadata": {
    "toc": true
   },
   "source": [
    "<h1>Table of Contents<span class=\"tocSkip\"></span></h1>\n",
    "<div class=\"toc\"><ul class=\"toc-item\"></ul></div>"
   ]
  },
  {
   "cell_type": "code",
   "execution_count": 1,
   "id": "e8e8f4ad",
   "metadata": {
    "ExecuteTime": {
     "end_time": "2022-09-20T20:54:47.371004Z",
     "start_time": "2022-09-20T20:54:47.185967Z"
    }
   },
   "outputs": [],
   "source": [
    "import random\n",
    "import datetime\n",
    "import numpy as np\n",
    "import pandas as pd"
   ]
  },
  {
   "cell_type": "code",
   "execution_count": 2,
   "id": "ecd88c8c",
   "metadata": {
    "ExecuteTime": {
     "end_time": "2022-09-20T20:54:57.854562Z",
     "start_time": "2022-09-20T20:54:48.824685Z"
    }
   },
   "outputs": [],
   "source": [
    "class G:\n",
    "    ITERATIONS = 100\n",
    "    DURATIONS = 6120\n",
    "    fac_id_df = pd.read_excel(\"data/FacilityIDLookup.xlsx\")\n",
    "    priv_df = pd.read_excel(\"data/Privileges.xlsx\")\n",
    "    proc_id_df = pd.read_excel(\"data/ProcedureIDLookup.xlsx\")\n",
    "    rad_sched_df = pd.read_excel(\"data/RadiologistSchedules.xlsx\")\n",
    "    restr_df = pd.read_excel(\"data/Restrictions.xlsx\")"
   ]
  },
  {
   "cell_type": "code",
   "execution_count": 3,
   "id": "cfa2d517",
   "metadata": {
    "ExecuteTime": {
     "end_time": "2022-09-20T20:54:57.885564Z",
     "start_time": "2022-09-20T20:54:57.871566Z"
    }
   },
   "outputs": [],
   "source": [
    "def process_data():\n",
    "    G.rads_list = sorted(G.rad_sched_df[\"RadiologistID\"].unique())\n",
    "    rads_in_priv = sorted(G.priv_df[\"RadiologistID\"].unique())\n",
    "    red_priv_df = G.priv_df[G.priv_df[\"RadiologistID\"].isin(G.rads_list)]\n",
    "    G.radiologist_ids = list(set(rads_in_priv).intersection(set(G.rads_list)))\n",
    "    G.red_rad_sched_df = G.rad_sched_df[G.rad_sched_df[\"RadiologistID\"].isin(G.radiologist_ids)]\n",
    "    G.facilities = sorted(red_priv_df[\"FacilityID\"].unique())\n",
    "    G.procedures_list = sorted(G.proc_id_df[\"ProcedureID\"].unique())\n",
    "    G.modalities = list(G.proc_id_df.Modality.unique())\n",
    "    start_time = G.rad_sched_df[\"Start Time\"][0]\n",
    "    G.rad_sched_df['Relative Start Time'] = (G.rad_sched_df[\"Start Time\"] - start_time)/np.timedelta64(1, 's')/60\n",
    "    G.rad_sched_df['Relative End Time'] = (G.rad_sched_df[\"End Time\"] - start_time)/np.timedelta64(1, 's')/60\n",
    "    G.radiologists_by_fac = G.priv_df.groupby(\"FacilityID\")[\"RadiologistID\"].apply(list).reset_index(name='Radiologists').set_index(\"FacilityID\")\n",
    "    G.facilities_by_rad = G.priv_df.groupby(\"RadiologistID\")[\"FacilityID\"].apply(list).reset_index(name='Facilities').set_index(\"RadiologistID\")"
   ]
  },
  {
   "cell_type": "code",
   "execution_count": 4,
   "id": "cda022c9",
   "metadata": {
    "ExecuteTime": {
     "end_time": "2022-09-20T20:54:58.012563Z",
     "start_time": "2022-09-20T20:54:57.903563Z"
    }
   },
   "outputs": [],
   "source": [
    "process_data()"
   ]
  },
  {
   "cell_type": "code",
   "execution_count": 5,
   "id": "fb79382a",
   "metadata": {
    "ExecuteTime": {
     "end_time": "2022-09-20T20:54:58.044563Z",
     "start_time": "2022-09-20T20:54:58.029563Z"
    }
   },
   "outputs": [],
   "source": [
    "G.target_times = {\n",
    "    1: 2,\n",
    "    2: 3,\n",
    "    3: 5\n",
    "}\n",
    "\n",
    "G.specialties = {\n",
    "    1: '1',\n",
    "    2: '2',\n",
    "    3: '3',\n",
    "    4: '4',\n",
    "    5: '5'\n",
    "}\n",
    "\n",
    "G.process_times = {\n",
    "    1: 2,\n",
    "    2: 3,\n",
    "    3: 5\n",
    "}"
   ]
  },
  {
   "cell_type": "code",
   "execution_count": 6,
   "id": "bf68ed2a",
   "metadata": {
    "ExecuteTime": {
     "end_time": "2022-09-20T20:55:06.140748Z",
     "start_time": "2022-09-20T20:55:06.110738Z"
    }
   },
   "outputs": [],
   "source": [
    "class MedicalImage(object):    \n",
    "    def __init__(self, img_id, time_created, urgency, image_type):#, modality, speciality, urgency, image_label):\n",
    "        self.img_id = img_id\n",
    "        self.time_created = time_created\n",
    "        self.urgency = urgency\n",
    "        self.image_type = image_type\n",
    "        self.target_time = G.target_times[urgency]\n",
    "        self.time_remaining = G.target_times[urgency]\n",
    "        self.est_process_time = G.process_times[urgency]\n",
    "        self.in_queues = []   #keep track on which queues image is in [rad_id, position]\n",
    "        self.time_seen = 0\n",
    "        self.time_done = 0\n",
    "        self.rad_seen = \"None\"\n",
    "        \n",
    "    def update_time_remaining(self, t):\n",
    "        self.time_remaining = self.target_time - (t - self.time_created)\n",
    "        \n",
    "        \n",
    "class Radiologist:\n",
    "    def __init__(self, rad_id, specialties, working=True):\n",
    "        self.queue = []\n",
    "        self.queue_data = []#[med_image, image_id, image_urgency, time_left, est_time]\n",
    "        self.rad_id = rad_id\n",
    "        self.specialties = specialties\n",
    "        self.is_working = working\n",
    "        self.images_served = []\n",
    "        self.idle_times = []\n",
    "        self.time_of_last_idle = 0\n",
    "        self.time_last_not_idle = 0\n",
    "        self.busy_times = []\n",
    "        self.time = 0\n",
    "        self.time_current_job_start = 0\n",
    "        self.time_of_step = 0\n",
    "        self.queue_length = []\n",
    "        self.service_starts = []\n",
    "        self.service_ends = []\n",
    "        self.service_time = []        \n",
    "        \n",
    "    def get_stats(self):\n",
    "        return self.idle_times, self.busy_times, self.queue_length, self.service_starts, self.service_ends, self.service_time \n",
    "        \n",
    "    def show_queue(self):\n",
    "        return self.queue_data\n",
    "    \n",
    "    def estimate_queue_time(self):\n",
    "        t = 0\n",
    "        for img in self.queue:\n",
    "            t += img.est_process_time\n",
    "        return t\n",
    "    \n",
    "    def add_job(self, med_image, time):\n",
    "        self.queue.append(med_image)    #each customer is represented by the time it will take for them to be served\n",
    "        self.queue_data.append([med_image, med_image.img_id, med_image.urgency, med_image.time_remaining, med_image.est_process_time, med_image.est_process_time]) #[image_id, image_urgency, time_left, est_time]\n",
    "        #print(self.show_queue())\n",
    "        \n",
    "    def update_queue(self, time):\n",
    "        for img in self.queue:\n",
    "            img.update_time_remaining(time)\n",
    "        #sort_queue()        \n",
    "    #def sort_queue(self):\n",
    "    \n",
    "    def update_queue_data(self, time):\n",
    "        est_time_to_complete = 0\n",
    "        for row in self.queue_data:\n",
    "            est_time_to_complete += row[4]\n",
    "            row[3] = row[0].time_remaining\n",
    "            row[5] = est_time_to_complete\n",
    "                        \n",
    "        \n",
    "        \n",
    "class SystemState:\n",
    "    def __init__(self, events, images, rads):\n",
    "        self.time = 0\n",
    "        self.events = events\n",
    "        self.images = images\n",
    "        self.rads = rads\n",
    "        self.rads_working = rads\n",
    "        self.rads_not_working = []\n",
    "        self.events_history = []\n",
    "        self.queue_lengths = []\n",
    "        self.time_steps = []\n",
    "        self.event_counter = 0\n",
    "        \n",
    "    def create_event(self, time, event_type, obj):\n",
    "        self.events.append([time, event_type, obj])\n",
    "        self.events = sorted(self.events, key=lambda x: x[0])\n",
    "        \n",
    "    def system_update(self):\n",
    "        for rad in self.rads_working:\n",
    "            rad.update_queue(self.time)\n",
    "        \n",
    "    def process_event(self):\n",
    "        self.event_counter+=1\n",
    "        event = self.events[0]\n",
    "        self.events_history.append(event)\n",
    "        self.time = event[0]       \n",
    "        event_type = event[1]\n",
    "        del self.events[0]\n",
    "        temp_list = []\n",
    "        for r in self.rads:\n",
    "            temp_list.append(len(r.queue))\n",
    "        self.queue_lengths.append(temp_list)\n",
    "        self.time_steps.append(self.time)\n",
    "            \n",
    "        if event_type == \"New Job\":\n",
    "            self.distribute_job(event[2])\n",
    "        elif event_type == \"Job Done\":\n",
    "            rad = event[2]\n",
    "            self.complete_job(rad)\n",
    "        print(\"Event processed\")\n",
    "        \n",
    "        self.system_update()\n",
    "        \n",
    "        if self.event_counter == 30:\n",
    "            print(\"Stopped at 30\")\n",
    "        elif len(self.events) > 0:\n",
    "            self.process_event()\n",
    "        else:\n",
    "            print(\"Simulation complete\")\n",
    "                \n",
    "    def distribute_job(self, med_image):\n",
    "        urgency = med_image.urgency\n",
    "        image_type = med_image.image_type\n",
    "        chosen_rads = self.choose_rads(image_type)       \n",
    "        for rad in chosen_rads:\n",
    "            rad.add_job(med_image, self.time)\n",
    "            med_image.in_queues.append(rad)    #keep track of which rads have image in queue\n",
    "            if len(rad.queue)==1:\n",
    "                self.start_job(rad)\n",
    "                break         \n",
    "        self.update_queues() \n",
    "        \n",
    "    def choose_rads(self, image_type):\n",
    "        capable_rads = []\n",
    "        for rad in self.rads_working:      #finds radiologists capable of working on image\n",
    "            if image_type in rad.specialties:\n",
    "                capable_rads.append(rad)\n",
    "        chosen_rads = self.n_quickest_queues(capable_rads, 3)\n",
    "        return capable_rads\n",
    "    \n",
    "    def n_shortest_queues(self, rads_list, n):\n",
    "        rads_tuples = []\n",
    "        for rad in rads_list:\n",
    "            rads_tuples.append([rad, len(rad.queue)])\n",
    "        rads_tuples.sort(key = lambda x: x[1])\n",
    "        return [rad[0] for rad in rads_tuples[:n]]\n",
    "    \n",
    "    def n_quickest_queues(self, rads_list, n):\n",
    "        rads_tuples = []\n",
    "        for rad in rads_list:\n",
    "            rads_tuples.append([rad, rad.estimate_queue_time()])\n",
    "        rads_tuples.sort(key = lambda x: x[1])\n",
    "        return [rad[0] for rad in rads_tuples[:n]]\n",
    "        \n",
    "        \n",
    "    def update_queues(self):\n",
    "        for rad in self.rads_working:\n",
    "            rad.update_queue(self.time)\n",
    "            rad.update_queue_data(self.time)\n",
    "                \n",
    "    def start_job(self, rad):\n",
    "        med_image = rad.queue[0]\n",
    "        image_type = med_image.image_type\n",
    "        urgency = med_image.urgency\n",
    "        rad.service_starts = self.time\n",
    "        med_image.time_seen = self.time\n",
    "        med_image.rad_seen = rad.rad_id\n",
    "        rad.time_current_job_start = self.time\n",
    "        self.events_history.append([self.time, \"Job Started\", med_image])\n",
    "        process_time = np.random.exponential(G.process_times[urgency])\n",
    "        self.create_event(self.time+process_time, \"Job Done\", rad)\n",
    "        print(f\"Image {med_image.img_id} is seen by radiologist {rad.rad_id} at {self.time}\")\n",
    "        for r in med_image.in_queues:\n",
    "            if r != rad:\n",
    "                r.queue.remove(med_image)           \n",
    "        \n",
    "    def complete_job(self, rad):\n",
    "        med_image = rad.queue[0]\n",
    "        rad.images_served.append(med_image.img_id)\n",
    "        rad.service_ends.append(self.time)\n",
    "        med_image.time_done = self.time\n",
    "        print(f\"Image {med_image.img_id} is done by radiologist {rad.rad_id} at {self.time}\")\n",
    "        del rad.queue[0]\n",
    "        del rad.queue_data[0]\n",
    "        self.update_queues()\n",
    "        if len(rad.queue) > 0:\n",
    "            self.start_job(rad)\n",
    "        \n",
    "    def run_simulation(self):\n",
    "        self.process_event()\n",
    "        \n",
    "\n",
    "def sim(duration, image_freq, num_rads):\n",
    "    arrival_times = []\n",
    "    time = 0\n",
    "    while time < duration*60 :\n",
    "        time += np.random.exponential(image_freq)\n",
    "        arrival_times.append(time)        \n",
    "    med_images = []\n",
    "    for i, t in enumerate(arrival_times):\n",
    "        med_images.append(MedicalImage(i, t, random.sample(list(G.target_times.keys()), 1)[0], random.sample(list(G.specialties.keys()), 1)[0]))       \n",
    "    radiologists = []\n",
    "    for i in range(num_rads):\n",
    "        specialties_temp = random.sample(list(G.specialties.keys()), random.randrange(2,6))\n",
    "        radiologists.append(Radiologist(i, specialties_temp))       \n",
    "    events=[]\n",
    "    for img in med_images:\n",
    "        events.append([img.time_created, 'New Job', img])        \n",
    "    s = SystemState(events, med_images, radiologists)\n",
    "    s.run_simulation()    \n",
    "    return s\n",
    "\n",
    "\n",
    "def plot_queue_lengths(s):\n",
    "    fig, ax = plt.subplots()\n",
    "    for i in range(len(s.queue_lengths[0])):\n",
    "        plt.plot(s.time_steps, [item[i] for item in s.queue_lengths])\n",
    "        \n",
    "        \n",
    "def plt_mean_queue_length(s_list):\n",
    "    fig, ax = plt.subplots()\n",
    "    for s in s_list:\n",
    "        plt.plot(s.time_steps, pd.DataFrame(s.queue_lengths).sum(axis=1), label=f\"{len(s.rads)}\")\n",
    "    plt.xlabel(\"time\")\n",
    "    plt.ylabel(\"Mean Queue Length\")\n",
    "    plt.legend()\n",
    "    plt.show()"
   ]
  },
  {
   "cell_type": "code",
   "execution_count": 7,
   "id": "3e120fab",
   "metadata": {
    "ExecuteTime": {
     "end_time": "2022-09-20T20:55:07.534734Z",
     "start_time": "2022-09-20T20:55:07.511734Z"
    }
   },
   "outputs": [
    {
     "name": "stdout",
     "output_type": "stream",
     "text": [
      "Image 0 is seen by radiologist 0 at 0.46374559239155094\n",
      "Event processed\n",
      "Image 0 is done by radiologist 0 at 1.1007555575016439\n",
      "Event processed\n",
      "Image 1 is seen by radiologist 0 at 2.994288340224206\n",
      "Event processed\n",
      "Image 2 is seen by radiologist 2 at 4.276740745573883\n",
      "Event processed\n",
      "Image 1 is done by radiologist 0 at 5.3612976644714125\n",
      "Event processed\n",
      "Image 3 is seen by radiologist 0 at 5.490428595014581\n",
      "Event processed\n",
      "Image 4 is seen by radiologist 1 at 5.696186820989993\n",
      "Event processed\n",
      "Event processed\n",
      "Event processed\n",
      "Image 2 is done by radiologist 2 at 6.539844969702637\n",
      "Image 5 is seen by radiologist 2 at 6.539844969702637\n",
      "Event processed\n",
      "Event processed\n",
      "Image 5 is done by radiologist 2 at 8.574300725913677\n",
      "Image 6 is seen by radiologist 2 at 8.574300725913677\n",
      "Event processed\n",
      "Image 6 is done by radiologist 2 at 8.789414559411574\n",
      "Image 7 is seen by radiologist 2 at 8.789414559411574\n",
      "Event processed\n",
      "Event processed\n",
      "Image 7 is done by radiologist 2 at 9.460212681020574\n",
      "Image 8 is seen by radiologist 2 at 9.460212681020574\n",
      "Event processed\n",
      "Image 8 is done by radiologist 2 at 12.391645431767426\n",
      "Event processed\n",
      "Image 3 is done by radiologist 0 at 14.107104920183183\n",
      "Event processed\n",
      "Image 9 is seen by radiologist 0 at 15.066866041913466\n",
      "Event processed\n",
      "Image 9 is done by radiologist 0 at 16.61604788096049\n",
      "Event processed\n",
      "Image 10 is seen by radiologist 0 at 19.89845078771065\n",
      "Event processed\n",
      "Image 10 is done by radiologist 0 at 20.07381500880376\n",
      "Event processed\n",
      "Image 11 is seen by radiologist 0 at 20.88904618772553\n",
      "Event processed\n",
      "Image 12 is seen by radiologist 2 at 21.024946297344393\n",
      "Event processed\n",
      "Image 11 is done by radiologist 0 at 21.682418533689876\n",
      "Event processed\n",
      "Image 13 is seen by radiologist 0 at 22.105751003669674\n",
      "Event processed\n",
      "Image 14 is seen by radiologist 3 at 22.962101968450682\n",
      "Event processed\n",
      "Image 12 is done by radiologist 2 at 23.36962019749042\n",
      "Event processed\n",
      "Image 13 is done by radiologist 0 at 24.847258705952086\n",
      "Event processed\n",
      "Event processed\n",
      "Image 16 is seen by radiologist 2 at 25.707624936660856\n",
      "Event processed\n",
      "Stopped at 30\n"
     ]
    }
   ],
   "source": [
    "s1 = sim(3, 1, 4)"
   ]
  },
  {
   "cell_type": "code",
   "execution_count": 8,
   "id": "e6d8e4d0",
   "metadata": {
    "ExecuteTime": {
     "end_time": "2022-09-20T20:55:10.053027Z",
     "start_time": "2022-09-20T20:55:09.694153Z"
    }
   },
   "outputs": [
    {
     "data": {
      "application/javascript": [
       "\n",
       "        if (window._pyforest_update_imports_cell) { window._pyforest_update_imports_cell('import matplotlib.pyplot as plt'); }\n",
       "    "
      ],
      "text/plain": [
       "<IPython.core.display.Javascript object>"
      ]
     },
     "metadata": {},
     "output_type": "display_data"
    },
    {
     "data": {
      "application/javascript": [
       "\n",
       "        if (window._pyforest_update_imports_cell) { window._pyforest_update_imports_cell('import matplotlib.pyplot as plt'); }\n",
       "    "
      ],
      "text/plain": [
       "<IPython.core.display.Javascript object>"
      ]
     },
     "metadata": {},
     "output_type": "display_data"
    },
    {
     "data": {
      "application/javascript": [
       "\n",
       "        if (window._pyforest_update_imports_cell) { window._pyforest_update_imports_cell('import matplotlib.pyplot as plt'); }\n",
       "    "
      ],
      "text/plain": [
       "<IPython.core.display.Javascript object>"
      ]
     },
     "metadata": {},
     "output_type": "display_data"
    },
    {
     "data": {
      "application/javascript": [
       "\n",
       "        if (window._pyforest_update_imports_cell) { window._pyforest_update_imports_cell('import matplotlib.pyplot as plt'); }\n",
       "    "
      ],
      "text/plain": [
       "<IPython.core.display.Javascript object>"
      ]
     },
     "metadata": {},
     "output_type": "display_data"
    },
    {
     "data": {
      "application/javascript": [
       "\n",
       "        if (window._pyforest_update_imports_cell) { window._pyforest_update_imports_cell('import matplotlib.pyplot as plt'); }\n",
       "    "
      ],
      "text/plain": [
       "<IPython.core.display.Javascript object>"
      ]
     },
     "metadata": {},
     "output_type": "display_data"
    },
    {
     "data": {
      "image/png": "[encoded data removed]",
      "text/plain": [
       "<Figure size 432x288 with 1 Axes>"
      ]
     },
     "metadata": {
      "needs_background": "light"
     },
     "output_type": "display_data"
    }
   ],
   "source": [
    "plot_queue_lengths(s1)"
   ]
  },
  {
   "cell_type": "code",
   "execution_count": 9,
   "id": "76f1de38",
   "metadata": {
    "ExecuteTime": {
     "end_time": "2022-09-20T20:55:10.949846Z",
     "start_time": "2022-09-20T20:55:10.876846Z"
    }
   },
   "outputs": [
    {
     "name": "stdout",
     "output_type": "stream",
     "text": [
      "Image 0 is seen by radiologist 0 at 8.552623238216757\n",
      "Event processed\n",
      "Image 0 is done by radiologist 0 at 9.134198375559267\n",
      "Event processed\n",
      "Image 1 is seen by radiologist 0 at 15.917802555323474\n",
      "Event processed\n",
      "Image 1 is done by radiologist 0 at 16.411590760027835\n",
      "Event processed\n",
      "Image 2 is seen by radiologist 0 at 22.88224187912219\n",
      "Event processed\n",
      "Image 2 is done by radiologist 0 at 24.914177550911106\n",
      "Event processed\n",
      "Image 3 is seen by radiologist 0 at 26.66724859730912\n",
      "Event processed\n",
      "Image 3 is done by radiologist 0 at 28.21774298781457\n",
      "Event processed\n",
      "Image 4 is seen by radiologist 0 at 35.574789872754835\n",
      "Event processed\n",
      "Image 4 is done by radiologist 0 at 37.99463422150262\n",
      "Event processed\n",
      "Image 5 is seen by radiologist 0 at 40.21185554909188\n",
      "Event processed\n",
      "Image 5 is done by radiologist 0 at 41.45645345953132\n",
      "Event processed\n",
      "Image 6 is seen by radiologist 0 at 48.213345659062576\n",
      "Event processed\n",
      "Image 6 is done by radiologist 0 at 49.98523785736178\n",
      "Event processed\n",
      "Image 7 is seen by radiologist 0 at 55.50082385294403\n",
      "Event processed\n",
      "Image 7 is done by radiologist 0 at 58.81893652789241\n",
      "Event processed\n",
      "Image 8 is seen by radiologist 0 at 64.8145711877964\n",
      "Event processed\n",
      "Image 8 is done by radiologist 0 at 66.05351788008852\n",
      "Event processed\n",
      "Image 9 is seen by radiologist 0 at 81.49589981387945\n",
      "Event processed\n",
      "Image 9 is done by radiologist 0 at 81.6819486199262\n",
      "Event processed\n",
      "Image 10 is seen by radiologist 0 at 83.68475456194389\n",
      "Event processed\n",
      "Image 10 is done by radiologist 0 at 89.34289317011101\n",
      "Event processed\n",
      "Image 11 is seen by radiologist 0 at 152.74339306617247\n",
      "Event processed\n",
      "Image 11 is done by radiologist 0 at 154.70885152472303\n",
      "Event processed\n",
      "Image 12 is seen by radiologist 0 at 165.53726237653032\n",
      "Event processed\n",
      "Image 13 is seen by radiologist 2 at 166.22804291687208\n",
      "Event processed\n",
      "Image 14 is seen by radiologist 1 at 166.8067708845784\n",
      "Event processed\n",
      "Image 13 is done by radiologist 2 at 166.91969041825388\n",
      "Event processed\n",
      "Image 15 is seen by radiologist 2 at 167.78206295447893\n",
      "Event processed\n",
      "Image 15 is done by radiologist 2 at 168.71804143418032\n",
      "Event processed\n",
      "Stopped at 30\n",
      "Image 0 is seen by radiologist 0 at 25.54186004133168\n",
      "Event processed\n",
      "Image 0 is done by radiologist 0 at 28.78621009705196\n",
      "Event processed\n",
      "Image 1 is seen by radiologist 0 at 41.43274041526306\n",
      "Event processed\n",
      "Image 1 is done by radiologist 0 at 42.6742737855774\n",
      "Event processed\n",
      "Image 2 is seen by radiologist 0 at 54.200250226882176\n",
      "Event processed\n",
      "Image 3 is seen by radiologist 2 at 55.69133986183458\n",
      "Event processed\n",
      "Image 3 is done by radiologist 2 at 56.701511442411\n",
      "Event processed\n",
      "Image 4 is seen by radiologist 1 at 60.54268497778022\n",
      "Event processed\n",
      "Image 4 is done by radiologist 1 at 61.01593398344047\n",
      "Event processed\n",
      "Image 2 is done by radiologist 0 at 63.016563266727914\n",
      "Event processed\n",
      "Image 5 is seen by radiologist 2 at 74.84094771237204\n",
      "Event processed\n",
      "Image 5 is done by radiologist 2 at 78.34124106747296\n",
      "Event processed\n",
      "Image 6 is seen by radiologist 0 at 80.06128202426716\n",
      "Event processed\n",
      "Image 6 is done by radiologist 0 at 83.01650105516454\n",
      "Event processed\n",
      "Image 7 is seen by radiologist 0 at 95.29189340113396\n",
      "Event processed\n",
      "Image 7 is done by radiologist 0 at 97.5651657205045\n",
      "Event processed\n",
      "Image 8 is seen by radiologist 5 at 104.92635856158373\n",
      "Event processed\n",
      "Image 8 is done by radiologist 5 at 105.58811625623383\n",
      "Event processed\n",
      "Image 9 is seen by radiologist 2 at 120.3132274811924\n",
      "Event processed\n",
      "Image 10 is seen by radiologist 0 at 121.18964358637666\n",
      "Event processed\n",
      "Image 10 is done by radiologist 0 at 121.75468784770221\n",
      "Event processed\n",
      "Image 9 is done by radiologist 2 at 123.06783916143863\n",
      "Event processed\n",
      "Image 11 is seen by radiologist 2 at 140.58846945196183\n",
      "Event processed\n",
      "Image 11 is done by radiologist 2 at 148.9131212136488\n",
      "Event processed\n",
      "Image 12 is seen by radiologist 2 at 169.72439258920858\n",
      "Event processed\n",
      "Image 12 is done by radiologist 2 at 170.03898156429895\n",
      "Event processed\n",
      "Image 13 is seen by radiologist 0 at 171.6217835090949\n",
      "Event processed\n",
      "Image 13 is done by radiologist 0 at 172.07733229845866\n",
      "Event processed\n",
      "Image 14 is seen by radiologist 0 at 182.92719806775372\n",
      "Event processed\n",
      "Image 14 is done by radiologist 0 at 183.160755581781\n",
      "Event processed\n",
      "Stopped at 30\n",
      "Image 0 is seen by radiologist 0 at 0.06828938399619693\n",
      "Event processed\n",
      "Image 1 is seen by radiologist 1 at 4.357773423552237\n",
      "Event processed\n",
      "Image 0 is done by radiologist 0 at 4.623627691365069\n",
      "Event processed\n",
      "Image 1 is done by radiologist 1 at 8.080279772045772\n",
      "Event processed\n",
      "Image 2 is seen by radiologist 0 at 46.97937746203369\n",
      "Event processed\n",
      "Image 2 is done by radiologist 0 at 47.49628367876449\n",
      "Event processed\n",
      "Image 3 is seen by radiologist 3 at 72.4460907084525\n",
      "Event processed\n",
      "Image 3 is done by radiologist 3 at 72.79631399556287\n",
      "Event processed\n",
      "Image 4 is seen by radiologist 3 at 83.5889579205629\n",
      "Event processed\n",
      "Image 4 is done by radiologist 3 at 84.48324429617273\n",
      "Event processed\n",
      "Image 5 is seen by radiologist 0 at 88.13508965521655\n",
      "Event processed\n",
      "Image 5 is done by radiologist 0 at 88.54311463445906\n",
      "Event processed\n",
      "Image 6 is seen by radiologist 3 at 93.36033739703858\n",
      "Event processed\n",
      "Image 7 is seen by radiologist 0 at 96.37315603870768\n",
      "Event processed\n",
      "Image 7 is done by radiologist 0 at 97.14768107458634\n",
      "Event processed\n",
      "Image 8 is seen by radiologist 2 at 97.19685013800262\n",
      "Event processed\n",
      "Image 6 is done by radiologist 3 at 98.63031388106923\n",
      "Event processed\n",
      "Image 9 is seen by radiologist 0 at 104.26103303637585\n",
      "Event processed\n",
      "Image 8 is done by radiologist 2 at 108.18434182954974\n",
      "Event processed\n",
      "Image 10 is seen by radiologist 3 at 109.03246323420127\n",
      "Event processed\n",
      "Image 10 is done by radiologist 3 at 110.69530298665993\n",
      "Event processed\n",
      "Image 9 is done by radiologist 0 at 112.1867185755326\n",
      "Event processed\n",
      "Image 11 is seen by radiologist 0 at 132.41195898644042\n",
      "Event processed\n",
      "Image 11 is done by radiologist 0 at 132.80907886594366\n",
      "Event processed\n",
      "Image 12 is seen by radiologist 1 at 139.22991240087077\n",
      "Event processed\n",
      "Image 13 is seen by radiologist 0 at 143.76934338435612\n",
      "Event processed\n",
      "Image 13 is done by radiologist 0 at 144.2194278937946\n",
      "Event processed\n",
      "Image 14 is seen by radiologist 4 at 144.6982323351767\n",
      "Event processed\n",
      "Image 14 is done by radiologist 4 at 144.95353122720502\n",
      "Event processed\n",
      "Image 12 is done by radiologist 1 at 152.6580390213731\n",
      "Event processed\n",
      "Stopped at 30\n",
      "Image 0 is seen by radiologist 0 at 1.7813443004570397\n",
      "Event processed\n",
      "Image 0 is done by radiologist 0 at 3.366474718203122\n",
      "Event processed\n",
      "Image 1 is seen by radiologist 0 at 9.314247649568514\n",
      "Event processed\n",
      "Image 1 is done by radiologist 0 at 10.001277153533115\n",
      "Event processed\n",
      "Image 2 is seen by radiologist 1 at 18.47774448430617\n",
      "Event processed\n",
      "Image 2 is done by radiologist 1 at 18.66521910851136\n",
      "Event processed\n",
      "Image 3 is seen by radiologist 0 at 25.130058795144045\n",
      "Event processed\n",
      "Image 4 is seen by radiologist 1 at 27.107047173560122\n",
      "Event processed\n",
      "Image 4 is done by radiologist 1 at 27.772532561698455\n",
      "Event processed\n",
      "Image 5 is seen by radiologist 1 at 28.575216026631928\n",
      "Event processed\n",
      "Image 3 is done by radiologist 0 at 29.362245994741777\n",
      "Event processed\n",
      "Image 5 is done by radiologist 1 at 30.406858842207445\n",
      "Event processed\n",
      "Image 6 is seen by radiologist 3 at 31.78736304060127\n",
      "Event processed\n",
      "Image 6 is done by radiologist 3 at 32.01130666627088\n",
      "Event processed\n",
      "Image 7 is seen by radiologist 1 at 35.77295736896166\n",
      "Event processed\n",
      "Image 7 is done by radiologist 1 at 36.576069769984315\n",
      "Event processed\n",
      "Image 8 is seen by radiologist 1 at 45.594246959704556\n",
      "Event processed\n",
      "Image 8 is done by radiologist 1 at 48.21819049613152\n",
      "Event processed\n",
      "Image 9 is seen by radiologist 1 at 53.28177200519656\n",
      "Event processed\n",
      "Image 9 is done by radiologist 1 at 54.729211247836304\n",
      "Event processed\n",
      "Image 10 is seen by radiologist 0 at 59.86755346083018\n",
      "Event processed\n",
      "Image 10 is done by radiologist 0 at 62.25347041706302\n",
      "Event processed\n",
      "Image 11 is seen by radiologist 0 at 63.17306702928284\n",
      "Event processed\n",
      "Image 11 is done by radiologist 0 at 63.29436902518011\n",
      "Event processed\n",
      "Image 12 is seen by radiologist 1 at 84.16011880916916\n",
      "Event processed\n",
      "Image 12 is done by radiologist 1 at 88.4798291818783\n",
      "Event processed\n",
      "Image 13 is seen by radiologist 1 at 89.01596133793844\n",
      "Event processed\n",
      "Image 13 is done by radiologist 1 at 89.64964500438467\n",
      "Event processed\n",
      "Image 14 is seen by radiologist 1 at 106.61460133499665\n",
      "Event processed\n",
      "Image 14 is done by radiologist 1 at 108.69677519590051\n",
      "Event processed\n",
      "Stopped at 30\n",
      "Image 0 is seen by radiologist 0 at 20.16063316081206\n",
      "Event processed\n",
      "Image 0 is done by radiologist 0 at 20.379295099869356\n",
      "Event processed\n",
      "Image 1 is seen by radiologist 0 at 22.496485905472934\n",
      "Event processed\n",
      "Image 2 is seen by radiologist 1 at 24.48563863166833\n",
      "Event processed\n",
      "Image 2 is done by radiologist 1 at 25.23391644428341\n",
      "Event processed\n",
      "Image 3 is seen by radiologist 2 at 30.856338812267275\n",
      "Event processed\n",
      "Image 3 is done by radiologist 2 at 37.102520646432254\n",
      "Event processed\n",
      "Image 1 is done by radiologist 0 at 39.77629323833903\n",
      "Event processed\n",
      "Image 4 is seen by radiologist 1 at 41.74605081587053\n",
      "Event processed\n",
      "Image 4 is done by radiologist 1 at 42.29615285367274\n",
      "Event processed\n",
      "Image 5 is seen by radiologist 0 at 74.49435548380518\n",
      "Event processed\n",
      "Image 6 is seen by radiologist 1 at 76.95787549896343\n",
      "Event processed\n",
      "Image 5 is done by radiologist 0 at 78.30457383459016\n",
      "Event processed\n",
      "Image 7 is seen by radiologist 0 at 79.45624059703681\n",
      "Event processed\n",
      "Image 8 is seen by radiologist 2 at 80.0776502087241\n",
      "Event processed\n",
      "Image 6 is done by radiologist 1 at 82.04786175449725\n",
      "Event processed\n",
      "Image 7 is done by radiologist 0 at 83.40452280807014\n",
      "Event processed\n",
      "Image 8 is done by radiologist 2 at 85.32705911345168\n",
      "Event processed\n",
      "Image 9 is seen by radiologist 1 at 92.58221264748843\n",
      "Event processed\n",
      "Image 9 is done by radiologist 1 at 92.92700100160772\n",
      "Event processed\n",
      "Image 10 is seen by radiologist 0 at 111.57690792309161\n",
      "Event processed\n",
      "Image 10 is done by radiologist 0 at 114.01143668110419\n",
      "Event processed\n",
      "Image 11 is seen by radiologist 0 at 143.9159563381183\n",
      "Event processed\n",
      "Image 11 is done by radiologist 0 at 149.06329040630763\n",
      "Event processed\n",
      "Image 12 is seen by radiologist 1 at 151.74532492218987\n",
      "Event processed\n",
      "Image 13 is seen by radiologist 0 at 152.4095447959177\n",
      "Event processed\n",
      "Image 12 is done by radiologist 1 at 154.7670055107037\n",
      "Event processed\n",
      "Image 13 is done by radiologist 0 at 158.74605805219048\n",
      "Event processed\n",
      "Image 14 is seen by radiologist 1 at 176.3716302127526\n",
      "Event processed\n",
      "Image 14 is done by radiologist 1 at 177.15980787802724\n",
      "Event processed\n",
      "Stopped at 30\n",
      "Image 0 is seen by radiologist 0 at 40.13267966847692\n",
      "Event processed\n",
      "Image 0 is done by radiologist 0 at 40.55393045553074\n",
      "Event processed\n",
      "Image 1 is seen by radiologist 1 at 44.373521546784005\n",
      "Event processed\n",
      "Image 1 is done by radiologist 1 at 47.79129944119033\n",
      "Event processed\n",
      "Image 2 is seen by radiologist 1 at 71.6242384613403\n",
      "Event processed\n",
      "Image 3 is seen by radiologist 2 at 89.67638105780712\n",
      "Event processed\n",
      "Image 3 is done by radiologist 2 at 93.3979397342616\n",
      "Event processed\n",
      "Image 4 is seen by radiologist 0 at 97.21640964856077\n",
      "Event processed\n",
      "Image 4 is done by radiologist 0 at 97.75991124619021\n",
      "Event processed\n",
      "Image 5 is seen by radiologist 3 at 98.05744917084833\n",
      "Event processed\n",
      "Image 2 is done by radiologist 1 at 99.34627494817668\n",
      "Event processed\n",
      "Image 5 is done by radiologist 3 at 100.28254615175004\n",
      "Event processed\n",
      "Image 6 is seen by radiologist 1 at 109.61819276978291\n",
      "Event processed\n",
      "Image 6 is done by radiologist 1 at 111.89672846710428\n",
      "Event processed\n",
      "Image 7 is seen by radiologist 1 at 129.81743874288676\n",
      "Event processed\n",
      "Image 7 is done by radiologist 1 at 129.96363544977368\n",
      "Event processed\n",
      "Image 8 is seen by radiologist 0 at 143.89301441772244\n",
      "Event processed\n",
      "Image 8 is done by radiologist 0 at 144.14468356215733\n",
      "Event processed\n",
      "Image 9 is seen by radiologist 0 at 148.01546730201727\n",
      "Event processed\n",
      "Image 9 is done by radiologist 0 at 148.77486732351693\n",
      "Event processed\n",
      "Image 10 is seen by radiologist 1 at 153.29597726015294\n",
      "Event processed\n",
      "Image 10 is done by radiologist 1 at 156.6188344552681\n",
      "Event processed\n",
      "Image 11 is seen by radiologist 0 at 157.5758331361703\n",
      "Event processed\n",
      "Image 11 is done by radiologist 0 at 160.61857690890082\n",
      "Event processed\n",
      "Image 12 is seen by radiologist 1 at 163.63063621661604\n",
      "Event processed\n",
      "Image 12 is done by radiologist 1 at 167.6285226629642\n",
      "Event processed\n",
      "Image 13 is seen by radiologist 0 at 172.96184286755079\n",
      "Event processed\n",
      "Image 13 is done by radiologist 0 at 175.7279558875027\n",
      "Event processed\n",
      "Image 14 is seen by radiologist 0 at 182.80500284510975\n",
      "Event processed\n",
      "Image 14 is done by radiologist 0 at 183.82524775968864\n",
      "Event processed\n",
      "Stopped at 30\n",
      "Image 0 is seen by radiologist 2 at 3.389357958314255\n",
      "Event processed\n",
      "Image 0 is done by radiologist 2 at 4.007512034330141\n",
      "Event processed\n",
      "Image 1 is seen by radiologist 2 at 7.291686907242463\n",
      "Event processed\n",
      "Image 1 is done by radiologist 2 at 9.978637484602315\n",
      "Event processed\n",
      "Image 2 is seen by radiologist 0 at 14.242360312818132\n",
      "Event processed\n",
      "Image 3 is seen by radiologist 1 at 22.018967674580605\n",
      "Event processed\n",
      "Image 2 is done by radiologist 0 at 24.67251513583839\n",
      "Event processed\n",
      "Image 4 is seen by radiologist 0 at 28.146622983844757\n",
      "Event processed\n",
      "Image 4 is done by radiologist 0 at 28.33371698757479\n",
      "Event processed\n",
      "Image 3 is done by radiologist 1 at 33.55728231614085\n",
      "Event processed\n",
      "Image 5 is seen by radiologist 0 at 36.114294569129534\n",
      "Event processed\n",
      "Image 5 is done by radiologist 0 at 38.79793227476078\n",
      "Event processed\n",
      "Image 6 is seen by radiologist 0 at 49.36468990914891\n",
      "Event processed\n",
      "Image 6 is done by radiologist 0 at 49.44413258521243\n",
      "Event processed\n",
      "Image 7 is seen by radiologist 0 at 50.372143253526495\n",
      "Event processed\n",
      "Image 8 is seen by radiologist 1 at 51.86018402248335\n",
      "Event processed\n",
      "Image 7 is done by radiologist 0 at 53.44201058925374\n",
      "Event processed\n",
      "Image 8 is done by radiologist 1 at 55.20921366680644\n",
      "Event processed\n",
      "Image 9 is seen by radiologist 0 at 56.36308662250385\n",
      "Event processed\n",
      "Image 9 is done by radiologist 0 at 61.87167262785271\n",
      "Event processed\n",
      "Image 10 is seen by radiologist 0 at 64.79716537591426\n",
      "Event processed\n",
      "Image 10 is done by radiologist 0 at 68.3490308568145\n",
      "Event processed\n",
      "Image 11 is seen by radiologist 1 at 77.24037087553026\n",
      "Event processed\n",
      "Image 11 is done by radiologist 1 at 79.68224626794597\n",
      "Event processed\n",
      "Image 12 is seen by radiologist 0 at 100.9031377264979\n",
      "Event processed\n",
      "Image 13 is seen by radiologist 1 at 105.14508347138195\n",
      "Event processed\n",
      "Image 14 is seen by radiologist 2 at 107.95084641994099\n",
      "Event processed\n",
      "Image 14 is done by radiologist 2 at 108.80825186363992\n",
      "Event processed\n",
      "Image 12 is done by radiologist 0 at 109.00007395481697\n",
      "Event processed\n",
      "Image 15 is seen by radiologist 0 at 109.51708778107323\n",
      "Event processed\n",
      "Stopped at 30\n",
      "Image 0 is seen by radiologist 0 at 3.3714095969730824\n",
      "Event processed\n",
      "Image 0 is done by radiologist 0 at 8.389011943195934\n",
      "Event processed\n",
      "Image 1 is seen by radiologist 0 at 34.11635495569855\n",
      "Event processed\n",
      "Image 1 is done by radiologist 0 at 34.30231615130588\n",
      "Event processed\n",
      "Image 2 is seen by radiologist 0 at 38.01972795644696\n",
      "Event processed\n",
      "Image 2 is done by radiologist 0 at 41.282299735740494\n",
      "Event processed\n",
      "Image 3 is seen by radiologist 0 at 71.64154862499971\n",
      "Event processed\n",
      "Image 3 is done by radiologist 0 at 72.99299959351839\n",
      "Event processed\n",
      "Image 4 is seen by radiologist 0 at 76.19863081030215\n",
      "Event processed\n",
      "Image 5 is seen by radiologist 1 at 78.26632917472782\n",
      "Event processed\n",
      "Image 6 is seen by radiologist 2 at 78.46943844521307\n",
      "Event processed\n",
      "Image 5 is done by radiologist 1 at 78.66704436633377\n",
      "Event processed\n",
      "Image 6 is done by radiologist 2 at 78.82879956021246\n",
      "Event processed\n",
      "Image 4 is done by radiologist 0 at 80.34066949690884\n",
      "Event processed\n",
      "Image 7 is seen by radiologist 0 at 116.1060626976508\n",
      "Event processed\n",
      "Image 8 is seen by radiologist 1 at 119.07818208000295\n",
      "Event processed\n",
      "Image 7 is done by radiologist 0 at 120.58253428454725\n",
      "Event processed\n",
      "Image 8 is done by radiologist 1 at 131.42889788418842\n",
      "Event processed\n",
      "Image 9 is seen by radiologist 0 at 133.70900693147252\n",
      "Event processed\n",
      "Image 9 is done by radiologist 0 at 142.2003281656098\n",
      "Event processed\n",
      "Image 10 is seen by radiologist 0 at 146.8090076182446\n",
      "Event processed\n",
      "Image 10 is done by radiologist 0 at 147.42018869625065\n",
      "Event processed\n",
      "Image 11 is seen by radiologist 0 at 149.66448111294423\n",
      "Event processed\n",
      "Image 11 is done by radiologist 0 at 150.37001738394926\n",
      "Event processed\n",
      "Image 12 is seen by radiologist 0 at 151.35339304474826\n",
      "Event processed\n",
      "Image 13 is seen by radiologist 1 at 153.41107553370642\n",
      "Event processed\n",
      "Image 13 is done by radiologist 1 at 153.47424529883435\n",
      "Event processed\n",
      "Image 12 is done by radiologist 0 at 153.52654749746864\n",
      "Event processed\n",
      "Image 14 is seen by radiologist 0 at 174.00052799205258\n",
      "Event processed\n",
      "Image 14 is done by radiologist 0 at 183.8830719915564\n",
      "Event processed\n",
      "Stopped at 30\n",
      "Image 0 is seen by radiologist 0 at 9.86719333479069\n",
      "Event processed\n",
      "Image 0 is done by radiologist 0 at 12.02451355410628\n",
      "Event processed\n",
      "Image 1 is seen by radiologist 0 at 20.935173981506757\n",
      "Event processed\n",
      "Image 1 is done by radiologist 0 at 25.625970220291503\n",
      "Event processed\n",
      "Image 2 is seen by radiologist 0 at 31.02498937006169\n",
      "Event processed\n",
      "Image 3 is seen by radiologist 1 at 31.462270802943188\n",
      "Event processed\n",
      "Image 2 is done by radiologist 0 at 31.658283273782423\n",
      "Event processed\n",
      "Image 4 is seen by radiologist 0 at 33.50801687235939\n",
      "Event processed\n",
      "Image 4 is done by radiologist 0 at 34.22227563494184\n",
      "Event processed\n",
      "Image 3 is done by radiologist 1 at 35.69863084452824\n",
      "Event processed\n",
      "Image 5 is seen by radiologist 0 at 46.20019640366131\n",
      "Event processed\n",
      "Image 6 is seen by radiologist 3 at 47.42708796048566\n",
      "Event processed\n",
      "Image 7 is seen by radiologist 4 at 48.251239683506064\n",
      "Event processed\n",
      "Image 7 is done by radiologist 4 at 48.90821183149226\n",
      "Event processed\n",
      "Image 5 is done by radiologist 0 at 51.843592660938974\n",
      "Event processed\n",
      "Image 8 is seen by radiologist 0 at 54.44558538262323\n",
      "Event processed\n",
      "Image 8 is done by radiologist 0 at 54.75868789204023\n",
      "Event processed\n",
      "Image 9 is seen by radiologist 0 at 55.243733989731965\n",
      "Event processed\n",
      "Image 9 is done by radiologist 0 at 55.66311276409365\n",
      "Event processed\n",
      "Image 6 is done by radiologist 3 at 59.129137053954835\n",
      "Event processed\n",
      "Image 10 is seen by radiologist 0 at 63.52527162306405\n",
      "Event processed\n",
      "Image 11 is seen by radiologist 1 at 83.80501782270045\n",
      "Event processed\n",
      "Image 10 is done by radiologist 0 at 89.10667116407215\n",
      "Event processed\n",
      "Image 11 is done by radiologist 1 at 89.97717869929366\n",
      "Event processed\n",
      "Image 12 is seen by radiologist 0 at 96.00101940378515\n",
      "Event processed\n",
      "Image 12 is done by radiologist 0 at 97.51362589360161\n",
      "Event processed\n",
      "Image 13 is seen by radiologist 0 at 117.41700934867794\n",
      "Event processed\n",
      "Image 14 is seen by radiologist 3 at 128.0180768402144\n",
      "Event processed\n",
      "Image 14 is done by radiologist 3 at 129.0698025395324\n",
      "Event processed\n",
      "Image 15 is seen by radiologist 1 at 131.10830675757413\n",
      "Event processed\n",
      "Stopped at 30\n",
      "Image 0 is seen by radiologist 0 at 7.1723744696294975\n",
      "Event processed\n",
      "Image 0 is done by radiologist 0 at 8.8215226757438\n",
      "Event processed\n",
      "Image 1 is seen by radiologist 1 at 21.779870119620973\n",
      "Event processed\n",
      "Image 1 is done by radiologist 1 at 25.891290163869165\n",
      "Event processed\n",
      "Image 2 is seen by radiologist 4 at 26.79091778681152\n",
      "Event processed\n",
      "Image 2 is done by radiologist 4 at 27.80752091670795\n",
      "Event processed\n",
      "Image 3 is seen by radiologist 0 at 40.317528495937644\n",
      "Event processed\n",
      "Image 3 is done by radiologist 0 at 40.33046113531568\n",
      "Event processed\n",
      "Image 4 is seen by radiologist 0 at 43.18374798384804\n",
      "Event processed\n",
      "Image 5 is seen by radiologist 2 at 45.10008186042381\n",
      "Event processed\n",
      "Image 5 is done by radiologist 2 at 45.947244967264055\n",
      "Event processed\n",
      "Image 4 is done by radiologist 0 at 46.84695008435575\n",
      "Event processed\n",
      "Image 6 is seen by radiologist 1 at 48.657143987762275\n",
      "Event processed\n",
      "Image 6 is done by radiologist 1 at 49.28463343739967\n",
      "Event processed\n",
      "Image 7 is seen by radiologist 0 at 67.53347520758001\n",
      "Event processed\n",
      "Image 8 is seen by radiologist 1 at 67.61492092959489\n",
      "Event processed\n",
      "Image 8 is done by radiologist 1 at 72.62086889881908\n",
      "Event processed\n",
      "Image 9 is seen by radiologist 2 at 73.35058050259731\n",
      "Event processed\n",
      "Image 7 is done by radiologist 0 at 73.7536350808204\n",
      "Event processed\n",
      "Image 9 is done by radiologist 2 at 73.97642768313106\n",
      "Event processed\n",
      "Image 10 is seen by radiologist 0 at 78.38761282911643\n",
      "Event processed\n",
      "Image 10 is done by radiologist 0 at 78.39098490324163\n",
      "Event processed\n",
      "Image 11 is seen by radiologist 0 at 97.71147090916972\n",
      "Event processed\n",
      "Image 12 is seen by radiologist 1 at 106.01822475108813\n",
      "Event processed\n",
      "Image 11 is done by radiologist 0 at 106.09466367499503\n",
      "Event processed\n",
      "Image 12 is done by radiologist 1 at 110.0800439930803\n",
      "Event processed\n",
      "Image 13 is seen by radiologist 0 at 112.12015218571501\n",
      "Event processed\n",
      "Image 13 is done by radiologist 0 at 112.55818598251744\n",
      "Event processed\n",
      "Image 14 is seen by radiologist 0 at 117.28230829305447\n",
      "Event processed\n",
      "Image 15 is seen by radiologist 4 at 123.46633712876177\n",
      "Event processed\n",
      "Stopped at 30\n"
     ]
    }
   ],
   "source": [
    "s_list = []\n",
    "for i in range(5,15):\n",
    "    s_list.append(sim(3, 10, i))"
   ]
  },
  {
   "cell_type": "code",
   "execution_count": 10,
   "id": "a2cea721",
   "metadata": {
    "ExecuteTime": {
     "end_time": "2022-09-20T20:55:13.813645Z",
     "start_time": "2022-09-20T20:55:13.626593Z"
    }
   },
   "outputs": [
    {
     "data": {
      "application/javascript": [
       "\n",
       "        if (window._pyforest_update_imports_cell) { window._pyforest_update_imports_cell('import matplotlib.pyplot as plt'); }\n",
       "    "
      ],
      "text/plain": [
       "<IPython.core.display.Javascript object>"
      ]
     },
     "metadata": {},
     "output_type": "display_data"
    },
    {
     "data": {
      "application/javascript": [
       "\n",
       "        if (window._pyforest_update_imports_cell) { window._pyforest_update_imports_cell('import matplotlib.pyplot as plt'); }\n",
       "    "
      ],
      "text/plain": [
       "<IPython.core.display.Javascript object>"
      ]
     },
     "metadata": {},
     "output_type": "display_data"
    },
    {
     "data": {
      "application/javascript": [
       "\n",
       "        if (window._pyforest_update_imports_cell) { window._pyforest_update_imports_cell('import matplotlib.pyplot as plt'); }\n",
       "    "
      ],
      "text/plain": [
       "<IPython.core.display.Javascript object>"
      ]
     },
     "metadata": {},
     "output_type": "display_data"
    },
    {
     "data": {
      "application/javascript": [
       "\n",
       "        if (window._pyforest_update_imports_cell) { window._pyforest_update_imports_cell('import matplotlib.pyplot as plt'); }\n",
       "    "
      ],
      "text/plain": [
       "<IPython.core.display.Javascript object>"
      ]
     },
     "metadata": {},
     "output_type": "display_data"
    },
    {
     "data": {
      "application/javascript": [
       "\n",
       "        if (window._pyforest_update_imports_cell) { window._pyforest_update_imports_cell('import matplotlib.pyplot as plt'); }\n",
       "    "
      ],
      "text/plain": [
       "<IPython.core.display.Javascript object>"
      ]
     },
     "metadata": {},
     "output_type": "display_data"
    },
    {
     "data": {
      "application/javascript": [
       "\n",
       "        if (window._pyforest_update_imports_cell) { window._pyforest_update_imports_cell('import matplotlib.pyplot as plt'); }\n",
       "    "
      ],
      "text/plain": [
       "<IPython.core.display.Javascript object>"
      ]
     },
     "metadata": {},
     "output_type": "display_data"
    },
    {
     "data": {
      "application/javascript": [
       "\n",
       "        if (window._pyforest_update_imports_cell) { window._pyforest_update_imports_cell('import matplotlib.pyplot as plt'); }\n",
       "    "
      ],
      "text/plain": [
       "<IPython.core.display.Javascript object>"
      ]
     },
     "metadata": {},
     "output_type": "display_data"
    },
    {
     "data": {
      "application/javascript": [
       "\n",
       "        if (window._pyforest_update_imports_cell) { window._pyforest_update_imports_cell('import matplotlib.pyplot as plt'); }\n",
       "    "
      ],
      "text/plain": [
       "<IPython.core.display.Javascript object>"
      ]
     },
     "metadata": {},
     "output_type": "display_data"
    },
    {
     "data": {
      "application/javascript": [
       "\n",
       "        if (window._pyforest_update_imports_cell) { window._pyforest_update_imports_cell('import matplotlib.pyplot as plt'); }\n",
       "    "
      ],
      "text/plain": [
       "<IPython.core.display.Javascript object>"
      ]
     },
     "metadata": {},
     "output_type": "display_data"
    },
    {
     "data": {
      "application/javascript": [
       "\n",
       "        if (window._pyforest_update_imports_cell) { window._pyforest_update_imports_cell('import matplotlib.pyplot as plt'); }\n",
       "    "
      ],
      "text/plain": [
       "<IPython.core.display.Javascript object>"
      ]
     },
     "metadata": {},
     "output_type": "display_data"
    },
    {
     "data": {
      "application/javascript": [
       "\n",
       "        if (window._pyforest_update_imports_cell) { window._pyforest_update_imports_cell('import matplotlib.pyplot as plt'); }\n",
       "    "
      ],
      "text/plain": [
       "<IPython.core.display.Javascript object>"
      ]
     },
     "metadata": {},
     "output_type": "display_data"
    },
    {
     "data": {
      "application/javascript": [
       "\n",
       "        if (window._pyforest_update_imports_cell) { window._pyforest_update_imports_cell('import matplotlib.pyplot as plt'); }\n",
       "    "
      ],
      "text/plain": [
       "<IPython.core.display.Javascript object>"
      ]
     },
     "metadata": {},
     "output_type": "display_data"
    },
    {
     "data": {
      "application/javascript": [
       "\n",
       "        if (window._pyforest_update_imports_cell) { window._pyforest_update_imports_cell('import matplotlib.pyplot as plt'); }\n",
       "    "
      ],
      "text/plain": [
       "<IPython.core.display.Javascript object>"
      ]
     },
     "metadata": {},
     "output_type": "display_data"
    },
    {
     "data": {
      "application/javascript": [
       "\n",
       "        if (window._pyforest_update_imports_cell) { window._pyforest_update_imports_cell('import matplotlib.pyplot as plt'); }\n",
       "    "
      ],
      "text/plain": [
       "<IPython.core.display.Javascript object>"
      ]
     },
     "metadata": {},
     "output_type": "display_data"
    },
    {
     "data": {
      "application/javascript": [
       "\n",
       "        if (window._pyforest_update_imports_cell) { window._pyforest_update_imports_cell('import matplotlib.pyplot as plt'); }\n",
       "    "
      ],
      "text/plain": [
       "<IPython.core.display.Javascript object>"
      ]
     },
     "metadata": {},
     "output_type": "display_data"
    },
    {
     "data": {
      "image/png": "[encoded data removed]",
      "text/plain": [
       "<Figure size 432x288 with 1 Axes>"
      ]
     },
     "metadata": {
      "needs_background": "light"
     },
     "output_type": "display_data"
    }
   ],
   "source": [
    "plt_mean_queue_length(s_list)"
   ]
  },
  {
   "cell_type": "code",
   "execution_count": 44,
   "id": "c6dc5eaa",
   "metadata": {
    "ExecuteTime": {
     "end_time": "2022-09-20T20:20:19.954811Z",
     "start_time": "2022-09-20T20:20:19.946814Z"
    }
   },
   "outputs": [
    {
     "data": {
      "text/plain": [
       "[<__main__.Radiologist at 0x2687b108108>,\n",
       " <__main__.Radiologist at 0x2687b121f88>,\n",
       " <__main__.Radiologist at 0x2687b121f48>,\n",
       " <__main__.Radiologist at 0x2687b1217c8>]"
      ]
     },
     "execution_count": 44,
     "metadata": {},
     "output_type": "execute_result"
    }
   ],
   "source": [
    "s1.rads"
   ]
  },
  {
   "cell_type": "code",
   "execution_count": 45,
   "id": "36510350",
   "metadata": {
    "ExecuteTime": {
     "end_time": "2022-09-20T20:20:21.283277Z",
     "start_time": "2022-09-20T20:20:21.266240Z"
    }
   },
   "outputs": [
    {
     "data": {
      "text/plain": [
       "[[<__main__.MedicalImage at 0x2687b148b48>, 11, 1, -3.545245248848776, 2, 2],\n",
       " [<__main__.MedicalImage at 0x2687ad79f08>, 17, 3, 4.450670171064846, 5, 7]]"
      ]
     },
     "execution_count": 45,
     "metadata": {},
     "output_type": "execute_result"
    }
   ],
   "source": [
    "s1.rads[3].queue_data"
   ]
  },
  {
   "cell_type": "code",
   "execution_count": 84,
   "id": "da2a5d7b",
   "metadata": {
    "ExecuteTime": {
     "end_time": "2022-04-01T17:15:19.231444Z",
     "start_time": "2022-04-01T17:15:19.227445Z"
    }
   },
   "outputs": [
    {
     "data": {
      "text/plain": [
       "[18, 1, 4.2422429058002145]"
      ]
     },
     "execution_count": 84,
     "metadata": {},
     "output_type": "execute_result"
    }
   ],
   "source": [
    "queue_stats"
   ]
  },
  {
   "cell_type": "code",
   "execution_count": 101,
   "id": "a31e0271",
   "metadata": {
    "ExecuteTime": {
     "end_time": "2022-03-17T17:32:50.985479Z",
     "start_time": "2022-03-17T17:32:50.980478Z"
    }
   },
   "outputs": [
    {
     "data": {
      "text/plain": [
       "'w'"
      ]
     },
     "execution_count": 101,
     "metadata": {},
     "output_type": "execute_result"
    }
   ],
   "source": [
    "event[1][2][0]"
   ]
  },
  {
   "cell_type": "code",
   "execution_count": 3,
   "id": "6f92a105",
   "metadata": {
    "ExecuteTime": {
     "end_time": "2022-09-22T01:51:14.381480Z",
     "start_time": "2022-09-22T01:51:14.368482Z"
    }
   },
   "outputs": [
    {
     "data": {
      "application/javascript": [
       "\n",
       "        if (window._pyforest_update_imports_cell) { window._pyforest_update_imports_cell('import pandas as pd'); }\n",
       "    "
      ],
      "text/plain": [
       "<IPython.core.display.Javascript object>"
      ]
     },
     "metadata": {},
     "output_type": "display_data"
    },
    {
     "data": {
      "text/html": [
       "<div>\n",
       "<style scoped>\n",
       "    .dataframe tbody tr th:only-of-type {\n",
       "        vertical-align: middle;\n",
       "    }\n",
       "\n",
       "    .dataframe tbody tr th {\n",
       "        vertical-align: top;\n",
       "    }\n",
       "\n",
       "    .dataframe thead th {\n",
       "        text-align: right;\n",
       "    }\n",
       "</style>\n",
       "<table border=\"1\" class=\"dataframe\">\n",
       "  <thead>\n",
       "    <tr style=\"text-align: right;\">\n",
       "      <th></th>\n",
       "      <th>0</th>\n",
       "      <th>1</th>\n",
       "      <th>2</th>\n",
       "      <th>3</th>\n",
       "    </tr>\n",
       "  </thead>\n",
       "  <tbody>\n",
       "    <tr>\n",
       "      <th>0</th>\n",
       "      <td>1</td>\n",
       "      <td>2</td>\n",
       "      <td>234</td>\n",
       "      <td>3</td>\n",
       "    </tr>\n",
       "  </tbody>\n",
       "</table>\n",
       "</div>"
      ],
      "text/plain": [
       "   0  1    2  3\n",
       "0  1  2  234  3"
      ]
     },
     "execution_count": 3,
     "metadata": {},
     "output_type": "execute_result"
    }
   ],
   "source": [
    "pd.DataFrame([1,2,234,3]).T"
   ]
  },
  {
   "cell_type": "code",
   "execution_count": null,
   "id": "5372f7a3",
   "metadata": {},
   "outputs": [],
   "source": []
  }
 ],
 "metadata": {
  "kernelspec": {
   "display_name": "Python 3",
   "language": "python",
   "name": "python3"
  },
  "language_info": {
   "codemirror_mode": {
    "name": "ipython",
    "version": 3
   },
   "file_extension": ".py",
   "mimetype": "text/x-python",
   "name": "python",
   "nbconvert_exporter": "python",
   "pygments_lexer": "ipython3",
   "version": "3.7.4"
  },
  "latex_envs": {
   "LaTeX_envs_menu_present": true,
   "autoclose": false,
   "autocomplete": true,
   "bibliofile": "biblio.bib",
   "cite_by": "apalike",
   "current_citInitial": 1,
   "eqLabelWithNumbers": true,
   "eqNumInitial": 1,
   "hotkeys": {
    "equation": "Ctrl-E",
    "itemize": "Ctrl-I"
   },
   "labels_anchors": false,
   "latex_user_defs": false,
   "report_style_numbering": false,
   "user_envs_cfg": false
  },
  "toc": {
   "base_numbering": 1,
   "nav_menu": {},
   "number_sections": true,
   "sideBar": true,
   "skip_h1_title": false,
   "title_cell": "Table of Contents",
   "title_sidebar": "Contents",
   "toc_cell": true,
   "toc_position": {},
   "toc_section_display": true,
   "toc_window_display": false
  },
  "varInspector": {
   "cols": {
    "lenName": 16,
    "lenType": 16,
    "lenVar": 40
   },
   "kernels_config": {
    "python": {
     "delete_cmd_postfix": "",
     "delete_cmd_prefix": "del ",
     "library": "var_list.py",
     "varRefreshCmd": "print(var_dic_list())"
    },
    "r": {
     "delete_cmd_postfix": ") ",
     "delete_cmd_prefix": "rm(",
     "library": "var_list.r",
     "varRefreshCmd": "cat(var_dic_list()) "
    }
   },
   "types_to_exclude": [
    "module",
    "function",
    "builtin_function_or_method",
    "instance",
    "_Feature"
   ],
   "window_display": false
  }
 },
 "nbformat": 4,
 "nbformat_minor": 5
}
