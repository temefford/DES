{
 "cells": [
  {
   "cell_type": "markdown",
   "id": "974fdf8d",
   "metadata": {
    "toc": true
   },
   "source": [
    "<h1>Table of Contents<span class=\"tocSkip\"></span></h1>\n",
    "<div class=\"toc\"><ul class=\"toc-item\"><li><span><a href=\"#To-DO\" data-toc-modified-id=\"To-DO-1\"><span class=\"toc-item-num\">1&nbsp;&nbsp;</span>To DO</a></span></li></ul></div>"
   ]
  },
  {
   "cell_type": "markdown",
   "id": "7e7397e1",
   "metadata": {},
   "source": [
    "## To DO\n",
    "- Urgency should reshuffle queue\n",
    "- Code to choose radiologists to send to\n",
    "-- Schema: send to 3"
   ]
  },
  {
   "cell_type": "markdown",
   "id": "54ffad60",
   "metadata": {},
   "source": [
    "Simplest model:\n",
    "1 hospital that generates medical images every 1 hour on average\n",
    "3 Radiologists\n",
    "2 Specialities "
   ]
  },
  {
   "cell_type": "code",
   "execution_count": 3,
   "id": "0e6949b4",
   "metadata": {
    "ExecuteTime": {
     "end_time": "2021-10-13T20:42:49.545294Z",
     "start_time": "2021-10-13T20:42:49.522298Z"
    }
   },
   "outputs": [],
   "source": [
    "import simpy\n",
    "import random\n",
    "from simpy.resources.resource import Resource, Request, Release\n",
    "from simpy.core import BoundClass\n",
    "from simpy.resources.base import BaseResource\n"
   ]
  },
  {
   "cell_type": "code",
   "execution_count": 63,
   "id": "75e1775b",
   "metadata": {
    "ExecuteTime": {
     "end_time": "2021-10-13T21:15:18.816436Z",
     "start_time": "2021-10-13T21:15:18.806436Z"
    }
   },
   "outputs": [],
   "source": [
    "env = simpy.Environment()   \n",
    "class G:\n",
    "    #modality_list = [\"Head\", \"Chest\", \"Spine\", \"Arms\", \"Legs\"]\n",
    "    image_types = {0: \"Cancer\",\n",
    "                     1: \"Broken Bone\"}#,\n",
    "                     #2: \"osteoporosis\",\n",
    "                     #3: \"Calcium Deficiency\"}\n",
    "    \n",
    "    Hospitals = {\"Parnassus\": \"San Francisco, CA\"}#,\n",
    "                #\"Kaiser\" : \"Berkeley, CA\",\n",
    "                #\"John Muir\" : \"Walnut Creek, CA\"}\n",
    "    \n",
    "    Radiologists = {\"John\" : [\"Broken Bone\"],\n",
    "                   \"Tom\" : [\"Cancer\"],\n",
    "                   \"Sally\" : [\"Cancer\", \"Broken Bone\"]}\n",
    "\n",
    "\n",
    "\n",
    "class MedicalImage(object):\n",
    "    \n",
    "    def __init__(self, env, hospital_name):#, modality, speciality, urgency, image_label):\n",
    "        self.env = env\n",
    "        #self.doctor = simpy.Resource(env, num_doctors)\n",
    "        self.origin = hospital_name\n",
    "        #self.modality = modality\n",
    "        self.speciality = self.create_type()\n",
    "        #self.urgency = urgency\n",
    "        #self.image_label = image_label\n",
    "\n",
    "    def send(self, radiologist):\n",
    "        with radiologist.request() as req:\n",
    "            # Wait in line\n",
    "            radiologist.add_to_line(radiologist)\n",
    "            yield req\n",
    "            \n",
    "    def create_type(self):\n",
    "        return G.image_types[random.randrange(len(G.image_types))]\n",
    "    \n",
    "    i = 0\n",
    "    # Create medical images while the simulation is running\n",
    "    while True:\n",
    "        yield env.timeout(np.random.exponential(arrival_rate))\n",
    "        i += 1\n",
    "        env.process(customer(env, 'Customer %d' % i, bank, data))\n",
    "            \n",
    "            \n",
    "class Hospital():\n",
    "    \n",
    "    def __init__(self, env, name, location, image_prod_rate):\n",
    "        self.env = env\n",
    "        self.name = name\n",
    "        self.location = location\n",
    "        self.origin = hospital\n",
    "        self.size = size\n",
    "        self.image_prod_rate = image_prod_rate\n",
    "        \n",
    "    def create_image(self, image_identifier):\n",
    "        modality = G.modality_list[random.randrange(len(G.image_types))]\n",
    "        med_image = MedicalImage(self.name, modality, speciality, urgency, image_label)\n",
    "        yield self.image_prod_rate\n",
    "        \n",
    "        \n",
    "def find_rads(med_image):\n",
    "    spec = med_image.speciality\n",
    "    matched_rads = []\n",
    "    for doc, specs in G.Radiologists.items():\n",
    "        if spec in specs:\n",
    "            matched_rads.append(doc)\n",
    "    return matched_rads\n",
    "\n",
    "\n",
    "def setup(env, num_tellers, servicetime, arrival_rate, data):\n",
    "    \"\"\"Create a hospital that creates medical images approx. every 60 minutes.\"\"\"\n",
    "    # Create the bank\n",
    "    for hosp_name, location in G.Hospitals.items():\n",
    "        hosp = Hospital(env, hosp_name, location, 60)\n",
    "    \n",
    "    \n",
    "\n"
   ]
  },
  {
   "cell_type": "code",
   "execution_count": 62,
   "id": "85bf25c8",
   "metadata": {
    "ExecuteTime": {
     "end_time": "2021-10-13T21:14:07.008102Z",
     "start_time": "2021-10-13T21:14:06.999103Z"
    }
   },
   "outputs": [
    {
     "name": "stdout",
     "output_type": "stream",
     "text": [
      "Parnassus\n"
     ]
    }
   ],
   "source": []
  },
  {
   "cell_type": "code",
   "execution_count": 50,
   "id": "bf822e0e",
   "metadata": {
    "ExecuteTime": {
     "end_time": "2021-10-13T21:09:56.518942Z",
     "start_time": "2021-10-13T21:09:56.509940Z"
    }
   },
   "outputs": [],
   "source": [
    "from simpy.resources.resource import Resource, Request, Release\n",
    "from simpy.core import BoundClass\n",
    "from simpy.resources.base import BaseResource\n",
    "\n",
    "\"\"\"\"\" First need to modify the resource code to allow change of number of agents\"\"\"\n",
    "class Radiologist(BaseResource):\n",
    "    def __init__(self, env, name, specialities, capacity=1):\n",
    "        super(Radiologist, self).__init__(env, capacity)\n",
    "        self.name = name\n",
    "        self.users = []\n",
    "        self.specialities = specialities\n",
    "        self.queue = self.put_queue\n",
    "\n",
    "    @property\n",
    "    def count(self):\n",
    "        return len(self.users)\n",
    "\n",
    "    request = BoundClass(Request)\n",
    "    release = BoundClass(Release)\n",
    "\n",
    "    def _do_put(self, event):\n",
    "        if len(self.users) < self.capacity:\n",
    "            self.users.append(event)\n",
    "            event.usage_since = self._env.now\n",
    "            event.succeed()\n",
    "\n",
    "    def _do_get(self, event):\n",
    "        try:\n",
    "            self.users.remove(event.request)\n",
    "        except ValueError:\n",
    "            pass\n",
    "        event.succeed()\n",
    "    \n",
    "    # This is the addition. If each resource had it's own queue then the handling of this change\n",
    "    # would be a bit messier depending on we decide the queue closes (redistribute costumers or finish in queue)\n",
    "    def _change_capacity(self, capacity):\n",
    "        self._capacity = capacity\n",
    "        #event.succeed()"
   ]
  },
  {
   "cell_type": "code",
   "execution_count": 51,
   "id": "0f929250",
   "metadata": {
    "ExecuteTime": {
     "end_time": "2021-10-13T21:09:57.359305Z",
     "start_time": "2021-10-13T21:09:57.352306Z"
    }
   },
   "outputs": [],
   "source": [
    "# Create Radiologists from global dictionary\n",
    "docs_list = []\n",
    "for doc, specs in G.Radiologists.items():\n",
    "    docs_list.append(Radiologist(env, doc, specs))"
   ]
  },
  {
   "cell_type": "code",
   "execution_count": 55,
   "id": "f3d96658",
   "metadata": {
    "ExecuteTime": {
     "end_time": "2021-10-13T21:10:54.225309Z",
     "start_time": "2021-10-13T21:10:54.214311Z"
    }
   },
   "outputs": [
    {
     "data": {
      "text/plain": [
       "('John', ['Broken Bone'])"
      ]
     },
     "execution_count": 55,
     "metadata": {},
     "output_type": "execute_result"
    }
   ],
   "source": [
    "docs_list[0].name, docs_list[0].specialities"
   ]
  },
  {
   "cell_type": "code",
   "execution_count": 14,
   "id": "652dbb24",
   "metadata": {
    "ExecuteTime": {
     "end_time": "2021-10-13T04:37:34.579392Z",
     "start_time": "2021-10-13T04:37:34.558394Z"
    }
   },
   "outputs": [],
   "source": [
    "def job(env, name, counters):\n",
    "    arrive = env.now\n",
    "    Qlength = {i: NoInSystem(counters[i]) for i in QueueSelector(d, counters)}\n",
    "    if doPrint:\n",
    "        print(\"%7.4f %s: Arrival \" % (arrive, name))\n",
    "    Queues.append({i: len(counters[i].put_queue) for i in range(len(counters))})\n",
    "    choice = [k for k, v in sorted(Qlength.items(), key=lambda a: a[1])][0]\n",
    "    with counters[choice].request() as req:\n",
    "        # Wait in queue\n",
    "        yield req\n",
    "        wait = env.now - arrive\n",
    "        # We got to the server\n",
    "        if doPrint:\n",
    "            print('%7.4f %s: Waited %6.3f' % (env.now, name, wait))\n",
    "        tib = random.expovariate(1.0 / timeInBank)\n",
    "        yield env.timeout(tib)\n",
    "        Queues.append({i: len(counters[i].put_queue) for i in range(len(counters))})\n",
    "        if doPrint:\n",
    "            print('%7.4f %s: Finished' % (env.now, name))"
   ]
  },
  {
   "cell_type": "code",
   "execution_count": null,
   "id": "449fb30b",
   "metadata": {},
   "outputs": [],
   "source": []
  },
  {
   "cell_type": "code",
   "execution_count": null,
   "id": "4e8303c9",
   "metadata": {},
   "outputs": [],
   "source": []
  }
 ],
 "metadata": {
  "kernelspec": {
   "display_name": "Python 3",
   "language": "python",
   "name": "python3"
  },
  "language_info": {
   "codemirror_mode": {
    "name": "ipython",
    "version": 3
   },
   "file_extension": ".py",
   "mimetype": "text/x-python",
   "name": "python",
   "nbconvert_exporter": "python",
   "pygments_lexer": "ipython3",
   "version": "3.7.10"
  },
  "latex_envs": {
   "LaTeX_envs_menu_present": true,
   "autoclose": false,
   "autocomplete": true,
   "bibliofile": "biblio.bib",
   "cite_by": "apalike",
   "current_citInitial": 1,
   "eqLabelWithNumbers": true,
   "eqNumInitial": 1,
   "hotkeys": {
    "equation": "Ctrl-E",
    "itemize": "Ctrl-I"
   },
   "labels_anchors": false,
   "latex_user_defs": false,
   "report_style_numbering": false,
   "user_envs_cfg": false
  },
  "toc": {
   "base_numbering": 1,
   "nav_menu": {},
   "number_sections": true,
   "sideBar": true,
   "skip_h1_title": false,
   "title_cell": "Table of Contents",
   "title_sidebar": "Contents",
   "toc_cell": true,
   "toc_position": {},
   "toc_section_display": true,
   "toc_window_display": false
  },
  "varInspector": {
   "cols": {
    "lenName": 16,
    "lenType": 16,
    "lenVar": 40
   },
   "kernels_config": {
    "python": {
     "delete_cmd_postfix": "",
     "delete_cmd_prefix": "del ",
     "library": "var_list.py",
     "varRefreshCmd": "print(var_dic_list())"
    },
    "r": {
     "delete_cmd_postfix": ") ",
     "delete_cmd_prefix": "rm(",
     "library": "var_list.r",
     "varRefreshCmd": "cat(var_dic_list()) "
    }
   },
   "types_to_exclude": [
    "module",
    "function",
    "builtin_function_or_method",
    "instance",
    "_Feature"
   ],
   "window_display": false
  }
 },
 "nbformat": 4,
 "nbformat_minor": 5
}
